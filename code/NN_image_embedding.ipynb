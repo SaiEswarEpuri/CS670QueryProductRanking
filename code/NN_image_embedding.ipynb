{
 "cells": [
  {
   "cell_type": "code",
   "execution_count": 1,
   "metadata": {
    "ExecuteTime": {
     "end_time": "2019-04-27T21:42:00.909482Z",
     "start_time": "2019-04-27T21:41:59.735412Z"
    }
   },
   "outputs": [
    {
     "name": "stderr",
     "output_type": "stream",
     "text": [
      "/home/janardhan/anaconda3/envs/dl/lib/python3.5/site-packages/h5py/__init__.py:34: FutureWarning: Conversion of the second argument of issubdtype from `float` to `np.floating` is deprecated. In future, it will be treated as `np.float64 == np.dtype(float).type`.\n",
      "  from ._conv import register_converters as _register_converters\n",
      "Using TensorFlow backend.\n"
     ]
    }
   ],
   "source": [
    "import numpy as np\n",
    "import pandas as pd\n",
    "import matplotlib\n",
    "import os\n",
    "from keras.layers import Input, BatchNormalization, Concatenate, Dense, GlobalAveragePooling2D, Dropout, concatenate\n",
    "from keras.models import Model\n",
    "from keras.optimizers import Adam\n",
    "from keras import backend as K\n",
    "from keras import regularizers\n",
    "from keras.callbacks import ModelCheckpoint, ReduceLROnPlateau, EarlyStopping, History, TensorBoard\n",
    "from numpy import array, argmax\n",
    "from pickle import load, dump"
   ]
  },
  {
   "cell_type": "code",
   "execution_count": 2,
   "metadata": {
    "ExecuteTime": {
     "end_time": "2019-04-27T21:42:03.639272Z",
     "start_time": "2019-04-27T21:42:03.573988Z"
    },
    "collapsed": true
   },
   "outputs": [],
   "source": [
    "def load_descriptions(filename):\n",
    "        # load all descriptions\n",
    "    dataset = load(open(filename, 'rb'))\n",
    "    if not dataset:\n",
    "        print(\"Fialed to load descriptions\")\n",
    "        sys.exit(1)\n",
    "    return dataset\n",
    "\n",
    "# load photo features\n",
    "\n",
    "\n",
    "def load_photo_features(filename, images):\n",
    "        # load all features\n",
    "    all_features = load(open(filename, 'rb'))\n",
    "    # filter features\n",
    "    features = {k: all_features[str(k)] for k in images}\n",
    "    return features"
   ]
  },
  {
   "cell_type": "code",
   "execution_count": 3,
   "metadata": {
    "ExecuteTime": {
     "end_time": "2019-04-27T21:42:05.924162Z",
     "start_time": "2019-04-27T21:42:05.840601Z"
    }
   },
   "outputs": [
    {
     "name": "stdout",
     "output_type": "stream",
     "text": [
      "Photos: train=5659\n"
     ]
    }
   ],
   "source": [
    "train_descriptions = load_descriptions('data/train_descriptions.pkl')\n",
    "train_features = load_photo_features(\n",
    "    'data/image_data.pkl', train_descriptions.keys())\n",
    "print('Photos: train=%d' % len(train_features))"
   ]
  },
  {
   "cell_type": "code",
   "execution_count": 4,
   "metadata": {
    "ExecuteTime": {
     "end_time": "2019-04-27T21:42:07.256525Z",
     "start_time": "2019-04-27T21:42:07.178787Z"
    }
   },
   "outputs": [
    {
     "name": "stdout",
     "output_type": "stream",
     "text": [
      "Photos: test=1544\n"
     ]
    }
   ],
   "source": [
    "test_descriptions = load_descriptions('data/test_descriptions.pkl')\n",
    "test_features = load_photo_features(\n",
    "    'data/image_data.pkl', test_descriptions.keys())\n",
    "print('Photos: test=%d' % len(test_features))"
   ]
  },
  {
   "cell_type": "code",
   "execution_count": 5,
   "metadata": {
    "ExecuteTime": {
     "end_time": "2019-04-27T21:44:10.052852Z",
     "start_time": "2019-04-27T21:44:10.048349Z"
    }
   },
   "outputs": [],
   "source": [
    "train_descriptor = np.load('train_descr_100.npy')\n",
    "test_descriptor = np.load('test_descr_100.npy')"
   ]
  },
  {
   "cell_type": "code",
   "execution_count": 63,
   "metadata": {
    "ExecuteTime": {
     "end_time": "2019-04-27T22:31:20.785812Z",
     "start_time": "2019-04-27T22:31:20.780128Z"
    },
    "collapsed": true
   },
   "outputs": [],
   "source": [
    "train_product_id = np.load('new_train_product_id.npy')\n",
    "test_product_id = np.load('new_test_product_id.npy')"
   ]
  },
  {
   "cell_type": "code",
   "execution_count": 72,
   "metadata": {
    "ExecuteTime": {
     "end_time": "2019-04-27T22:35:21.603262Z",
     "start_time": "2019-04-27T22:35:21.599943Z"
    }
   },
   "outputs": [
    {
     "data": {
      "text/plain": [
       "(711162629, 5659)"
      ]
     },
     "execution_count": 72,
     "metadata": {},
     "output_type": "execute_result"
    }
   ],
   "source": [
    "train_product_id[0], len(train_features.keys())"
   ]
  },
  {
   "cell_type": "code",
   "execution_count": 62,
   "metadata": {
    "ExecuteTime": {
     "end_time": "2019-04-27T22:31:14.036991Z",
     "start_time": "2019-04-27T22:31:14.032854Z"
    }
   },
   "outputs": [
    {
     "data": {
      "text/plain": [
       "((5659,), (1544,), 5659, 1544)"
      ]
     },
     "execution_count": 62,
     "metadata": {},
     "output_type": "execute_result"
    }
   ],
   "source": [
    "train_product_id.shape, test_product_id.shape, len(train_features), len(test_features)"
   ]
  },
  {
   "cell_type": "code",
   "execution_count": 73,
   "metadata": {
    "ExecuteTime": {
     "end_time": "2019-04-27T22:36:20.842648Z",
     "start_time": "2019-04-27T22:36:20.823084Z"
    }
   },
   "outputs": [],
   "source": [
    "train_image_list = []\n",
    "for i in train_product_id:\n",
    "    if i in train_features.keys():\n",
    "        train_image_list.append(train_features[i])\n",
    "    elif i in test_features.keys():\n",
    "        train_image_list.append(test_features[i])\n",
    "    else:\n",
    "        print('i')\n",
    "train_image_list = np.array(train_image_list)"
   ]
  },
  {
   "cell_type": "code",
   "execution_count": 74,
   "metadata": {
    "ExecuteTime": {
     "end_time": "2019-04-27T22:36:23.328844Z",
     "start_time": "2019-04-27T22:36:23.325211Z"
    }
   },
   "outputs": [
    {
     "data": {
      "text/plain": [
       "5659"
      ]
     },
     "execution_count": 74,
     "metadata": {},
     "output_type": "execute_result"
    }
   ],
   "source": [
    "len(train_image_list)"
   ]
  },
  {
   "cell_type": "code",
   "execution_count": 75,
   "metadata": {
    "ExecuteTime": {
     "end_time": "2019-04-27T22:36:26.298874Z",
     "start_time": "2019-04-27T22:36:26.288303Z"
    },
    "collapsed": true
   },
   "outputs": [],
   "source": [
    "test_image_list = []\n",
    "for i in test_product_id:\n",
    "    if i in train_features.keys():\n",
    "        test_image_list.append(train_features[i])\n",
    "    elif i in test_features.keys():\n",
    "        test_image_list.append(test_features[i])\n",
    "    else:\n",
    "        print('i')\n",
    "test_image_list = np.array(test_image_list)  "
   ]
  },
  {
   "cell_type": "code",
   "execution_count": 77,
   "metadata": {
    "ExecuteTime": {
     "end_time": "2019-04-27T22:36:34.996342Z",
     "start_time": "2019-04-27T22:36:34.993187Z"
    }
   },
   "outputs": [
    {
     "data": {
      "text/plain": [
       "(1544, 1000)"
      ]
     },
     "execution_count": 77,
     "metadata": {},
     "output_type": "execute_result"
    }
   ],
   "source": [
    "test_image_list.shape"
   ]
  },
  {
   "cell_type": "code",
   "execution_count": 7,
   "metadata": {
    "ExecuteTime": {
     "end_time": "2019-04-27T21:44:12.484146Z",
     "start_time": "2019-04-27T21:44:12.475278Z"
    },
    "collapsed": true
   },
   "outputs": [],
   "source": [
    "train_product_map = np.load('product_id_final_train.npy')\n",
    "test_product_map = np.load('product_id_final_test.npy')"
   ]
  },
  {
   "cell_type": "code",
   "execution_count": 8,
   "metadata": {
    "ExecuteTime": {
     "end_time": "2019-04-27T21:44:13.041405Z",
     "start_time": "2019-04-27T21:44:13.004508Z"
    },
    "collapsed": true
   },
   "outputs": [],
   "source": [
    "train_image_data = []\n",
    "for i in train_product_map:\n",
    "    train_image_data.append(train_features[i])\n",
    "train_image_data = np.array(train_image_data)"
   ]
  },
  {
   "cell_type": "code",
   "execution_count": 9,
   "metadata": {
    "ExecuteTime": {
     "end_time": "2019-04-27T21:44:13.481083Z",
     "start_time": "2019-04-27T21:44:13.462894Z"
    },
    "collapsed": true
   },
   "outputs": [],
   "source": [
    "test_image_data = []\n",
    "for i in test_product_map:\n",
    "    test_image_data.append(test_features[i])\n",
    "test_image_data = np.array(test_image_data)"
   ]
  },
  {
   "cell_type": "code",
   "execution_count": 10,
   "metadata": {
    "ExecuteTime": {
     "end_time": "2019-04-27T21:44:14.766900Z",
     "start_time": "2019-04-27T21:44:14.759300Z"
    }
   },
   "outputs": [
    {
     "data": {
      "text/plain": [
       "((5659, 1000), (1544, 1000))"
      ]
     },
     "execution_count": 10,
     "metadata": {},
     "output_type": "execute_result"
    }
   ],
   "source": [
    "train_image_data.shape, test_image_data.shape"
   ]
  },
  {
   "cell_type": "code",
   "execution_count": 84,
   "metadata": {
    "ExecuteTime": {
     "end_time": "2019-04-27T22:58:48.908466Z",
     "start_time": "2019-04-27T22:58:48.891474Z"
    },
    "collapsed": true
   },
   "outputs": [],
   "source": [
    "np.save('train_image_features',train_image_data)\n",
    "np.save('test_image_features',test_image_data)"
   ]
  },
  {
   "cell_type": "code",
   "execution_count": 11,
   "metadata": {
    "ExecuteTime": {
     "end_time": "2019-04-27T21:44:15.426351Z",
     "start_time": "2019-04-27T21:44:15.423010Z"
    }
   },
   "outputs": [
    {
     "data": {
      "text/plain": [
       "((5659, 100), (1544, 100))"
      ]
     },
     "execution_count": 11,
     "metadata": {},
     "output_type": "execute_result"
    }
   ],
   "source": [
    "train_descriptor.shape, test_descriptor.shape"
   ]
  },
  {
   "cell_type": "code",
   "execution_count": 12,
   "metadata": {
    "ExecuteTime": {
     "end_time": "2019-04-27T21:44:17.919978Z",
     "start_time": "2019-04-27T21:44:17.914911Z"
    },
    "collapsed": true
   },
   "outputs": [],
   "source": [
    "D = 1000 # embedding dimension\n",
    "H = 300 # no.of hidden layer nodes"
   ]
  },
  {
   "cell_type": "code",
   "execution_count": 13,
   "metadata": {
    "ExecuteTime": {
     "end_time": "2019-04-27T21:44:18.339747Z",
     "start_time": "2019-04-27T21:44:18.252041Z"
    }
   },
   "outputs": [],
   "source": [
    "inp1 = Input(shape=( D,))\n",
    "x1 = Dense(H,activation='relu')(inp1)\n",
    "\n",
    "x4 = Dense(200,activation='relu')(x1)\n",
    "x4 = Dense(150,activation='relu')(x4)\n",
    "x4 = Dense(125,activation='relu')(x4)\n",
    "#x4 = Dropout(0.5)(x4)\n",
    "final_x = Dense(100)(x4)"
   ]
  },
  {
   "cell_type": "code",
   "execution_count": 14,
   "metadata": {
    "ExecuteTime": {
     "end_time": "2019-04-27T21:44:20.032872Z",
     "start_time": "2019-04-27T21:44:20.030334Z"
    },
    "collapsed": true
   },
   "outputs": [],
   "source": [
    "model = Model(inputs=inp1, outputs=final_x)"
   ]
  },
  {
   "cell_type": "code",
   "execution_count": 15,
   "metadata": {
    "ExecuteTime": {
     "end_time": "2019-04-27T21:44:20.949528Z",
     "start_time": "2019-04-27T21:44:20.945337Z"
    }
   },
   "outputs": [
    {
     "name": "stdout",
     "output_type": "stream",
     "text": [
      "_________________________________________________________________\n",
      "Layer (type)                 Output Shape              Param #   \n",
      "=================================================================\n",
      "input_1 (InputLayer)         (None, 1000)              0         \n",
      "_________________________________________________________________\n",
      "dense_1 (Dense)              (None, 300)               300300    \n",
      "_________________________________________________________________\n",
      "dense_2 (Dense)              (None, 200)               60200     \n",
      "_________________________________________________________________\n",
      "dense_3 (Dense)              (None, 150)               30150     \n",
      "_________________________________________________________________\n",
      "dense_4 (Dense)              (None, 125)               18875     \n",
      "_________________________________________________________________\n",
      "dense_5 (Dense)              (None, 100)               12600     \n",
      "=================================================================\n",
      "Total params: 422,125\n",
      "Trainable params: 422,125\n",
      "Non-trainable params: 0\n",
      "_________________________________________________________________\n"
     ]
    }
   ],
   "source": [
    "model.summary()"
   ]
  },
  {
   "cell_type": "code",
   "execution_count": 16,
   "metadata": {
    "ExecuteTime": {
     "end_time": "2019-04-27T21:44:22.928737Z",
     "start_time": "2019-04-27T21:44:22.926007Z"
    },
    "collapsed": true
   },
   "outputs": [],
   "source": [
    "def root_mean_squared_error(y_true, y_pred):\n",
    "        return K.sqrt(K.mean(K.square(y_pred - y_true)))"
   ]
  },
  {
   "cell_type": "code",
   "execution_count": 17,
   "metadata": {
    "ExecuteTime": {
     "end_time": "2019-04-27T21:44:24.629522Z",
     "start_time": "2019-04-27T21:44:24.591571Z"
    },
    "collapsed": true
   },
   "outputs": [],
   "source": [
    "model.compile(loss=root_mean_squared_error,\n",
    "              optimizer=Adam(lr=0.0001),\n",
    "              metrics=['mse','mae'])"
   ]
  },
  {
   "cell_type": "code",
   "execution_count": 18,
   "metadata": {
    "ExecuteTime": {
     "end_time": "2019-04-27T21:28:54.242209Z",
     "start_time": "2019-04-27T21:28:54.171125Z"
    },
    "collapsed": true
   },
   "outputs": [],
   "source": [
    "from sklearn.utils import shuffle\n",
    "train_descriptor, train_image_data = shuffle(train_descriptor, train_image_data)"
   ]
  },
  {
   "cell_type": "code",
   "execution_count": 19,
   "metadata": {
    "ExecuteTime": {
     "end_time": "2019-04-27T21:28:54.338970Z",
     "start_time": "2019-04-27T21:28:54.243638Z"
    },
    "collapsed": true
   },
   "outputs": [],
   "source": [
    "# validation"
   ]
  },
  {
   "cell_type": "code",
   "execution_count": 20,
   "metadata": {
    "ExecuteTime": {
     "end_time": "2019-04-27T21:28:54.460782Z",
     "start_time": "2019-04-27T21:28:54.343067Z"
    },
    "collapsed": true
   },
   "outputs": [],
   "source": [
    "train_valid_split = 5000"
   ]
  },
  {
   "cell_type": "code",
   "execution_count": 21,
   "metadata": {
    "ExecuteTime": {
     "end_time": "2019-04-27T21:28:54.583305Z",
     "start_time": "2019-04-27T21:28:54.464935Z"
    }
   },
   "outputs": [],
   "source": [
    "valid_descriptor = train_descriptor[train_valid_split:]\n",
    "valid_image_data = train_image_data[train_valid_split:]"
   ]
  },
  {
   "cell_type": "code",
   "execution_count": 22,
   "metadata": {
    "ExecuteTime": {
     "end_time": "2019-04-27T21:28:54.694445Z",
     "start_time": "2019-04-27T21:28:54.587233Z"
    },
    "collapsed": true
   },
   "outputs": [],
   "source": [
    "train_descriptor = train_descriptor[:train_valid_split]\n",
    "train_image_data = train_image_data[:train_valid_split]"
   ]
  },
  {
   "cell_type": "code",
   "execution_count": 23,
   "metadata": {
    "ExecuteTime": {
     "end_time": "2019-04-27T21:28:54.817251Z",
     "start_time": "2019-04-27T21:28:54.699098Z"
    },
    "collapsed": true
   },
   "outputs": [],
   "source": [
    "checkpointer = ModelCheckpoint(filepath='NN_best_1.hdf5', verbose=1, save_best_only=True, save_weights_only=True)\n",
    "reduceLR = ReduceLROnPlateau(monitor='val_loss', factor=0.1, patience=20, min_lr=0)\n",
    "earlystopping = EarlyStopping(monitor='val_loss', patience=30)\n"
   ]
  },
  {
   "cell_type": "code",
   "execution_count": 24,
   "metadata": {
    "ExecuteTime": {
     "end_time": "2019-04-27T21:30:27.314402Z",
     "start_time": "2019-04-27T21:28:54.821981Z"
    },
    "scrolled": true
   },
   "outputs": [
    {
     "name": "stdout",
     "output_type": "stream",
     "text": [
      "Train on 5000 samples, validate on 659 samples\n",
      "Epoch 1/100\n",
      " - 2s - loss: 0.7731 - mean_squared_error: 0.6034 - mean_absolute_error: 0.5862 - val_loss: 0.7320 - val_mean_squared_error: 0.5410 - val_mean_absolute_error: 0.5498\n",
      "\n",
      "Epoch 00001: val_loss improved from inf to 0.73199, saving model to NN_best_1.hdf5\n",
      "Epoch 2/100\n",
      " - 1s - loss: 0.7498 - mean_squared_error: 0.5666 - mean_absolute_error: 0.5656 - val_loss: 0.7292 - val_mean_squared_error: 0.5369 - val_mean_absolute_error: 0.5475\n",
      "\n",
      "Epoch 00002: val_loss improved from 0.73199 to 0.72920, saving model to NN_best_1.hdf5\n",
      "Epoch 3/100\n",
      " - 1s - loss: 0.7440 - mean_squared_error: 0.5583 - mean_absolute_error: 0.5614 - val_loss: 0.7228 - val_mean_squared_error: 0.5275 - val_mean_absolute_error: 0.5429\n",
      "\n",
      "Epoch 00003: val_loss improved from 0.72920 to 0.72276, saving model to NN_best_1.hdf5\n",
      "Epoch 4/100\n",
      " - 1s - loss: 0.7362 - mean_squared_error: 0.5465 - mean_absolute_error: 0.5558 - val_loss: 0.7162 - val_mean_squared_error: 0.5179 - val_mean_absolute_error: 0.5383\n",
      "\n",
      "Epoch 00004: val_loss improved from 0.72276 to 0.71622, saving model to NN_best_1.hdf5\n",
      "Epoch 5/100\n",
      " - 1s - loss: 0.7305 - mean_squared_error: 0.5374 - mean_absolute_error: 0.5517 - val_loss: 0.7117 - val_mean_squared_error: 0.5114 - val_mean_absolute_error: 0.5354\n",
      "\n",
      "Epoch 00005: val_loss improved from 0.71622 to 0.71175, saving model to NN_best_1.hdf5\n",
      "Epoch 6/100\n",
      " - 1s - loss: 0.7253 - mean_squared_error: 0.5305 - mean_absolute_error: 0.5484 - val_loss: 0.7084 - val_mean_squared_error: 0.5065 - val_mean_absolute_error: 0.5338\n",
      "\n",
      "Epoch 00006: val_loss improved from 0.71175 to 0.70838, saving model to NN_best_1.hdf5\n",
      "Epoch 7/100\n",
      " - 1s - loss: 0.7217 - mean_squared_error: 0.5248 - mean_absolute_error: 0.5457 - val_loss: 0.7058 - val_mean_squared_error: 0.5027 - val_mean_absolute_error: 0.5328\n",
      "\n",
      "Epoch 00007: val_loss improved from 0.70838 to 0.70579, saving model to NN_best_1.hdf5\n",
      "Epoch 8/100\n",
      " - 1s - loss: 0.7184 - mean_squared_error: 0.5201 - mean_absolute_error: 0.5436 - val_loss: 0.7035 - val_mean_squared_error: 0.4995 - val_mean_absolute_error: 0.5309\n",
      "\n",
      "Epoch 00008: val_loss improved from 0.70579 to 0.70351, saving model to NN_best_1.hdf5\n",
      "Epoch 9/100\n",
      " - 1s - loss: 0.7157 - mean_squared_error: 0.5163 - mean_absolute_error: 0.5418 - val_loss: 0.7021 - val_mean_squared_error: 0.4975 - val_mean_absolute_error: 0.5300\n",
      "\n",
      "Epoch 00009: val_loss improved from 0.70351 to 0.70207, saving model to NN_best_1.hdf5\n",
      "Epoch 10/100\n",
      " - 1s - loss: 0.7136 - mean_squared_error: 0.5131 - mean_absolute_error: 0.5402 - val_loss: 0.7012 - val_mean_squared_error: 0.4962 - val_mean_absolute_error: 0.5301\n",
      "\n",
      "Epoch 00010: val_loss improved from 0.70207 to 0.70125, saving model to NN_best_1.hdf5\n",
      "Epoch 11/100\n",
      " - 1s - loss: 0.7115 - mean_squared_error: 0.5104 - mean_absolute_error: 0.5389 - val_loss: 0.6998 - val_mean_squared_error: 0.4941 - val_mean_absolute_error: 0.5287\n",
      "\n",
      "Epoch 00011: val_loss improved from 0.70125 to 0.69975, saving model to NN_best_1.hdf5\n",
      "Epoch 12/100\n",
      " - 1s - loss: 0.7100 - mean_squared_error: 0.5081 - mean_absolute_error: 0.5378 - val_loss: 0.6991 - val_mean_squared_error: 0.4932 - val_mean_absolute_error: 0.5280\n",
      "\n",
      "Epoch 00012: val_loss improved from 0.69975 to 0.69907, saving model to NN_best_1.hdf5\n",
      "Epoch 13/100\n",
      " - 1s - loss: 0.7086 - mean_squared_error: 0.5061 - mean_absolute_error: 0.5367 - val_loss: 0.6980 - val_mean_squared_error: 0.4916 - val_mean_absolute_error: 0.5275\n",
      "\n",
      "Epoch 00013: val_loss improved from 0.69907 to 0.69800, saving model to NN_best_1.hdf5\n",
      "Epoch 14/100\n",
      " - 1s - loss: 0.7074 - mean_squared_error: 0.5042 - mean_absolute_error: 0.5358 - val_loss: 0.6978 - val_mean_squared_error: 0.4914 - val_mean_absolute_error: 0.5274\n",
      "\n",
      "Epoch 00014: val_loss improved from 0.69800 to 0.69781, saving model to NN_best_1.hdf5\n",
      "Epoch 15/100\n",
      " - 1s - loss: 0.7060 - mean_squared_error: 0.5026 - mean_absolute_error: 0.5350 - val_loss: 0.6973 - val_mean_squared_error: 0.4906 - val_mean_absolute_error: 0.5271\n",
      "\n",
      "Epoch 00015: val_loss improved from 0.69781 to 0.69731, saving model to NN_best_1.hdf5\n",
      "Epoch 16/100\n",
      " - 1s - loss: 0.7054 - mean_squared_error: 0.5012 - mean_absolute_error: 0.5342 - val_loss: 0.6971 - val_mean_squared_error: 0.4903 - val_mean_absolute_error: 0.5268\n",
      "\n",
      "Epoch 00016: val_loss improved from 0.69731 to 0.69707, saving model to NN_best_1.hdf5\n",
      "Epoch 17/100\n",
      " - 1s - loss: 0.7042 - mean_squared_error: 0.4998 - mean_absolute_error: 0.5336 - val_loss: 0.6962 - val_mean_squared_error: 0.4892 - val_mean_absolute_error: 0.5259\n",
      "\n",
      "Epoch 00017: val_loss improved from 0.69707 to 0.69621, saving model to NN_best_1.hdf5\n",
      "Epoch 18/100\n",
      " - 1s - loss: 0.7033 - mean_squared_error: 0.4986 - mean_absolute_error: 0.5330 - val_loss: 0.6963 - val_mean_squared_error: 0.4892 - val_mean_absolute_error: 0.5263\n",
      "\n",
      "Epoch 00018: val_loss did not improve from 0.69621\n",
      "Epoch 19/100\n",
      " - 1s - loss: 0.7024 - mean_squared_error: 0.4974 - mean_absolute_error: 0.5324 - val_loss: 0.6956 - val_mean_squared_error: 0.4882 - val_mean_absolute_error: 0.5258\n",
      "\n",
      "Epoch 00019: val_loss improved from 0.69621 to 0.69559, saving model to NN_best_1.hdf5\n",
      "Epoch 20/100\n",
      " - 1s - loss: 0.7018 - mean_squared_error: 0.4962 - mean_absolute_error: 0.5319 - val_loss: 0.6954 - val_mean_squared_error: 0.4879 - val_mean_absolute_error: 0.5257\n",
      "\n",
      "Epoch 00020: val_loss improved from 0.69559 to 0.69540, saving model to NN_best_1.hdf5\n",
      "Epoch 21/100\n",
      " - 1s - loss: 0.7013 - mean_squared_error: 0.4952 - mean_absolute_error: 0.5314 - val_loss: 0.6952 - val_mean_squared_error: 0.4876 - val_mean_absolute_error: 0.5255\n",
      "\n",
      "Epoch 00021: val_loss improved from 0.69540 to 0.69517, saving model to NN_best_1.hdf5\n",
      "Epoch 22/100\n",
      " - 1s - loss: 0.7001 - mean_squared_error: 0.4941 - mean_absolute_error: 0.5307 - val_loss: 0.6954 - val_mean_squared_error: 0.4879 - val_mean_absolute_error: 0.5259\n",
      "\n",
      "Epoch 00022: val_loss did not improve from 0.69517\n",
      "Epoch 23/100\n",
      " - 1s - loss: 0.6995 - mean_squared_error: 0.4932 - mean_absolute_error: 0.5304 - val_loss: 0.6957 - val_mean_squared_error: 0.4883 - val_mean_absolute_error: 0.5261\n",
      "\n",
      "Epoch 00023: val_loss did not improve from 0.69517\n",
      "Epoch 24/100\n",
      " - 1s - loss: 0.6992 - mean_squared_error: 0.4923 - mean_absolute_error: 0.5298 - val_loss: 0.6951 - val_mean_squared_error: 0.4875 - val_mean_absolute_error: 0.5257\n",
      "\n",
      "Epoch 00024: val_loss improved from 0.69517 to 0.69509, saving model to NN_best_1.hdf5\n",
      "Epoch 25/100\n",
      " - 1s - loss: 0.6982 - mean_squared_error: 0.4913 - mean_absolute_error: 0.5294 - val_loss: 0.6950 - val_mean_squared_error: 0.4873 - val_mean_absolute_error: 0.5255\n",
      "\n",
      "Epoch 00025: val_loss improved from 0.69509 to 0.69499, saving model to NN_best_1.hdf5\n",
      "Epoch 26/100\n",
      " - 1s - loss: 0.6977 - mean_squared_error: 0.4904 - mean_absolute_error: 0.5289 - val_loss: 0.6952 - val_mean_squared_error: 0.4876 - val_mean_absolute_error: 0.5261\n",
      "\n",
      "Epoch 00026: val_loss did not improve from 0.69499\n",
      "Epoch 27/100\n",
      " - 1s - loss: 0.6969 - mean_squared_error: 0.4896 - mean_absolute_error: 0.5286 - val_loss: 0.6948 - val_mean_squared_error: 0.4871 - val_mean_absolute_error: 0.5255\n",
      "\n",
      "Epoch 00027: val_loss improved from 0.69499 to 0.69482, saving model to NN_best_1.hdf5\n",
      "Epoch 28/100\n",
      " - 1s - loss: 0.6963 - mean_squared_error: 0.4888 - mean_absolute_error: 0.5281 - val_loss: 0.6953 - val_mean_squared_error: 0.4878 - val_mean_absolute_error: 0.5258\n",
      "\n",
      "Epoch 00028: val_loss did not improve from 0.69482\n",
      "Epoch 29/100\n",
      " - 1s - loss: 0.6957 - mean_squared_error: 0.4879 - mean_absolute_error: 0.5277 - val_loss: 0.6950 - val_mean_squared_error: 0.4873 - val_mean_absolute_error: 0.5258\n",
      "\n",
      "Epoch 00029: val_loss did not improve from 0.69482\n",
      "Epoch 30/100\n",
      " - 1s - loss: 0.6954 - mean_squared_error: 0.4872 - mean_absolute_error: 0.5273 - val_loss: 0.6950 - val_mean_squared_error: 0.4873 - val_mean_absolute_error: 0.5257\n",
      "\n",
      "Epoch 00030: val_loss did not improve from 0.69482\n",
      "Epoch 31/100\n",
      " - 1s - loss: 0.6947 - mean_squared_error: 0.4863 - mean_absolute_error: 0.5269 - val_loss: 0.6956 - val_mean_squared_error: 0.4882 - val_mean_absolute_error: 0.5262\n",
      "\n",
      "Epoch 00031: val_loss did not improve from 0.69482\n",
      "Epoch 32/100\n",
      " - 1s - loss: 0.6940 - mean_squared_error: 0.4856 - mean_absolute_error: 0.5266 - val_loss: 0.6952 - val_mean_squared_error: 0.4876 - val_mean_absolute_error: 0.5260\n"
     ]
    },
    {
     "name": "stdout",
     "output_type": "stream",
     "text": [
      "\n",
      "Epoch 00032: val_loss did not improve from 0.69482\n",
      "Epoch 33/100\n",
      " - 1s - loss: 0.6939 - mean_squared_error: 0.4849 - mean_absolute_error: 0.5261 - val_loss: 0.6954 - val_mean_squared_error: 0.4879 - val_mean_absolute_error: 0.5263\n",
      "\n",
      "Epoch 00033: val_loss did not improve from 0.69482\n",
      "Epoch 34/100\n",
      " - 1s - loss: 0.6931 - mean_squared_error: 0.4842 - mean_absolute_error: 0.5258 - val_loss: 0.6954 - val_mean_squared_error: 0.4878 - val_mean_absolute_error: 0.5263\n",
      "\n",
      "Epoch 00034: val_loss did not improve from 0.69482\n",
      "Epoch 35/100\n",
      " - 1s - loss: 0.6929 - mean_squared_error: 0.4835 - mean_absolute_error: 0.5255 - val_loss: 0.6952 - val_mean_squared_error: 0.4876 - val_mean_absolute_error: 0.5261\n",
      "\n",
      "Epoch 00035: val_loss did not improve from 0.69482\n",
      "Epoch 36/100\n",
      " - 1s - loss: 0.6921 - mean_squared_error: 0.4828 - mean_absolute_error: 0.5251 - val_loss: 0.6954 - val_mean_squared_error: 0.4879 - val_mean_absolute_error: 0.5264\n",
      "\n",
      "Epoch 00036: val_loss did not improve from 0.69482\n",
      "Epoch 37/100\n",
      " - 1s - loss: 0.6917 - mean_squared_error: 0.4821 - mean_absolute_error: 0.5248 - val_loss: 0.6957 - val_mean_squared_error: 0.4883 - val_mean_absolute_error: 0.5270\n",
      "\n",
      "Epoch 00037: val_loss did not improve from 0.69482\n",
      "Epoch 38/100\n",
      " - 1s - loss: 0.6912 - mean_squared_error: 0.4813 - mean_absolute_error: 0.5244 - val_loss: 0.6952 - val_mean_squared_error: 0.4877 - val_mean_absolute_error: 0.5258\n",
      "\n",
      "Epoch 00038: val_loss did not improve from 0.69482\n",
      "Epoch 39/100\n",
      " - 1s - loss: 0.6906 - mean_squared_error: 0.4808 - mean_absolute_error: 0.5241 - val_loss: 0.6954 - val_mean_squared_error: 0.4878 - val_mean_absolute_error: 0.5265\n",
      "\n",
      "Epoch 00039: val_loss did not improve from 0.69482\n",
      "Epoch 40/100\n",
      " - 1s - loss: 0.6901 - mean_squared_error: 0.4801 - mean_absolute_error: 0.5237 - val_loss: 0.6959 - val_mean_squared_error: 0.4886 - val_mean_absolute_error: 0.5269\n",
      "\n",
      "Epoch 00040: val_loss did not improve from 0.69482\n",
      "Epoch 41/100\n",
      " - 1s - loss: 0.6899 - mean_squared_error: 0.4794 - mean_absolute_error: 0.5233 - val_loss: 0.6954 - val_mean_squared_error: 0.4879 - val_mean_absolute_error: 0.5264\n",
      "\n",
      "Epoch 00041: val_loss did not improve from 0.69482\n",
      "Epoch 42/100\n",
      " - 1s - loss: 0.6892 - mean_squared_error: 0.4787 - mean_absolute_error: 0.5230 - val_loss: 0.6961 - val_mean_squared_error: 0.4888 - val_mean_absolute_error: 0.5270\n",
      "\n",
      "Epoch 00042: val_loss did not improve from 0.69482\n",
      "Epoch 43/100\n",
      " - 1s - loss: 0.6888 - mean_squared_error: 0.4782 - mean_absolute_error: 0.5228 - val_loss: 0.6960 - val_mean_squared_error: 0.4887 - val_mean_absolute_error: 0.5272\n",
      "\n",
      "Epoch 00043: val_loss did not improve from 0.69482\n",
      "Epoch 44/100\n",
      " - 1s - loss: 0.6884 - mean_squared_error: 0.4774 - mean_absolute_error: 0.5223 - val_loss: 0.6956 - val_mean_squared_error: 0.4882 - val_mean_absolute_error: 0.5265\n",
      "\n",
      "Epoch 00044: val_loss did not improve from 0.69482\n",
      "Epoch 45/100\n",
      " - 1s - loss: 0.6877 - mean_squared_error: 0.4768 - mean_absolute_error: 0.5221 - val_loss: 0.6959 - val_mean_squared_error: 0.4885 - val_mean_absolute_error: 0.5270\n",
      "\n",
      "Epoch 00045: val_loss did not improve from 0.69482\n",
      "Epoch 46/100\n",
      " - 1s - loss: 0.6876 - mean_squared_error: 0.4763 - mean_absolute_error: 0.5218 - val_loss: 0.6962 - val_mean_squared_error: 0.4889 - val_mean_absolute_error: 0.5272\n",
      "\n",
      "Epoch 00046: val_loss did not improve from 0.69482\n",
      "Epoch 47/100\n",
      " - 1s - loss: 0.6875 - mean_squared_error: 0.4758 - mean_absolute_error: 0.5215 - val_loss: 0.6962 - val_mean_squared_error: 0.4890 - val_mean_absolute_error: 0.5275\n",
      "\n",
      "Epoch 00047: val_loss did not improve from 0.69482\n",
      "Epoch 48/100\n",
      " - 1s - loss: 0.6865 - mean_squared_error: 0.4751 - mean_absolute_error: 0.5212 - val_loss: 0.6959 - val_mean_squared_error: 0.4887 - val_mean_absolute_error: 0.5265\n",
      "\n",
      "Epoch 00048: val_loss did not improve from 0.69482\n",
      "Epoch 49/100\n",
      " - 1s - loss: 0.6863 - mean_squared_error: 0.4747 - mean_absolute_error: 0.5210 - val_loss: 0.6964 - val_mean_squared_error: 0.4892 - val_mean_absolute_error: 0.5276\n",
      "\n",
      "Epoch 00049: val_loss did not improve from 0.69482\n",
      "Epoch 50/100\n",
      " - 1s - loss: 0.6856 - mean_squared_error: 0.4739 - mean_absolute_error: 0.5205 - val_loss: 0.6966 - val_mean_squared_error: 0.4895 - val_mean_absolute_error: 0.5276\n",
      "\n",
      "Epoch 00050: val_loss did not improve from 0.69482\n",
      "Epoch 51/100\n",
      " - 1s - loss: 0.6856 - mean_squared_error: 0.4733 - mean_absolute_error: 0.5203 - val_loss: 0.6968 - val_mean_squared_error: 0.4898 - val_mean_absolute_error: 0.5281\n",
      "\n",
      "Epoch 00051: val_loss did not improve from 0.69482\n",
      "Epoch 52/100\n",
      " - 1s - loss: 0.6848 - mean_squared_error: 0.4728 - mean_absolute_error: 0.5199 - val_loss: 0.6964 - val_mean_squared_error: 0.4893 - val_mean_absolute_error: 0.5276\n",
      "\n",
      "Epoch 00052: val_loss did not improve from 0.69482\n",
      "Epoch 53/100\n",
      " - 1s - loss: 0.6847 - mean_squared_error: 0.4722 - mean_absolute_error: 0.5197 - val_loss: 0.6968 - val_mean_squared_error: 0.4898 - val_mean_absolute_error: 0.5277\n",
      "\n",
      "Epoch 00053: val_loss did not improve from 0.69482\n",
      "Epoch 54/100\n",
      " - 1s - loss: 0.6841 - mean_squared_error: 0.4716 - mean_absolute_error: 0.5193 - val_loss: 0.6965 - val_mean_squared_error: 0.4894 - val_mean_absolute_error: 0.5276\n",
      "\n",
      "Epoch 00054: val_loss did not improve from 0.69482\n",
      "Epoch 55/100\n",
      " - 1s - loss: 0.6838 - mean_squared_error: 0.4711 - mean_absolute_error: 0.5191 - val_loss: 0.6962 - val_mean_squared_error: 0.4890 - val_mean_absolute_error: 0.5270\n",
      "\n",
      "Epoch 00055: val_loss did not improve from 0.69482\n",
      "Epoch 56/100\n",
      " - 1s - loss: 0.6830 - mean_squared_error: 0.4706 - mean_absolute_error: 0.5189 - val_loss: 0.6970 - val_mean_squared_error: 0.4901 - val_mean_absolute_error: 0.5281\n",
      "\n",
      "Epoch 00056: val_loss did not improve from 0.69482\n",
      "Epoch 57/100\n",
      " - 1s - loss: 0.6831 - mean_squared_error: 0.4700 - mean_absolute_error: 0.5185 - val_loss: 0.6969 - val_mean_squared_error: 0.4899 - val_mean_absolute_error: 0.5281\n",
      "\n",
      "Epoch 00057: val_loss did not improve from 0.69482\n",
      "Epoch 58/100\n",
      " - 1s - loss: 0.6823 - mean_squared_error: 0.4695 - mean_absolute_error: 0.5183 - val_loss: 0.6980 - val_mean_squared_error: 0.4916 - val_mean_absolute_error: 0.5289\n",
      "\n",
      "Epoch 00058: val_loss did not improve from 0.69482\n",
      "Epoch 59/100\n",
      " - 1s - loss: 0.6822 - mean_squared_error: 0.4689 - mean_absolute_error: 0.5180 - val_loss: 0.6969 - val_mean_squared_error: 0.4899 - val_mean_absolute_error: 0.5280\n",
      "\n",
      "Epoch 00059: val_loss did not improve from 0.69482\n",
      "Epoch 60/100\n",
      " - 1s - loss: 0.6815 - mean_squared_error: 0.4682 - mean_absolute_error: 0.5175 - val_loss: 0.6974 - val_mean_squared_error: 0.4907 - val_mean_absolute_error: 0.5283\n",
      "\n",
      "Epoch 00060: val_loss did not improve from 0.69482\n",
      "Epoch 61/100\n",
      " - 1s - loss: 0.6814 - mean_squared_error: 0.4677 - mean_absolute_error: 0.5173 - val_loss: 0.6975 - val_mean_squared_error: 0.4908 - val_mean_absolute_error: 0.5286\n",
      "\n",
      "Epoch 00061: val_loss did not improve from 0.69482\n",
      "Epoch 62/100\n",
      " - 1s - loss: 0.6810 - mean_squared_error: 0.4672 - mean_absolute_error: 0.5171 - val_loss: 0.6975 - val_mean_squared_error: 0.4908 - val_mean_absolute_error: 0.5285\n",
      "\n",
      "Epoch 00062: val_loss did not improve from 0.69482\n",
      "Epoch 63/100\n",
      " - 1s - loss: 0.6808 - mean_squared_error: 0.4667 - mean_absolute_error: 0.5168 - val_loss: 0.6981 - val_mean_squared_error: 0.4917 - val_mean_absolute_error: 0.5290\n",
      "\n",
      "Epoch 00063: val_loss did not improve from 0.69482\n",
      "Epoch 64/100\n",
      " - 1s - loss: 0.6802 - mean_squared_error: 0.4660 - mean_absolute_error: 0.5164 - val_loss: 0.6979 - val_mean_squared_error: 0.4914 - val_mean_absolute_error: 0.5289\n",
      "\n",
      "Epoch 00064: val_loss did not improve from 0.69482\n",
      "Epoch 65/100\n",
      " - 1s - loss: 0.6797 - mean_squared_error: 0.4657 - mean_absolute_error: 0.5163 - val_loss: 0.6981 - val_mean_squared_error: 0.4917 - val_mean_absolute_error: 0.5289\n",
      "\n",
      "Epoch 00065: val_loss did not improve from 0.69482\n",
      "Epoch 66/100\n",
      " - 1s - loss: 0.6796 - mean_squared_error: 0.4652 - mean_absolute_error: 0.5160 - val_loss: 0.6980 - val_mean_squared_error: 0.4916 - val_mean_absolute_error: 0.5290\n",
      "\n",
      "Epoch 00066: val_loss did not improve from 0.69482\n",
      "Epoch 67/100\n",
      " - 1s - loss: 0.6793 - mean_squared_error: 0.4645 - mean_absolute_error: 0.5157 - val_loss: 0.6987 - val_mean_squared_error: 0.4926 - val_mean_absolute_error: 0.5295\n",
      "\n",
      "Epoch 00067: val_loss did not improve from 0.69482\n",
      "Epoch 68/100\n",
      " - 1s - loss: 0.6785 - mean_squared_error: 0.4642 - mean_absolute_error: 0.5156 - val_loss: 0.6989 - val_mean_squared_error: 0.4927 - val_mean_absolute_error: 0.5295\n"
     ]
    },
    {
     "name": "stdout",
     "output_type": "stream",
     "text": [
      "\n",
      "Epoch 00068: val_loss did not improve from 0.69482\n",
      "Epoch 69/100\n",
      " - 1s - loss: 0.6788 - mean_squared_error: 0.4636 - mean_absolute_error: 0.5152 - val_loss: 0.6997 - val_mean_squared_error: 0.4939 - val_mean_absolute_error: 0.5306\n",
      "\n",
      "Epoch 00069: val_loss did not improve from 0.69482\n",
      "Epoch 70/100\n",
      " - 1s - loss: 0.6780 - mean_squared_error: 0.4632 - mean_absolute_error: 0.5149 - val_loss: 0.6988 - val_mean_squared_error: 0.4927 - val_mean_absolute_error: 0.5297\n",
      "\n",
      "Epoch 00070: val_loss did not improve from 0.69482\n",
      "Epoch 71/100\n",
      " - 1s - loss: 0.6773 - mean_squared_error: 0.4626 - mean_absolute_error: 0.5147 - val_loss: 0.6989 - val_mean_squared_error: 0.4928 - val_mean_absolute_error: 0.5295\n",
      "\n",
      "Epoch 00071: val_loss did not improve from 0.69482\n",
      "Epoch 72/100\n",
      " - 1s - loss: 0.6773 - mean_squared_error: 0.4621 - mean_absolute_error: 0.5143 - val_loss: 0.6985 - val_mean_squared_error: 0.4922 - val_mean_absolute_error: 0.5291\n",
      "\n",
      "Epoch 00072: val_loss did not improve from 0.69482\n",
      "Epoch 73/100\n",
      " - 1s - loss: 0.6771 - mean_squared_error: 0.4615 - mean_absolute_error: 0.5141 - val_loss: 0.6996 - val_mean_squared_error: 0.4937 - val_mean_absolute_error: 0.5302\n",
      "\n",
      "Epoch 00073: val_loss did not improve from 0.69482\n",
      "Epoch 74/100\n",
      " - 1s - loss: 0.6764 - mean_squared_error: 0.4610 - mean_absolute_error: 0.5138 - val_loss: 0.6994 - val_mean_squared_error: 0.4935 - val_mean_absolute_error: 0.5298\n",
      "\n",
      "Epoch 00074: val_loss did not improve from 0.69482\n",
      "Epoch 75/100\n",
      " - 1s - loss: 0.6758 - mean_squared_error: 0.4605 - mean_absolute_error: 0.5136 - val_loss: 0.6991 - val_mean_squared_error: 0.4931 - val_mean_absolute_error: 0.5294\n",
      "\n",
      "Epoch 00075: val_loss did not improve from 0.69482\n",
      "Epoch 76/100\n",
      " - 1s - loss: 0.6757 - mean_squared_error: 0.4601 - mean_absolute_error: 0.5133 - val_loss: 0.7005 - val_mean_squared_error: 0.4950 - val_mean_absolute_error: 0.5312\n",
      "\n",
      "Epoch 00076: val_loss did not improve from 0.69482\n",
      "Epoch 77/100\n",
      " - 1s - loss: 0.6750 - mean_squared_error: 0.4596 - mean_absolute_error: 0.5130 - val_loss: 0.7003 - val_mean_squared_error: 0.4947 - val_mean_absolute_error: 0.5309\n",
      "\n",
      "Epoch 00077: val_loss did not improve from 0.69482\n",
      "Epoch 78/100\n",
      " - 1s - loss: 0.6753 - mean_squared_error: 0.4591 - mean_absolute_error: 0.5128 - val_loss: 0.6994 - val_mean_squared_error: 0.4936 - val_mean_absolute_error: 0.5296\n",
      "\n",
      "Epoch 00078: val_loss did not improve from 0.69482\n",
      "Epoch 79/100\n",
      " - 1s - loss: 0.6749 - mean_squared_error: 0.4586 - mean_absolute_error: 0.5125 - val_loss: 0.7002 - val_mean_squared_error: 0.4947 - val_mean_absolute_error: 0.5306\n",
      "\n",
      "Epoch 00079: val_loss did not improve from 0.69482\n",
      "Epoch 80/100\n",
      " - 1s - loss: 0.6743 - mean_squared_error: 0.4581 - mean_absolute_error: 0.5123 - val_loss: 0.7012 - val_mean_squared_error: 0.4961 - val_mean_absolute_error: 0.5315\n",
      "\n",
      "Epoch 00080: val_loss did not improve from 0.69482\n",
      "Epoch 81/100\n",
      " - 1s - loss: 0.6739 - mean_squared_error: 0.4577 - mean_absolute_error: 0.5120 - val_loss: 0.7001 - val_mean_squared_error: 0.4946 - val_mean_absolute_error: 0.5304\n",
      "\n",
      "Epoch 00081: val_loss did not improve from 0.69482\n",
      "Epoch 82/100\n",
      " - 1s - loss: 0.6733 - mean_squared_error: 0.4570 - mean_absolute_error: 0.5117 - val_loss: 0.7013 - val_mean_squared_error: 0.4961 - val_mean_absolute_error: 0.5315\n",
      "\n",
      "Epoch 00082: val_loss did not improve from 0.69482\n",
      "Epoch 83/100\n",
      " - 1s - loss: 0.6734 - mean_squared_error: 0.4567 - mean_absolute_error: 0.5116 - val_loss: 0.7008 - val_mean_squared_error: 0.4956 - val_mean_absolute_error: 0.5310\n",
      "\n",
      "Epoch 00083: val_loss did not improve from 0.69482\n",
      "Epoch 84/100\n",
      " - 1s - loss: 0.6728 - mean_squared_error: 0.4562 - mean_absolute_error: 0.5113 - val_loss: 0.7008 - val_mean_squared_error: 0.4955 - val_mean_absolute_error: 0.5310\n",
      "\n",
      "Epoch 00084: val_loss did not improve from 0.69482\n",
      "Epoch 85/100\n",
      " - 1s - loss: 0.6724 - mean_squared_error: 0.4557 - mean_absolute_error: 0.5109 - val_loss: 0.7014 - val_mean_squared_error: 0.4963 - val_mean_absolute_error: 0.5316\n",
      "\n",
      "Epoch 00085: val_loss did not improve from 0.69482\n",
      "Epoch 86/100\n",
      " - 1s - loss: 0.6724 - mean_squared_error: 0.4551 - mean_absolute_error: 0.5107 - val_loss: 0.7016 - val_mean_squared_error: 0.4967 - val_mean_absolute_error: 0.5317\n",
      "\n",
      "Epoch 00086: val_loss did not improve from 0.69482\n",
      "Epoch 87/100\n",
      " - 1s - loss: 0.6721 - mean_squared_error: 0.4548 - mean_absolute_error: 0.5104 - val_loss: 0.7021 - val_mean_squared_error: 0.4973 - val_mean_absolute_error: 0.5319\n",
      "\n",
      "Epoch 00087: val_loss did not improve from 0.69482\n",
      "Epoch 88/100\n",
      " - 1s - loss: 0.6715 - mean_squared_error: 0.4543 - mean_absolute_error: 0.5104 - val_loss: 0.7021 - val_mean_squared_error: 0.4972 - val_mean_absolute_error: 0.5322\n",
      "\n",
      "Epoch 00088: val_loss did not improve from 0.69482\n",
      "Epoch 89/100\n",
      " - 1s - loss: 0.6711 - mean_squared_error: 0.4536 - mean_absolute_error: 0.5098 - val_loss: 0.7015 - val_mean_squared_error: 0.4966 - val_mean_absolute_error: 0.5316\n",
      "\n",
      "Epoch 00089: val_loss did not improve from 0.69482\n",
      "Epoch 90/100\n",
      " - 1s - loss: 0.6705 - mean_squared_error: 0.4533 - mean_absolute_error: 0.5097 - val_loss: 0.7022 - val_mean_squared_error: 0.4975 - val_mean_absolute_error: 0.5319\n",
      "\n",
      "Epoch 00090: val_loss did not improve from 0.69482\n",
      "Epoch 91/100\n",
      " - 1s - loss: 0.6704 - mean_squared_error: 0.4527 - mean_absolute_error: 0.5093 - val_loss: 0.7029 - val_mean_squared_error: 0.4984 - val_mean_absolute_error: 0.5329\n",
      "\n",
      "Epoch 00091: val_loss did not improve from 0.69482\n",
      "Epoch 92/100\n",
      " - 1s - loss: 0.6697 - mean_squared_error: 0.4524 - mean_absolute_error: 0.5093 - val_loss: 0.7024 - val_mean_squared_error: 0.4978 - val_mean_absolute_error: 0.5320\n",
      "\n",
      "Epoch 00092: val_loss did not improve from 0.69482\n",
      "Epoch 93/100\n",
      " - 1s - loss: 0.6699 - mean_squared_error: 0.4520 - mean_absolute_error: 0.5090 - val_loss: 0.7031 - val_mean_squared_error: 0.4987 - val_mean_absolute_error: 0.5326\n",
      "\n",
      "Epoch 00093: val_loss did not improve from 0.69482\n",
      "Epoch 94/100\n",
      " - 1s - loss: 0.6695 - mean_squared_error: 0.4516 - mean_absolute_error: 0.5088 - val_loss: 0.7033 - val_mean_squared_error: 0.4991 - val_mean_absolute_error: 0.5326\n",
      "\n",
      "Epoch 00094: val_loss did not improve from 0.69482\n",
      "Epoch 95/100\n",
      " - 1s - loss: 0.6690 - mean_squared_error: 0.4511 - mean_absolute_error: 0.5085 - val_loss: 0.7033 - val_mean_squared_error: 0.4991 - val_mean_absolute_error: 0.5326\n",
      "\n",
      "Epoch 00095: val_loss did not improve from 0.69482\n",
      "Epoch 96/100\n",
      " - 1s - loss: 0.6686 - mean_squared_error: 0.4506 - mean_absolute_error: 0.5083 - val_loss: 0.7032 - val_mean_squared_error: 0.4989 - val_mean_absolute_error: 0.5325\n",
      "\n",
      "Epoch 00096: val_loss did not improve from 0.69482\n",
      "Epoch 97/100\n",
      " - 1s - loss: 0.6684 - mean_squared_error: 0.4500 - mean_absolute_error: 0.5079 - val_loss: 0.7038 - val_mean_squared_error: 0.4998 - val_mean_absolute_error: 0.5334\n",
      "\n",
      "Epoch 00097: val_loss did not improve from 0.69482\n",
      "Epoch 98/100\n",
      " - 1s - loss: 0.6682 - mean_squared_error: 0.4498 - mean_absolute_error: 0.5079 - val_loss: 0.7039 - val_mean_squared_error: 0.5000 - val_mean_absolute_error: 0.5333\n",
      "\n",
      "Epoch 00098: val_loss did not improve from 0.69482\n",
      "Epoch 99/100\n",
      " - 1s - loss: 0.6679 - mean_squared_error: 0.4493 - mean_absolute_error: 0.5075 - val_loss: 0.7043 - val_mean_squared_error: 0.5005 - val_mean_absolute_error: 0.5334\n",
      "\n",
      "Epoch 00099: val_loss did not improve from 0.69482\n",
      "Epoch 100/100\n",
      " - 1s - loss: 0.6671 - mean_squared_error: 0.4487 - mean_absolute_error: 0.5073 - val_loss: 0.7039 - val_mean_squared_error: 0.4999 - val_mean_absolute_error: 0.5332\n",
      "\n",
      "Epoch 00100: val_loss did not improve from 0.69482\n"
     ]
    },
    {
     "data": {
      "text/plain": [
       "<keras.callbacks.History at 0x7f59a79ca1d0>"
      ]
     },
     "execution_count": 24,
     "metadata": {},
     "output_type": "execute_result"
    }
   ],
   "source": [
    "model.fit(train_image_data,train_descriptor, epochs=100, verbose=2,\n",
    "          validation_data=(valid_image_data, valid_descriptor), batch_size=16,\n",
    "                    callbacks=[checkpointer])"
   ]
  },
  {
   "cell_type": "code",
   "execution_count": 78,
   "metadata": {
    "ExecuteTime": {
     "end_time": "2019-04-27T22:37:25.357223Z",
     "start_time": "2019-04-27T22:37:25.346351Z"
    },
    "collapsed": true
   },
   "outputs": [],
   "source": [
    "model.load_weights('NN_best_1.hdf5')"
   ]
  },
  {
   "cell_type": "code",
   "execution_count": 79,
   "metadata": {
    "ExecuteTime": {
     "end_time": "2019-04-27T22:37:27.033774Z",
     "start_time": "2019-04-27T22:37:26.868142Z"
    }
   },
   "outputs": [
    {
     "name": "stdout",
     "output_type": "stream",
     "text": [
      "5659/5659 [==============================] - 0s 28us/step\n"
     ]
    },
    {
     "data": {
      "text/plain": [
       "[0.6927539868328676, 0.48734503585261324, 0.5270197433746204]"
      ]
     },
     "execution_count": 79,
     "metadata": {},
     "output_type": "execute_result"
    }
   ],
   "source": [
    "model.evaluate(train_image_data, train_descriptor)"
   ]
  },
  {
   "cell_type": "code",
   "execution_count": 80,
   "metadata": {
    "ExecuteTime": {
     "end_time": "2019-04-27T22:37:27.789399Z",
     "start_time": "2019-04-27T22:37:27.742301Z"
    }
   },
   "outputs": [
    {
     "name": "stdout",
     "output_type": "stream",
     "text": [
      "1544/1544 [==============================] - 0s 28us/step\n"
     ]
    },
    {
     "data": {
      "text/plain": [
       "[0.7122413528397911, 0.5105672197638398, 0.5394385626896675]"
      ]
     },
     "execution_count": 80,
     "metadata": {},
     "output_type": "execute_result"
    }
   ],
   "source": [
    "model.evaluate(test_image_data, test_descriptor)"
   ]
  },
  {
   "cell_type": "code",
   "execution_count": 81,
   "metadata": {
    "ExecuteTime": {
     "end_time": "2019-04-27T22:37:36.937078Z",
     "start_time": "2019-04-27T22:37:36.822278Z"
    }
   },
   "outputs": [],
   "source": [
    "train_embedding_image_preds = model.predict(train_image_list)\n",
    "test_embedding_image_preds = model.predict(test_image_list)"
   ]
  },
  {
   "cell_type": "code",
   "execution_count": 82,
   "metadata": {
    "ExecuteTime": {
     "end_time": "2019-04-27T22:37:37.254323Z",
     "start_time": "2019-04-27T22:37:37.242450Z"
    },
    "collapsed": true
   },
   "outputs": [],
   "source": [
    "np.save('train_embedding_image_preds',train_embedding_image_preds)\n",
    "np.save('test_embedding_image_preds',test_embedding_image_preds)"
   ]
  },
  {
   "cell_type": "code",
   "execution_count": 83,
   "metadata": {
    "ExecuteTime": {
     "end_time": "2019-04-27T22:48:14.981645Z",
     "start_time": "2019-04-27T22:48:14.975530Z"
    }
   },
   "outputs": [
    {
     "data": {
      "text/plain": [
       "(5659, 100)"
      ]
     },
     "execution_count": 83,
     "metadata": {},
     "output_type": "execute_result"
    }
   ],
   "source": [
    "train_embedding_image_preds.shape"
   ]
  },
  {
   "cell_type": "code",
   "execution_count": null,
   "metadata": {
    "collapsed": true
   },
   "outputs": [],
   "source": []
  }
 ],
 "metadata": {
  "kernelspec": {
   "display_name": "Python 3",
   "language": "python",
   "name": "python3"
  },
  "language_info": {
   "codemirror_mode": {
    "name": "ipython",
    "version": 3
   },
   "file_extension": ".py",
   "mimetype": "text/x-python",
   "name": "python",
   "nbconvert_exporter": "python",
   "pygments_lexer": "ipython3",
   "version": "3.5.4"
  },
  "toc": {
   "nav_menu": {},
   "number_sections": true,
   "sideBar": true,
   "skip_h1_title": false,
   "toc_cell": false,
   "toc_position": {},
   "toc_section_display": "block",
   "toc_window_display": false
  }
 },
 "nbformat": 4,
 "nbformat_minor": 2
}
