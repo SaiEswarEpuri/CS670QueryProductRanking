{
 "cells": [
  {
   "cell_type": "markdown",
   "metadata": {},
   "source": [
    "# Evaluation Metrics\n",
    "\n",
    "we have used both NDCG and RMSE as evaluation metrics and the present code is to calculate NDCG."
   ]
  },
  {
   "cell_type": "code",
   "execution_count": 152,
   "metadata": {},
   "outputs": [],
   "source": [
    "import numpy as np\n",
    "import pandas as pd\n",
    "data = pd.read_csv(\"total_dataset.csv\")\n",
    "data=data[['_unit_id','rank']]\n",
    "rank_dict ={}\n",
    "count =0\n",
    "for i in range(len(data)):\n",
    "    unit_id = data.iloc[i]['_unit_id']\n",
    "    rank = data.iloc[i]['rank']\n",
    "    if(rank_dict.has_key(unit_id)):\n",
    "        print(\"something wrong\")\n",
    "        break\n",
    "    else:\n",
    "        rank_dict[unit_id]=rank"
   ]
  },
  {
   "cell_type": "code",
   "execution_count": 158,
   "metadata": {},
   "outputs": [],
   "source": [
    "def check_valid(rank):\n",
    "    try: \n",
    "        int(rank)\n",
    "        return True\n",
    "    except ValueError:\n",
    "        return False"
   ]
  },
  {
   "cell_type": "code",
   "execution_count": 157,
   "metadata": {},
   "outputs": [],
   "source": [
    "def get_query(filename):\n",
    "    results = np.load(filename)\n",
    "    query_results ={}\n",
    "    prev = results[0][0].encode('ascii')\n",
    "    temp_list =[]\n",
    "    for i in range(len(results)):\n",
    "        if(results[i][0].encode('ascii')==prev):\n",
    "            uid = int(results[i][1].encode('ascii'))\n",
    "            rank = rank_dict[uid]\n",
    "            temp2_list = results[i].tolist()\n",
    "            if(check_valid(rank)):\n",
    "                temp2_list.append(int(rank))\n",
    "                temp_list.append(np.asarray(temp2_list))\n",
    "        else:\n",
    "            query_results[prev] = np.asarray(temp_list)\n",
    "            temp_list=[]\n",
    "            prev = results[i][0].encode('ascii')\n",
    "            uid = int(results[i][1].encode('ascii'))\n",
    "            rank = rank_dict[uid]\n",
    "            temp2_list = results[i].tolist()\n",
    "            if(check_valid(rank)):\n",
    "                temp2_list.append(int(rank))\n",
    "                temp_list.append(np.asarray(temp2_list))\n",
    "    return query_results"
   ]
  },
  {
   "cell_type": "code",
   "execution_count": 156,
   "metadata": {},
   "outputs": [],
   "source": [
    "def modify(temp_list):\n",
    "    temp_out = {}\n",
    "    for i in range(len(temp_list)):\n",
    "        temp_lis = {}\n",
    "        temp_lis['pid']=int(temp_list[i][1])\n",
    "        temp_lis['actual'] = float(temp_list[i][2])\n",
    "        temp_lis['predict'] = float(temp_list[i][3])\n",
    "        key = int(temp_list[i][4])\n",
    "        temp_out[key] = temp_lis\n",
    "    return temp_out"
   ]
  },
  {
   "cell_type": "code",
   "execution_count": 155,
   "metadata": {
    "scrolled": true
   },
   "outputs": [],
   "source": [
    "def get_list(temp_out):\n",
    "    temp_keys = temp_out.keys()\n",
    "    temp_keys.sort()\n",
    "    actual=[]\n",
    "    predicted =[]\n",
    "    for rank in temp_keys:\n",
    "        temp_dict1 = temp_out[rank]\n",
    "        actual.append(temp_dict1['actual'])\n",
    "        predicted.append(temp_dict1['predict'])\n",
    "    return actual,predicted"
   ]
  },
  {
   "cell_type": "code",
   "execution_count": 153,
   "metadata": {},
   "outputs": [],
   "source": [
    "import math\n",
    "def get_NDCG_helper(temp_dict,g_count):\n",
    "    actual,predicted = get_list(temp_dict)\n",
    "    ideal = []\n",
    "    for item in actual:\n",
    "        ideal.append(item)\n",
    "    ideal.sort(reverse = True)\n",
    "    IDCG_a = 0.0\n",
    "    DCG_a =0.0\n",
    "    count = 0\n",
    "    for i in range(len(actual)):\n",
    "        if(count==g_count):\n",
    "            break\n",
    "        if(i==0):\n",
    "            DCG_a +=actual[0]\n",
    "            IDCG_a +=ideal[0]\n",
    "        else:\n",
    "            DCG_a+=(actual[i]+0.0)/math.log(i+1,2)\n",
    "            IDCG_a +=(ideal[i]+0.0)/math.log(i+1,2)\n",
    "        count +=1\n",
    "    NDCG_a = DCG_a/IDCG_a\n",
    "    ideal = []\n",
    "    for item in predicted:\n",
    "        ideal.append(item)\n",
    "    ideal.sort(reverse = True)\n",
    "    IDCG_p = 0.0\n",
    "    DCG_p=0.0\n",
    "    count = 0\n",
    "    for i in range(len(predicted)):\n",
    "        if(count == g_count):\n",
    "            break\n",
    "        if(i==0):\n",
    "            DCG_p +=predicted[0]\n",
    "            IDCG_p +=ideal[0]\n",
    "        else:\n",
    "            DCG_p+=(predicted[i]+0.0)/math.log(i+1,2)\n",
    "            IDCG_p +=(ideal[i]+0.0)/math.log(i+1,2)\n",
    "        count +=1\n",
    "    NDCG_p = DCG_p/IDCG_p\n",
    "    return NDCG_a,NDCG_p"
   ]
  },
  {
   "cell_type": "code",
   "execution_count": 154,
   "metadata": {},
   "outputs": [],
   "source": [
    "def get_NDCG(query_results,count=100):\n",
    "    o_NDCG_a = 0.0\n",
    "    o_NDCG_p =0.0\n",
    "    for query in query_results.keys():\n",
    "        temp_list = query_results[query]\n",
    "        temp_dict= modify(temp_list)\n",
    "        temp_NDCG_a,temp_NDCG_p = get_NDCG_helper(temp_dict,count)\n",
    "        o_NDCG_a +=temp_NDCG_a\n",
    "        o_NDCG_p +=temp_NDCG_p\n",
    "    o_NDCG_a = o_NDCG_a/len(query_results)\n",
    "    o_NDCG_p = o_NDCG_p/len(query_results)\n",
    "    return o_NDCG_a,o_NDCG_p"
   ]
  },
  {
   "cell_type": "code",
   "execution_count": 161,
   "metadata": {
    "scrolled": false
   },
   "outputs": [],
   "source": [
    "def get_all_values(filename,count=100):\n",
    "    query_results = get_query(filename)\n",
    "    NDCG_a,NDCG_p = get_NDCG(query_results,count)\n",
    "    return NDCG_a,NDCG_p"
   ]
  },
  {
   "cell_type": "code",
   "execution_count": 189,
   "metadata": {},
   "outputs": [
    {
     "data": {
      "text/plain": [
       "(0.9343724696225619, 0.9501738921722769)"
      ]
     },
     "execution_count": 189,
     "metadata": {},
     "output_type": "execute_result"
    }
   ],
   "source": [
    "get_all_values('resDesc+ImageRaw.npy',5)"
   ]
  },
  {
   "cell_type": "code",
   "execution_count": 190,
   "metadata": {},
   "outputs": [
    {
     "data": {
      "text/plain": [
       "(0.9603341473002783, 0.9709006797664881)"
      ]
     },
     "execution_count": 190,
     "metadata": {},
     "output_type": "execute_result"
    }
   ],
   "source": [
    "get_all_values('resDesc+ImageRaw.npy',10)"
   ]
  }
 ],
 "metadata": {
  "kernelspec": {
   "display_name": "Python 3",
   "language": "python",
   "name": "python3"
  },
  "language_info": {
   "codemirror_mode": {
    "name": "ipython",
    "version": 3
   },
   "file_extension": ".py",
   "mimetype": "text/x-python",
   "name": "python",
   "nbconvert_exporter": "python",
   "pygments_lexer": "ipython3",
   "version": "3.6.8"
  }
 },
 "nbformat": 4,
 "nbformat_minor": 2
}
