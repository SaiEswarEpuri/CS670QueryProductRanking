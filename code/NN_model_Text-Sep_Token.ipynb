{
 "cells": [
  {
   "cell_type": "code",
   "execution_count": 1,
   "metadata": {
    "ExecuteTime": {
     "end_time": "2019-04-25T21:47:00.974391Z",
     "start_time": "2019-04-25T21:46:59.784323Z"
    }
   },
   "outputs": [
    {
     "name": "stderr",
     "output_type": "stream",
     "text": [
      "Using TensorFlow backend.\n"
     ]
    }
   ],
   "source": [
    "import numpy as np\n",
    "import pandas as pd\n",
    "import matplotlib\n",
    "import os\n",
    "from keras.layers import Input, BatchNormalization, Concatenate, Dense, GlobalAveragePooling2D, Dropout, concatenate\n",
    "from keras.models import Model\n",
    "from keras.optimizers import Adam\n",
    "from keras import backend as K\n",
    "from keras import regularizers\n",
    "from keras.callbacks import ModelCheckpoint, ReduceLROnPlateau, EarlyStopping, History, TensorBoard\n",
    "from keras.layers import Embedding, Flatten, Dense\n",
    "from keras.utils import plot_model"
   ]
  },
  {
   "cell_type": "code",
   "execution_count": 2,
   "metadata": {
    "ExecuteTime": {
     "end_time": "2019-04-25T21:47:00.977535Z",
     "start_time": "2019-04-25T21:47:00.975477Z"
    }
   },
   "outputs": [],
   "source": [
    "D = 100 # embedding dimension\n",
    "H = 300 # no.of hidden layer nodes"
   ]
  },
  {
   "cell_type": "code",
   "execution_count": 42,
   "metadata": {},
   "outputs": [],
   "source": [
    "product_desc = np.load('train_desc.npy')\n",
    "product_query = np.load('train_query.npy')\n",
    "product_desc_test = np.load('test_desc.npy')\n",
    "product_query_test = np.load('test_query.npy')\n",
    "train_image_embeddings = np.load('train_embedding_image_preds.npy')\n",
    "test_image_embeddings = np.load('test_embedding_image_preds.npy')\n",
    "product_id_final_test = np.load('product_id_final_test.npy')"
   ]
  },
  {
   "cell_type": "code",
   "execution_count": 4,
   "metadata": {},
   "outputs": [
    {
     "data": {
      "text/plain": [
       "(5659, 100)"
      ]
     },
     "execution_count": 4,
     "metadata": {},
     "output_type": "execute_result"
    }
   ],
   "source": [
    "train_image_embeddings.shape"
   ]
  },
  {
   "cell_type": "code",
   "execution_count": 5,
   "metadata": {},
   "outputs": [],
   "source": [
    "final_text = np.concatenate((product_desc, product_query,product_desc_test, product_query_test),axis=0)\n",
    "final_text_query = np.concatenate((product_query, product_query_test), axis=0)\n",
    "final_text_description = np.concatenate((product_desc,product_desc_test), axis=0)\n"
   ]
  },
  {
   "cell_type": "code",
   "execution_count": 6,
   "metadata": {},
   "outputs": [],
   "source": [
    "import numpy as np\n",
    "modelGlove = {}\n",
    "with open(\"glove.6B.100d.txt\", \"r\", encoding='utf-8') as lines:\n",
    "        line = lines.readline()\n",
    "        while line:\n",
    "            modelGlove[line.split()[0]] = np.array(list(map(float, line.split()[1:])))\n",
    "            line = lines.readline()"
   ]
  },
  {
   "cell_type": "code",
   "execution_count": 7,
   "metadata": {},
   "outputs": [
    {
     "name": "stderr",
     "output_type": "stream",
     "text": [
      "/home/jharsh/miniconda3/envs/kerasGPU1/lib/python3.6/site-packages/keras_preprocessing/text.py:178: UserWarning: The `nb_words` argument in `Tokenizer` has been renamed `num_words`.\n",
      "  warnings.warn('The `nb_words` argument in `Tokenizer` '\n"
     ]
    }
   ],
   "source": [
    "from keras.preprocessing.text import Tokenizer\n",
    "from keras.preprocessing.sequence import pad_sequences\n",
    "MAX_NB_WORDS = 20000\n",
    "tokenizer_desc = Tokenizer(nb_words=MAX_NB_WORDS)\n",
    "tokenizer_desc.fit_on_texts(final_text_description)\n",
    "sequence_desc = tokenizer_desc.texts_to_sequences(product_desc)\n",
    "sequences_desc_test = tokenizer_desc.texts_to_sequences(product_desc_test)"
   ]
  },
  {
   "cell_type": "code",
   "execution_count": 8,
   "metadata": {},
   "outputs": [],
   "source": [
    "from keras.preprocessing.text import Tokenizer\n",
    "from keras.preprocessing.sequence import pad_sequences\n",
    "MAX_NB_WORDS = 20000\n",
    "tokenizer_query = Tokenizer(nb_words=MAX_NB_WORDS)\n",
    "tokenizer_query.fit_on_texts(final_text_query)\n",
    "sequences_query = tokenizer_query.texts_to_sequences(product_query)\n",
    "sequences_query_test = tokenizer_query.texts_to_sequences(product_query_test)"
   ]
  },
  {
   "cell_type": "code",
   "execution_count": 9,
   "metadata": {
    "scrolled": true
   },
   "outputs": [
    {
     "name": "stdout",
     "output_type": "stream",
     "text": [
      "Found 34222 unique tokens.\n"
     ]
    }
   ],
   "source": [
    "word_index_desc = tokenizer_desc.word_index\n",
    "print('Found %s unique tokens.' % len(word_index_desc))"
   ]
  },
  {
   "cell_type": "code",
   "execution_count": 10,
   "metadata": {},
   "outputs": [
    {
     "name": "stdout",
     "output_type": "stream",
     "text": [
      "Found 476 unique tokens.\n"
     ]
    }
   ],
   "source": [
    "word_index_query = tokenizer_query.word_index\n",
    "print('Found %s unique tokens.' % len(word_index_query))"
   ]
  },
  {
   "cell_type": "code",
   "execution_count": 11,
   "metadata": {},
   "outputs": [],
   "source": [
    "data_d = pad_sequences(sequence_desc, maxlen=300)"
   ]
  },
  {
   "cell_type": "code",
   "execution_count": 12,
   "metadata": {},
   "outputs": [],
   "source": [
    "data_d_test = pad_sequences(sequences_desc_test, maxlen=300)"
   ]
  },
  {
   "cell_type": "code",
   "execution_count": 13,
   "metadata": {},
   "outputs": [],
   "source": [
    "data_q = pad_sequences(sequences_query, maxlen=20)"
   ]
  },
  {
   "cell_type": "code",
   "execution_count": 14,
   "metadata": {},
   "outputs": [],
   "source": [
    "data_q_test = pad_sequences(sequences_query_test, maxlen=20)"
   ]
  },
  {
   "cell_type": "code",
   "execution_count": 15,
   "metadata": {
    "ExecuteTime": {
     "end_time": "2019-04-25T21:47:01.434703Z",
     "start_time": "2019-04-25T21:47:01.337717Z"
    }
   },
   "outputs": [],
   "source": [
    "def root_mean_squared_error(y_true, y_pred):\n",
    "        return K.sqrt(K.mean(K.square(y_pred - y_true)))"
   ]
  },
  {
   "cell_type": "code",
   "execution_count": 16,
   "metadata": {},
   "outputs": [],
   "source": [
    "embedding_matrix_desc = np.zeros((len(word_index_desc) + 1, 100))\n",
    "for word, i in word_index_desc.items():\n",
    "    embedding_vector = modelGlove.get(word)\n",
    "    if embedding_vector is not None:\n",
    "        # words not found in embedding index will be all-zeros.\n",
    "        embedding_matrix_desc[i] = embedding_vector"
   ]
  },
  {
   "cell_type": "code",
   "execution_count": 17,
   "metadata": {},
   "outputs": [],
   "source": [
    "embedding_matrix_query = np.zeros((len(word_index_query) + 1, 100))\n",
    "for word, i in word_index_query.items():\n",
    "    embedding_vector = modelGlove.get(word)\n",
    "    if embedding_vector is not None:\n",
    "        # words not found in embedding index will be all-zeros.\n",
    "        embedding_matrix_query[i] = embedding_vector"
   ]
  },
  {
   "cell_type": "code",
   "execution_count": 18,
   "metadata": {},
   "outputs": [],
   "source": [
    "from keras.layers import Embedding\n",
    "\n",
    "embedding_layer_q = Embedding(len(word_index_query) + 1,\n",
    "                            100,\n",
    "                            weights=[embedding_matrix_query],\n",
    "                            input_length=20,\n",
    "                            trainable=False)\n",
    "embedding_layer_d = Embedding(len(word_index_desc) + 1,\n",
    "                            100,\n",
    "                            weights=[embedding_matrix_desc],\n",
    "                            input_length=300,\n",
    "                            trainable=False)"
   ]
  },
  {
   "cell_type": "code",
   "execution_count": 19,
   "metadata": {
    "ExecuteTime": {
     "end_time": "2019-04-25T21:47:00.977535Z",
     "start_time": "2019-04-25T21:47:00.975477Z"
    }
   },
   "outputs": [],
   "source": [
    "D = 100 # embedding dimension\n",
    "H = 300 # no.of hidden layer nodes"
   ]
  },
  {
   "cell_type": "code",
   "execution_count": 20,
   "metadata": {
    "ExecuteTime": {
     "end_time": "2019-04-25T21:47:01.197019Z",
     "start_time": "2019-04-25T21:47:00.979067Z"
    }
   },
   "outputs": [],
   "source": [
    "sequence_input_d = Input(shape=(300,), dtype='int32')\n",
    "embeddings_d = embedding_layer_d(sequence_input_d)\n",
    "sequence_input_q = Input(shape=(20,), dtype='int32')\n",
    "embeddings_q = embedding_layer_q(sequence_input_q)\n",
    "# imageEmbeddingInput = Input(shape=(100,))\n",
    "embedding_layer_d_flatten = Flatten()(embeddings_d) \n",
    "embedding_layer_q_flatten = Flatten()(embeddings_q)\n",
    "# x3 = Dense(H,activation='relu')(imageEmbeddingInput)\n",
    "x1 = Dense(H,activation='relu')(embedding_layer_d_flatten)\n",
    "x2 = Dense(H,activation='relu')(embedding_layer_q_flatten)\n",
    "merge_x = concatenate([x1,x2])\n",
    "x4 = Dense(H,activation='relu')(merge_x)\n",
    "x4 = Dense(H//4,activation='relu')(x4)\n",
    "x4 = Dense(H//16,activation='relu')(x4)\n",
    "#x4 = Dropout(0.5)(x4)\n",
    "final_x = Dense(1)(x4)"
   ]
  },
  {
   "cell_type": "code",
   "execution_count": 21,
   "metadata": {
    "ExecuteTime": {
     "end_time": "2019-04-25T21:47:01.201750Z",
     "start_time": "2019-04-25T21:47:01.198312Z"
    }
   },
   "outputs": [],
   "source": [
    "model = Model(inputs=[sequence_input_d,sequence_input_q], outputs=final_x)"
   ]
  },
  {
   "cell_type": "code",
   "execution_count": 22,
   "metadata": {
    "ExecuteTime": {
     "end_time": "2019-04-25T21:47:01.333015Z",
     "start_time": "2019-04-25T21:47:01.203516Z"
    },
    "scrolled": true
   },
   "outputs": [
    {
     "name": "stdout",
     "output_type": "stream",
     "text": [
      "__________________________________________________________________________________________________\n",
      "Layer (type)                    Output Shape         Param #     Connected to                     \n",
      "==================================================================================================\n",
      "input_1 (InputLayer)            (None, 300)          0                                            \n",
      "__________________________________________________________________________________________________\n",
      "input_2 (InputLayer)            (None, 20)           0                                            \n",
      "__________________________________________________________________________________________________\n",
      "embedding_2 (Embedding)         (None, 300, 100)     3422300     input_1[0][0]                    \n",
      "__________________________________________________________________________________________________\n",
      "embedding_1 (Embedding)         (None, 20, 100)      47700       input_2[0][0]                    \n",
      "__________________________________________________________________________________________________\n",
      "flatten_1 (Flatten)             (None, 30000)        0           embedding_2[0][0]                \n",
      "__________________________________________________________________________________________________\n",
      "flatten_2 (Flatten)             (None, 2000)         0           embedding_1[0][0]                \n",
      "__________________________________________________________________________________________________\n",
      "dense_1 (Dense)                 (None, 300)          9000300     flatten_1[0][0]                  \n",
      "__________________________________________________________________________________________________\n",
      "dense_2 (Dense)                 (None, 300)          600300      flatten_2[0][0]                  \n",
      "__________________________________________________________________________________________________\n",
      "concatenate_1 (Concatenate)     (None, 600)          0           dense_1[0][0]                    \n",
      "                                                                 dense_2[0][0]                    \n",
      "__________________________________________________________________________________________________\n",
      "dense_3 (Dense)                 (None, 300)          180300      concatenate_1[0][0]              \n",
      "__________________________________________________________________________________________________\n",
      "dense_4 (Dense)                 (None, 75)           22575       dense_3[0][0]                    \n",
      "__________________________________________________________________________________________________\n",
      "dense_5 (Dense)                 (None, 18)           1368        dense_4[0][0]                    \n",
      "__________________________________________________________________________________________________\n",
      "dense_6 (Dense)                 (None, 1)            19          dense_5[0][0]                    \n",
      "==================================================================================================\n",
      "Total params: 13,274,862\n",
      "Trainable params: 9,804,862\n",
      "Non-trainable params: 3,470,000\n",
      "__________________________________________________________________________________________________\n"
     ]
    }
   ],
   "source": [
    "model.summary()"
   ]
  },
  {
   "cell_type": "code",
   "execution_count": 23,
   "metadata": {},
   "outputs": [],
   "source": [
    "plot_model(model, to_file='model.png')"
   ]
  },
  {
   "cell_type": "code",
   "execution_count": 24,
   "metadata": {
    "ExecuteTime": {
     "end_time": "2019-04-25T21:47:01.600047Z",
     "start_time": "2019-04-25T21:47:01.438803Z"
    }
   },
   "outputs": [],
   "source": [
    "model.compile(loss=root_mean_squared_error,\n",
    "              optimizer=Adam(lr=0.0001),\n",
    "              metrics=['mse','mae'])"
   ]
  },
  {
   "cell_type": "code",
   "execution_count": 25,
   "metadata": {},
   "outputs": [],
   "source": [
    "train_relevance = np.load('final_train_Y.npy')"
   ]
  },
  {
   "cell_type": "code",
   "execution_count": 26,
   "metadata": {},
   "outputs": [],
   "source": [
    "test_relevance = np.load('final_test_Y.npy')"
   ]
  },
  {
   "cell_type": "code",
   "execution_count": 27,
   "metadata": {},
   "outputs": [
    {
     "data": {
      "text/plain": [
       "(1544,)"
      ]
     },
     "execution_count": 27,
     "metadata": {},
     "output_type": "execute_result"
    }
   ],
   "source": [
    "test_relevance.shape"
   ]
  },
  {
   "cell_type": "code",
   "execution_count": 28,
   "metadata": {},
   "outputs": [
    {
     "data": {
      "text/plain": [
       "(5659,)"
      ]
     },
     "execution_count": 28,
     "metadata": {},
     "output_type": "execute_result"
    }
   ],
   "source": [
    "train_relevance.shape"
   ]
  },
  {
   "cell_type": "code",
   "execution_count": 29,
   "metadata": {
    "ExecuteTime": {
     "end_time": "2019-04-25T21:47:01.850277Z",
     "start_time": "2019-04-25T21:47:01.727479Z"
    }
   },
   "outputs": [],
   "source": [
    "from sklearn.utils import shuffle\n",
    "train_descriptor, train_query, train_image_embedding_model, train_relevance = shuffle(data_d, data_q, train_image_embeddings, train_relevance)"
   ]
  },
  {
   "cell_type": "code",
   "execution_count": 30,
   "metadata": {},
   "outputs": [
    {
     "data": {
      "text/plain": [
       "((5659, 300), (5659, 20), (5659,), (5659, 100))"
      ]
     },
     "execution_count": 30,
     "metadata": {},
     "output_type": "execute_result"
    }
   ],
   "source": [
    "train_descriptor.shape, train_query.shape, train_relevance.shape, train_image_embedding_model.shape"
   ]
  },
  {
   "cell_type": "code",
   "execution_count": 31,
   "metadata": {
    "ExecuteTime": {
     "end_time": "2019-04-25T21:47:01.945739Z",
     "start_time": "2019-04-25T21:47:01.852467Z"
    }
   },
   "outputs": [],
   "source": [
    "train_valid_split = 5000"
   ]
  },
  {
   "cell_type": "code",
   "execution_count": 32,
   "metadata": {
    "ExecuteTime": {
     "end_time": "2019-04-25T21:47:02.057134Z",
     "start_time": "2019-04-25T21:47:01.949907Z"
    }
   },
   "outputs": [],
   "source": [
    "valid_descriptor = train_descriptor[train_valid_split:]\n",
    "valid_query = train_query[train_valid_split:]\n",
    "valid_relevance = train_relevance[train_valid_split:]\n",
    "valid_image = train_image_embedding_model[train_valid_split:]"
   ]
  },
  {
   "cell_type": "code",
   "execution_count": 33,
   "metadata": {},
   "outputs": [
    {
     "data": {
      "text/plain": [
       "(659, 100)"
      ]
     },
     "execution_count": 33,
     "metadata": {},
     "output_type": "execute_result"
    }
   ],
   "source": [
    "valid_image.shape"
   ]
  },
  {
   "cell_type": "code",
   "execution_count": 34,
   "metadata": {
    "ExecuteTime": {
     "end_time": "2019-04-25T21:47:02.179095Z",
     "start_time": "2019-04-25T21:47:02.061202Z"
    }
   },
   "outputs": [],
   "source": [
    "train_descriptor = train_descriptor[:train_valid_split]\n",
    "train_query = train_query[:train_valid_split]\n",
    "train_relevance = train_relevance[:train_valid_split]\n",
    "train_image_embedding_model = train_image_embedding_model[:train_valid_split]"
   ]
  },
  {
   "cell_type": "code",
   "execution_count": 35,
   "metadata": {
    "ExecuteTime": {
     "end_time": "2019-04-25T21:47:02.609733Z",
     "start_time": "2019-04-25T21:47:02.606308Z"
    }
   },
   "outputs": [],
   "source": [
    "checkpointer = ModelCheckpoint(filepath='NN_best_only_text_1.hdf5', verbose=1, save_best_only=True, save_weights_only=True)\n",
    "reduceLR = ReduceLROnPlateau(monitor='val_loss', factor=0.1, patience=20, min_lr=0)\n",
    "earlystopping = EarlyStopping(monitor='val_loss', patience=20)\n",
    "os.environ[\"CUDA_VISIBLE_DEVICES\"]=\"0\""
   ]
  },
  {
   "cell_type": "code",
   "execution_count": 36,
   "metadata": {
    "ExecuteTime": {
     "end_time": "2019-04-25T21:52:24.390605Z",
     "start_time": "2019-04-25T21:47:02.611454Z"
    },
    "scrolled": true
   },
   "outputs": [
    {
     "name": "stdout",
     "output_type": "stream",
     "text": [
      "Train on 5000 samples, validate on 659 samples\n",
      "Epoch 1/100\n",
      " - 6s - loss: 1.0521 - mean_squared_error: 1.2511 - mean_absolute_error: 0.8700 - val_loss: 0.8639 - val_mean_squared_error: 0.7558 - val_mean_absolute_error: 0.7231\n",
      "\n",
      "Epoch 00001: val_loss improved from inf to 0.86390, saving model to NN_best_only_text_1.hdf5\n",
      "Epoch 2/100\n",
      " - 4s - loss: 0.6922 - mean_squared_error: 0.4931 - mean_absolute_error: 0.5480 - val_loss: 0.7795 - val_mean_squared_error: 0.6176 - val_mean_absolute_error: 0.6271\n",
      "\n",
      "Epoch 00002: val_loss improved from 0.86390 to 0.77951, saving model to NN_best_only_text_1.hdf5\n",
      "Epoch 3/100\n",
      " - 4s - loss: 0.5278 - mean_squared_error: 0.2853 - mean_absolute_error: 0.4122 - val_loss: 0.7883 - val_mean_squared_error: 0.6296 - val_mean_absolute_error: 0.6440\n",
      "\n",
      "Epoch 00003: val_loss did not improve from 0.77951\n",
      "Epoch 4/100\n",
      " - 4s - loss: 0.4257 - mean_squared_error: 0.1884 - mean_absolute_error: 0.3232 - val_loss: 0.7813 - val_mean_squared_error: 0.6208 - val_mean_absolute_error: 0.6284\n",
      "\n",
      "Epoch 00004: val_loss did not improve from 0.77951\n",
      "Epoch 5/100\n",
      " - 4s - loss: 0.3537 - mean_squared_error: 0.1320 - mean_absolute_error: 0.2618 - val_loss: 0.8092 - val_mean_squared_error: 0.6643 - val_mean_absolute_error: 0.6517\n",
      "\n",
      "Epoch 00005: val_loss did not improve from 0.77951\n",
      "Epoch 6/100\n",
      " - 4s - loss: 0.3085 - mean_squared_error: 0.1005 - mean_absolute_error: 0.2248 - val_loss: 0.8122 - val_mean_squared_error: 0.6672 - val_mean_absolute_error: 0.6576\n",
      "\n",
      "Epoch 00006: val_loss did not improve from 0.77951\n",
      "Epoch 7/100\n",
      " - 4s - loss: 0.2916 - mean_squared_error: 0.0890 - mean_absolute_error: 0.2102 - val_loss: 0.8088 - val_mean_squared_error: 0.6633 - val_mean_absolute_error: 0.6508\n",
      "\n",
      "Epoch 00007: val_loss did not improve from 0.77951\n",
      "Epoch 8/100\n",
      " - 4s - loss: 0.2691 - mean_squared_error: 0.0784 - mean_absolute_error: 0.1917 - val_loss: 0.7904 - val_mean_squared_error: 0.6323 - val_mean_absolute_error: 0.6303\n",
      "\n",
      "Epoch 00008: val_loss did not improve from 0.77951\n",
      "Epoch 9/100\n",
      " - 4s - loss: 0.2557 - mean_squared_error: 0.0695 - mean_absolute_error: 0.1794 - val_loss: 0.7732 - val_mean_squared_error: 0.6063 - val_mean_absolute_error: 0.6088\n",
      "\n",
      "Epoch 00009: val_loss improved from 0.77951 to 0.77320, saving model to NN_best_only_text_1.hdf5\n",
      "Epoch 10/100\n",
      " - 4s - loss: 0.2394 - mean_squared_error: 0.0619 - mean_absolute_error: 0.1668 - val_loss: 0.7824 - val_mean_squared_error: 0.6220 - val_mean_absolute_error: 0.6249\n",
      "\n",
      "Epoch 00010: val_loss did not improve from 0.77320\n",
      "Epoch 11/100\n",
      " - 4s - loss: 0.2371 - mean_squared_error: 0.0603 - mean_absolute_error: 0.1670 - val_loss: 0.7694 - val_mean_squared_error: 0.6005 - val_mean_absolute_error: 0.6065\n",
      "\n",
      "Epoch 00011: val_loss improved from 0.77320 to 0.76939, saving model to NN_best_only_text_1.hdf5\n",
      "Epoch 12/100\n",
      " - 4s - loss: 0.2278 - mean_squared_error: 0.0554 - mean_absolute_error: 0.1625 - val_loss: 0.8028 - val_mean_squared_error: 0.6528 - val_mean_absolute_error: 0.6412\n",
      "\n",
      "Epoch 00012: val_loss did not improve from 0.76939\n",
      "Epoch 13/100\n",
      " - 4s - loss: 0.2191 - mean_squared_error: 0.0512 - mean_absolute_error: 0.1531 - val_loss: 0.7780 - val_mean_squared_error: 0.6151 - val_mean_absolute_error: 0.6150\n",
      "\n",
      "Epoch 00013: val_loss did not improve from 0.76939\n",
      "Epoch 14/100\n",
      " - 4s - loss: 0.2119 - mean_squared_error: 0.0489 - mean_absolute_error: 0.1460 - val_loss: 0.7697 - val_mean_squared_error: 0.6001 - val_mean_absolute_error: 0.6064\n",
      "\n",
      "Epoch 00014: val_loss did not improve from 0.76939\n",
      "Epoch 15/100\n",
      " - 4s - loss: 0.2085 - mean_squared_error: 0.0471 - mean_absolute_error: 0.1423 - val_loss: 0.7823 - val_mean_squared_error: 0.6215 - val_mean_absolute_error: 0.6190\n",
      "\n",
      "Epoch 00015: val_loss did not improve from 0.76939\n",
      "Epoch 16/100\n",
      " - 4s - loss: 0.2020 - mean_squared_error: 0.0443 - mean_absolute_error: 0.1389 - val_loss: 0.7948 - val_mean_squared_error: 0.6387 - val_mean_absolute_error: 0.6337\n",
      "\n",
      "Epoch 00016: val_loss did not improve from 0.76939\n",
      "Epoch 17/100\n",
      " - 4s - loss: 0.2059 - mean_squared_error: 0.0458 - mean_absolute_error: 0.1453 - val_loss: 0.7780 - val_mean_squared_error: 0.6144 - val_mean_absolute_error: 0.6142\n",
      "\n",
      "Epoch 00017: val_loss did not improve from 0.76939\n",
      "Epoch 18/100\n",
      " - 4s - loss: 0.1977 - mean_squared_error: 0.0423 - mean_absolute_error: 0.1357 - val_loss: 0.7804 - val_mean_squared_error: 0.6173 - val_mean_absolute_error: 0.6192\n",
      "\n",
      "Epoch 00018: val_loss did not improve from 0.76939\n",
      "Epoch 19/100\n",
      " - 4s - loss: 0.1969 - mean_squared_error: 0.0415 - mean_absolute_error: 0.1368 - val_loss: 0.7679 - val_mean_squared_error: 0.5981 - val_mean_absolute_error: 0.6049\n",
      "\n",
      "Epoch 00019: val_loss improved from 0.76939 to 0.76791, saving model to NN_best_only_text_1.hdf5\n",
      "Epoch 20/100\n",
      " - 4s - loss: 0.1900 - mean_squared_error: 0.0393 - mean_absolute_error: 0.1302 - val_loss: 0.7859 - val_mean_squared_error: 0.6257 - val_mean_absolute_error: 0.6241\n",
      "\n",
      "Epoch 00020: val_loss did not improve from 0.76791\n",
      "Epoch 21/100\n",
      " - 4s - loss: 0.1884 - mean_squared_error: 0.0386 - mean_absolute_error: 0.1260 - val_loss: 0.7743 - val_mean_squared_error: 0.6091 - val_mean_absolute_error: 0.6102\n",
      "\n",
      "Epoch 00021: val_loss did not improve from 0.76791\n",
      "Epoch 22/100\n",
      " - 4s - loss: 0.1820 - mean_squared_error: 0.0363 - mean_absolute_error: 0.1249 - val_loss: 0.7777 - val_mean_squared_error: 0.6129 - val_mean_absolute_error: 0.6127\n",
      "\n",
      "Epoch 00022: val_loss did not improve from 0.76791\n",
      "Epoch 23/100\n",
      " - 4s - loss: 0.1870 - mean_squared_error: 0.0384 - mean_absolute_error: 0.1290 - val_loss: 0.7702 - val_mean_squared_error: 0.6023 - val_mean_absolute_error: 0.6108\n",
      "\n",
      "Epoch 00023: val_loss did not improve from 0.76791\n",
      "Epoch 24/100\n",
      " - 4s - loss: 0.1836 - mean_squared_error: 0.0365 - mean_absolute_error: 0.1238 - val_loss: 0.7918 - val_mean_squared_error: 0.6360 - val_mean_absolute_error: 0.6329\n",
      "\n",
      "Epoch 00024: val_loss did not improve from 0.76791\n",
      "Epoch 25/100\n",
      " - 4s - loss: 0.1814 - mean_squared_error: 0.0359 - mean_absolute_error: 0.1221 - val_loss: 0.7805 - val_mean_squared_error: 0.6171 - val_mean_absolute_error: 0.6157\n",
      "\n",
      "Epoch 00025: val_loss did not improve from 0.76791\n",
      "Epoch 26/100\n",
      " - 4s - loss: 0.1824 - mean_squared_error: 0.0369 - mean_absolute_error: 0.1217 - val_loss: 0.7785 - val_mean_squared_error: 0.6153 - val_mean_absolute_error: 0.6081\n",
      "\n",
      "Epoch 00026: val_loss did not improve from 0.76791\n",
      "Epoch 27/100\n",
      " - 4s - loss: 0.1761 - mean_squared_error: 0.0341 - mean_absolute_error: 0.1178 - val_loss: 0.7762 - val_mean_squared_error: 0.6119 - val_mean_absolute_error: 0.6134\n",
      "\n",
      "Epoch 00027: val_loss did not improve from 0.76791\n",
      "Epoch 28/100\n",
      " - 4s - loss: 0.1736 - mean_squared_error: 0.0331 - mean_absolute_error: 0.1148 - val_loss: 0.7877 - val_mean_squared_error: 0.6297 - val_mean_absolute_error: 0.6214\n",
      "\n",
      "Epoch 00028: val_loss did not improve from 0.76791\n",
      "Epoch 29/100\n",
      " - 4s - loss: 0.1692 - mean_squared_error: 0.0317 - mean_absolute_error: 0.1140 - val_loss: 0.7725 - val_mean_squared_error: 0.6064 - val_mean_absolute_error: 0.6052\n",
      "\n",
      "Epoch 00029: val_loss did not improve from 0.76791\n",
      "Epoch 30/100\n",
      " - 4s - loss: 0.1709 - mean_squared_error: 0.0322 - mean_absolute_error: 0.1139 - val_loss: 0.7733 - val_mean_squared_error: 0.6081 - val_mean_absolute_error: 0.6058\n",
      "\n",
      "Epoch 00030: val_loss did not improve from 0.76791\n",
      "Epoch 31/100\n",
      " - 4s - loss: 0.1720 - mean_squared_error: 0.0328 - mean_absolute_error: 0.1151 - val_loss: 0.7664 - val_mean_squared_error: 0.5959 - val_mean_absolute_error: 0.5959\n",
      "\n",
      "Epoch 00031: val_loss improved from 0.76791 to 0.76637, saving model to NN_best_only_text_1.hdf5\n",
      "Epoch 32/100\n",
      " - 4s - loss: 0.1687 - mean_squared_error: 0.0314 - mean_absolute_error: 0.1123 - val_loss: 0.7725 - val_mean_squared_error: 0.6073 - val_mean_absolute_error: 0.6042\n",
      "\n",
      "Epoch 00032: val_loss did not improve from 0.76637\n",
      "Epoch 33/100\n",
      " - 4s - loss: 0.1626 - mean_squared_error: 0.0301 - mean_absolute_error: 0.1089 - val_loss: 0.7687 - val_mean_squared_error: 0.5996 - val_mean_absolute_error: 0.6041\n",
      "\n",
      "Epoch 00033: val_loss did not improve from 0.76637\n",
      "Epoch 34/100\n",
      " - 4s - loss: 0.1669 - mean_squared_error: 0.0311 - mean_absolute_error: 0.1118 - val_loss: 0.7766 - val_mean_squared_error: 0.6129 - val_mean_absolute_error: 0.6049\n",
      "\n",
      "Epoch 00034: val_loss did not improve from 0.76637\n",
      "Epoch 35/100\n",
      " - 2s - loss: 0.1662 - mean_squared_error: 0.0311 - mean_absolute_error: 0.1122 - val_loss: 0.7757 - val_mean_squared_error: 0.6111 - val_mean_absolute_error: 0.6155\n"
     ]
    },
    {
     "name": "stdout",
     "output_type": "stream",
     "text": [
      "\n",
      "Epoch 00035: val_loss did not improve from 0.76637\n",
      "Epoch 36/100\n",
      " - 4s - loss: 0.1609 - mean_squared_error: 0.0293 - mean_absolute_error: 0.1068 - val_loss: 0.7721 - val_mean_squared_error: 0.6051 - val_mean_absolute_error: 0.6085\n",
      "\n",
      "Epoch 00036: val_loss did not improve from 0.76637\n",
      "Epoch 37/100\n",
      " - 4s - loss: 0.1626 - mean_squared_error: 0.0301 - mean_absolute_error: 0.1085 - val_loss: 0.7789 - val_mean_squared_error: 0.6155 - val_mean_absolute_error: 0.6129\n",
      "\n",
      "Epoch 00037: val_loss did not improve from 0.76637\n",
      "Epoch 38/100\n",
      " - 4s - loss: 0.1618 - mean_squared_error: 0.0297 - mean_absolute_error: 0.1080 - val_loss: 0.7709 - val_mean_squared_error: 0.6034 - val_mean_absolute_error: 0.6033\n",
      "\n",
      "Epoch 00038: val_loss did not improve from 0.76637\n",
      "Epoch 39/100\n",
      " - 4s - loss: 0.1585 - mean_squared_error: 0.0282 - mean_absolute_error: 0.1067 - val_loss: 0.7649 - val_mean_squared_error: 0.5946 - val_mean_absolute_error: 0.5946\n",
      "\n",
      "Epoch 00039: val_loss improved from 0.76637 to 0.76487, saving model to NN_best_only_text_1.hdf5\n",
      "Epoch 40/100\n",
      " - 4s - loss: 0.1608 - mean_squared_error: 0.0292 - mean_absolute_error: 0.1052 - val_loss: 0.7678 - val_mean_squared_error: 0.5989 - val_mean_absolute_error: 0.6016\n",
      "\n",
      "Epoch 00040: val_loss did not improve from 0.76487\n",
      "Epoch 41/100\n",
      " - 4s - loss: 0.1561 - mean_squared_error: 0.0276 - mean_absolute_error: 0.1035 - val_loss: 0.7619 - val_mean_squared_error: 0.5893 - val_mean_absolute_error: 0.5963\n",
      "\n",
      "Epoch 00041: val_loss improved from 0.76487 to 0.76194, saving model to NN_best_only_text_1.hdf5\n",
      "Epoch 42/100\n",
      " - 4s - loss: 0.1572 - mean_squared_error: 0.0275 - mean_absolute_error: 0.1023 - val_loss: 0.7715 - val_mean_squared_error: 0.6040 - val_mean_absolute_error: 0.6087\n",
      "\n",
      "Epoch 00042: val_loss did not improve from 0.76194\n",
      "Epoch 43/100\n",
      " - 4s - loss: 0.1527 - mean_squared_error: 0.0271 - mean_absolute_error: 0.0994 - val_loss: 0.7774 - val_mean_squared_error: 0.6127 - val_mean_absolute_error: 0.6074\n",
      "\n",
      "Epoch 00043: val_loss did not improve from 0.76194\n",
      "Epoch 44/100\n",
      " - 4s - loss: 0.1554 - mean_squared_error: 0.0271 - mean_absolute_error: 0.1012 - val_loss: 0.7752 - val_mean_squared_error: 0.6116 - val_mean_absolute_error: 0.6050\n",
      "\n",
      "Epoch 00044: val_loss did not improve from 0.76194\n",
      "Epoch 45/100\n",
      " - 4s - loss: 0.1558 - mean_squared_error: 0.0273 - mean_absolute_error: 0.0992 - val_loss: 0.7703 - val_mean_squared_error: 0.6025 - val_mean_absolute_error: 0.5993\n",
      "\n",
      "Epoch 00045: val_loss did not improve from 0.76194\n",
      "Epoch 46/100\n",
      " - 4s - loss: 0.1569 - mean_squared_error: 0.0275 - mean_absolute_error: 0.1028 - val_loss: 0.7761 - val_mean_squared_error: 0.6121 - val_mean_absolute_error: 0.6075\n",
      "\n",
      "Epoch 00046: val_loss did not improve from 0.76194\n",
      "Epoch 47/100\n",
      " - 4s - loss: 0.1515 - mean_squared_error: 0.0259 - mean_absolute_error: 0.1002 - val_loss: 0.7741 - val_mean_squared_error: 0.6077 - val_mean_absolute_error: 0.6133\n",
      "\n",
      "Epoch 00047: val_loss did not improve from 0.76194\n",
      "Epoch 48/100\n",
      " - 4s - loss: 0.1532 - mean_squared_error: 0.0260 - mean_absolute_error: 0.1007 - val_loss: 0.7716 - val_mean_squared_error: 0.6047 - val_mean_absolute_error: 0.6025\n",
      "\n",
      "Epoch 00048: val_loss did not improve from 0.76194\n",
      "Epoch 49/100\n",
      " - 4s - loss: 0.1525 - mean_squared_error: 0.0263 - mean_absolute_error: 0.0993 - val_loss: 0.7758 - val_mean_squared_error: 0.6113 - val_mean_absolute_error: 0.6065\n",
      "\n",
      "Epoch 00049: val_loss did not improve from 0.76194\n",
      "Epoch 50/100\n",
      " - 4s - loss: 0.1522 - mean_squared_error: 0.0259 - mean_absolute_error: 0.0981 - val_loss: 0.7735 - val_mean_squared_error: 0.6082 - val_mean_absolute_error: 0.6033\n",
      "\n",
      "Epoch 00050: val_loss did not improve from 0.76194\n",
      "Epoch 51/100\n",
      " - 4s - loss: 0.1494 - mean_squared_error: 0.0255 - mean_absolute_error: 0.0988 - val_loss: 0.7727 - val_mean_squared_error: 0.6066 - val_mean_absolute_error: 0.6091\n",
      "\n",
      "Epoch 00051: val_loss did not improve from 0.76194\n",
      "Epoch 52/100\n",
      " - 4s - loss: 0.1494 - mean_squared_error: 0.0251 - mean_absolute_error: 0.0973 - val_loss: 0.7759 - val_mean_squared_error: 0.6112 - val_mean_absolute_error: 0.6091\n",
      "\n",
      "Epoch 00052: val_loss did not improve from 0.76194\n",
      "Epoch 53/100\n",
      " - 4s - loss: 0.1484 - mean_squared_error: 0.0248 - mean_absolute_error: 0.0957 - val_loss: 0.7671 - val_mean_squared_error: 0.5984 - val_mean_absolute_error: 0.5987\n",
      "\n",
      "Epoch 00053: val_loss did not improve from 0.76194\n",
      "Epoch 54/100\n",
      " - 4s - loss: 0.1465 - mean_squared_error: 0.0242 - mean_absolute_error: 0.0938 - val_loss: 0.7706 - val_mean_squared_error: 0.6037 - val_mean_absolute_error: 0.6022\n",
      "\n",
      "Epoch 00054: val_loss did not improve from 0.76194\n",
      "Epoch 55/100\n",
      " - 3s - loss: 0.1436 - mean_squared_error: 0.0240 - mean_absolute_error: 0.0916 - val_loss: 0.7737 - val_mean_squared_error: 0.6093 - val_mean_absolute_error: 0.5978\n",
      "\n",
      "Epoch 00055: val_loss did not improve from 0.76194\n",
      "Epoch 56/100\n",
      " - 4s - loss: 0.1460 - mean_squared_error: 0.0247 - mean_absolute_error: 0.0934 - val_loss: 0.7600 - val_mean_squared_error: 0.5875 - val_mean_absolute_error: 0.5908\n",
      "\n",
      "Epoch 00056: val_loss improved from 0.76194 to 0.76004, saving model to NN_best_only_text_1.hdf5\n",
      "Epoch 57/100\n",
      " - 4s - loss: 0.1436 - mean_squared_error: 0.0236 - mean_absolute_error: 0.0921 - val_loss: 0.7648 - val_mean_squared_error: 0.5953 - val_mean_absolute_error: 0.5945\n",
      "\n",
      "Epoch 00057: val_loss did not improve from 0.76004\n",
      "Epoch 58/100\n",
      " - 4s - loss: 0.1481 - mean_squared_error: 0.0251 - mean_absolute_error: 0.0964 - val_loss: 0.7676 - val_mean_squared_error: 0.5983 - val_mean_absolute_error: 0.5999\n",
      "\n",
      "Epoch 00058: val_loss did not improve from 0.76004\n",
      "Epoch 59/100\n",
      " - 4s - loss: 0.1505 - mean_squared_error: 0.0254 - mean_absolute_error: 0.0966 - val_loss: 0.7686 - val_mean_squared_error: 0.6005 - val_mean_absolute_error: 0.5922\n",
      "\n",
      "Epoch 00059: val_loss did not improve from 0.76004\n",
      "Epoch 60/100\n",
      " - 3s - loss: 0.1456 - mean_squared_error: 0.0243 - mean_absolute_error: 0.0948 - val_loss: 0.7723 - val_mean_squared_error: 0.6063 - val_mean_absolute_error: 0.6010\n",
      "\n",
      "Epoch 00060: val_loss did not improve from 0.76004\n",
      "Epoch 61/100\n",
      " - 4s - loss: 0.1485 - mean_squared_error: 0.0250 - mean_absolute_error: 0.0952 - val_loss: 0.7690 - val_mean_squared_error: 0.6009 - val_mean_absolute_error: 0.5996\n",
      "\n",
      "Epoch 00061: val_loss did not improve from 0.76004\n",
      "Epoch 62/100\n",
      " - 4s - loss: 0.1418 - mean_squared_error: 0.0229 - mean_absolute_error: 0.0891 - val_loss: 0.7726 - val_mean_squared_error: 0.6064 - val_mean_absolute_error: 0.6082\n",
      "\n",
      "Epoch 00062: val_loss did not improve from 0.76004\n",
      "Epoch 63/100\n",
      " - 4s - loss: 0.1407 - mean_squared_error: 0.0229 - mean_absolute_error: 0.0896 - val_loss: 0.7717 - val_mean_squared_error: 0.6068 - val_mean_absolute_error: 0.5965\n",
      "\n",
      "Epoch 00063: val_loss did not improve from 0.76004\n",
      "Epoch 64/100\n",
      " - 4s - loss: 0.1427 - mean_squared_error: 0.0232 - mean_absolute_error: 0.0914 - val_loss: 0.7582 - val_mean_squared_error: 0.5841 - val_mean_absolute_error: 0.5921\n",
      "\n",
      "Epoch 00064: val_loss improved from 0.76004 to 0.75824, saving model to NN_best_only_text_1.hdf5\n",
      "Epoch 65/100\n",
      " - 4s - loss: 0.1438 - mean_squared_error: 0.0235 - mean_absolute_error: 0.0916 - val_loss: 0.7693 - val_mean_squared_error: 0.6009 - val_mean_absolute_error: 0.5959\n",
      "\n",
      "Epoch 00065: val_loss did not improve from 0.75824\n",
      "Epoch 66/100\n",
      " - 4s - loss: 0.1415 - mean_squared_error: 0.0233 - mean_absolute_error: 0.0914 - val_loss: 0.7732 - val_mean_squared_error: 0.6074 - val_mean_absolute_error: 0.6081\n",
      "\n",
      "Epoch 00066: val_loss did not improve from 0.75824\n",
      "Epoch 67/100\n",
      " - 4s - loss: 0.1393 - mean_squared_error: 0.0226 - mean_absolute_error: 0.0877 - val_loss: 0.7650 - val_mean_squared_error: 0.5962 - val_mean_absolute_error: 0.5917\n",
      "\n",
      "Epoch 00067: val_loss did not improve from 0.75824\n",
      "Epoch 68/100\n",
      " - 4s - loss: 0.1375 - mean_squared_error: 0.0222 - mean_absolute_error: 0.0859 - val_loss: 0.7700 - val_mean_squared_error: 0.6029 - val_mean_absolute_error: 0.5961\n",
      "\n",
      "Epoch 00068: val_loss did not improve from 0.75824\n",
      "Epoch 69/100\n",
      " - 3s - loss: 0.1391 - mean_squared_error: 0.0222 - mean_absolute_error: 0.0871 - val_loss: 0.7664 - val_mean_squared_error: 0.5968 - val_mean_absolute_error: 0.5966\n",
      "\n",
      "Epoch 00069: val_loss did not improve from 0.75824\n",
      "Epoch 70/100\n",
      " - 4s - loss: 0.1388 - mean_squared_error: 0.0224 - mean_absolute_error: 0.0869 - val_loss: 0.7653 - val_mean_squared_error: 0.5956 - val_mean_absolute_error: 0.5956\n"
     ]
    },
    {
     "name": "stdout",
     "output_type": "stream",
     "text": [
      "\n",
      "Epoch 00070: val_loss did not improve from 0.75824\n",
      "Epoch 71/100\n",
      " - 4s - loss: 0.1405 - mean_squared_error: 0.0229 - mean_absolute_error: 0.0876 - val_loss: 0.7653 - val_mean_squared_error: 0.5952 - val_mean_absolute_error: 0.5953\n",
      "\n",
      "Epoch 00071: val_loss did not improve from 0.75824\n",
      "Epoch 72/100\n",
      " - 4s - loss: 0.1369 - mean_squared_error: 0.0219 - mean_absolute_error: 0.0854 - val_loss: 0.7688 - val_mean_squared_error: 0.6005 - val_mean_absolute_error: 0.6012\n",
      "\n",
      "Epoch 00072: val_loss did not improve from 0.75824\n",
      "Epoch 73/100\n",
      " - 4s - loss: 0.1385 - mean_squared_error: 0.0224 - mean_absolute_error: 0.0867 - val_loss: 0.7671 - val_mean_squared_error: 0.5975 - val_mean_absolute_error: 0.6047\n",
      "\n",
      "Epoch 00073: val_loss did not improve from 0.75824\n",
      "Epoch 74/100\n",
      " - 4s - loss: 0.1378 - mean_squared_error: 0.0221 - mean_absolute_error: 0.0884 - val_loss: 0.7662 - val_mean_squared_error: 0.5970 - val_mean_absolute_error: 0.5982\n",
      "\n",
      "Epoch 00074: val_loss did not improve from 0.75824\n",
      "Epoch 75/100\n",
      " - 4s - loss: 0.1397 - mean_squared_error: 0.0228 - mean_absolute_error: 0.0878 - val_loss: 0.7650 - val_mean_squared_error: 0.5945 - val_mean_absolute_error: 0.5997\n",
      "\n",
      "Epoch 00075: val_loss did not improve from 0.75824\n",
      "Epoch 76/100\n",
      " - 3s - loss: 0.1351 - mean_squared_error: 0.0212 - mean_absolute_error: 0.0827 - val_loss: 0.7717 - val_mean_squared_error: 0.6056 - val_mean_absolute_error: 0.6030\n",
      "\n",
      "Epoch 00076: val_loss did not improve from 0.75824\n",
      "Epoch 77/100\n",
      " - 3s - loss: 0.1355 - mean_squared_error: 0.0213 - mean_absolute_error: 0.0834 - val_loss: 0.7692 - val_mean_squared_error: 0.6011 - val_mean_absolute_error: 0.5983\n",
      "\n",
      "Epoch 00077: val_loss did not improve from 0.75824\n",
      "Epoch 78/100\n",
      " - 3s - loss: 0.1363 - mean_squared_error: 0.0213 - mean_absolute_error: 0.0842 - val_loss: 0.7661 - val_mean_squared_error: 0.5974 - val_mean_absolute_error: 0.5954\n",
      "\n",
      "Epoch 00078: val_loss did not improve from 0.75824\n",
      "Epoch 79/100\n",
      " - 3s - loss: 0.1350 - mean_squared_error: 0.0214 - mean_absolute_error: 0.0844 - val_loss: 0.7613 - val_mean_squared_error: 0.5883 - val_mean_absolute_error: 0.5936\n",
      "\n",
      "Epoch 00079: val_loss did not improve from 0.75824\n",
      "Epoch 80/100\n",
      " - 4s - loss: 0.1372 - mean_squared_error: 0.0220 - mean_absolute_error: 0.0845 - val_loss: 0.7657 - val_mean_squared_error: 0.5961 - val_mean_absolute_error: 0.5971\n",
      "\n",
      "Epoch 00080: val_loss did not improve from 0.75824\n",
      "Epoch 81/100\n",
      " - 4s - loss: 0.1336 - mean_squared_error: 0.0209 - mean_absolute_error: 0.0824 - val_loss: 0.7703 - val_mean_squared_error: 0.6021 - val_mean_absolute_error: 0.5970\n",
      "\n",
      "Epoch 00081: val_loss did not improve from 0.75824\n",
      "Epoch 82/100\n",
      " - 4s - loss: 0.1333 - mean_squared_error: 0.0207 - mean_absolute_error: 0.0811 - val_loss: 0.7656 - val_mean_squared_error: 0.5948 - val_mean_absolute_error: 0.5959\n",
      "\n",
      "Epoch 00082: val_loss did not improve from 0.75824\n",
      "Epoch 83/100\n",
      " - 4s - loss: 0.1332 - mean_squared_error: 0.0210 - mean_absolute_error: 0.0830 - val_loss: 0.7689 - val_mean_squared_error: 0.6003 - val_mean_absolute_error: 0.6022\n",
      "\n",
      "Epoch 00083: val_loss did not improve from 0.75824\n",
      "Epoch 84/100\n",
      " - 4s - loss: 0.1355 - mean_squared_error: 0.0215 - mean_absolute_error: 0.0849 - val_loss: 0.7649 - val_mean_squared_error: 0.5954 - val_mean_absolute_error: 0.5948\n",
      "\n",
      "Epoch 00084: val_loss did not improve from 0.75824\n"
     ]
    },
    {
     "data": {
      "text/plain": [
       "<keras.callbacks.History at 0x7fdc806870b8>"
      ]
     },
     "execution_count": 36,
     "metadata": {},
     "output_type": "execute_result"
    }
   ],
   "source": [
    "model.fit([train_descriptor,train_query],train_relevance, epochs=100, verbose=2,\n",
    "          validation_data=([valid_descriptor, valid_query], valid_relevance), batch_size=32,\n",
    "                    callbacks=[checkpointer, earlystopping])"
   ]
  },
  {
   "cell_type": "code",
   "execution_count": 37,
   "metadata": {
    "ExecuteTime": {
     "end_time": "2019-04-25T21:52:24.444066Z",
     "start_time": "2019-04-25T21:52:24.392007Z"
    }
   },
   "outputs": [],
   "source": [
    "model.load_weights('NN_best_only_text_1.hdf5')"
   ]
  },
  {
   "cell_type": "code",
   "execution_count": 38,
   "metadata": {
    "ExecuteTime": {
     "end_time": "2019-04-25T21:52:24.545280Z",
     "start_time": "2019-04-25T21:52:24.445912Z"
    },
    "scrolled": true
   },
   "outputs": [
    {
     "name": "stdout",
     "output_type": "stream",
     "text": [
      "1544/1544 [==============================] - 0s 196us/step\n"
     ]
    },
    {
     "data": {
      "text/plain": [
       "[0.766140341758728, 0.6071317177362393, 0.6018003716369985]"
      ]
     },
     "execution_count": 38,
     "metadata": {},
     "output_type": "execute_result"
    }
   ],
   "source": [
    "model.evaluate([data_d_test,data_q_test],test_relevance)"
   ]
  },
  {
   "cell_type": "code",
   "execution_count": 43,
   "metadata": {},
   "outputs": [],
   "source": [
    "predictedResilts = model.predict([data_d_test,data_q_test])\n",
    "resDumpRawImage = []\n",
    "for i in range(len(predictedResilts)):\n",
    "    resDumpRawImage.append((product_query_test[i],product_id_final_test[i],test_relevance[i], np.asscalar(predictedResilts[i])))\n",
    "np.save('resDumpTextOnly', resDumpRawImage)"
   ]
  },
  {
   "cell_type": "code",
   "execution_count": null,
   "metadata": {},
   "outputs": [],
   "source": []
  }
 ],
 "metadata": {
  "kernelspec": {
   "display_name": "Python 3",
   "language": "python",
   "name": "python3"
  },
  "language_info": {
   "codemirror_mode": {
    "name": "ipython",
    "version": 3
   },
   "file_extension": ".py",
   "mimetype": "text/x-python",
   "name": "python",
   "nbconvert_exporter": "python",
   "pygments_lexer": "ipython3",
   "version": "3.6.8"
  },
  "toc": {
   "nav_menu": {},
   "number_sections": true,
   "sideBar": true,
   "skip_h1_title": false,
   "toc_cell": false,
   "toc_position": {},
   "toc_section_display": "block",
   "toc_window_display": false
  }
 },
 "nbformat": 4,
 "nbformat_minor": 2
}
