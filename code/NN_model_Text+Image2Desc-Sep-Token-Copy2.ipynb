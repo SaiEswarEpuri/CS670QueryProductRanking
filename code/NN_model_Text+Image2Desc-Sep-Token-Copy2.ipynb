{
 "cells": [
  {
   "cell_type": "code",
   "execution_count": 1,
   "metadata": {
    "ExecuteTime": {
     "end_time": "2019-04-25T21:47:00.974391Z",
     "start_time": "2019-04-25T21:46:59.784323Z"
    }
   },
   "outputs": [
    {
     "name": "stderr",
     "output_type": "stream",
     "text": [
      "Using TensorFlow backend.\n"
     ]
    }
   ],
   "source": [
    "import numpy as np\n",
    "import pandas as pd\n",
    "import matplotlib\n",
    "import os\n",
    "from keras.layers import Input, BatchNormalization, Concatenate, Dense, GlobalAveragePooling2D, Dropout, concatenate\n",
    "from keras.models import Model\n",
    "from keras.optimizers import Adam\n",
    "from keras import backend as K\n",
    "from keras import regularizers\n",
    "from keras.callbacks import ModelCheckpoint, ReduceLROnPlateau, EarlyStopping, History, TensorBoard\n",
    "from keras.layers import Embedding, Flatten, Dense\n",
    "from keras.utils import plot_model"
   ]
  },
  {
   "cell_type": "code",
   "execution_count": 2,
   "metadata": {
    "ExecuteTime": {
     "end_time": "2019-04-25T21:47:00.977535Z",
     "start_time": "2019-04-25T21:47:00.975477Z"
    }
   },
   "outputs": [],
   "source": [
    "D = 100 # embedding dimension\n",
    "H = 300 # no.of hidden layer nodes"
   ]
  },
  {
   "cell_type": "code",
   "execution_count": 3,
   "metadata": {},
   "outputs": [],
   "source": [
    "product_desc = np.load('train_desc.npy')\n",
    "product_query = np.load('train_query.npy')\n",
    "product_desc_test = np.load('test_desc.npy')\n",
    "product_query_test = np.load('test_query.npy')\n",
    "train_image_embeddings = np.load('train_image_features.npy')\n",
    "test_image_embeddings = np.load('test_image_features.npy')\n",
    "product_id_final_test = np.load('product_id_final_test.npy')"
   ]
  },
  {
   "cell_type": "code",
   "execution_count": 4,
   "metadata": {},
   "outputs": [
    {
     "data": {
      "text/plain": [
       "(5659, 1000)"
      ]
     },
     "execution_count": 4,
     "metadata": {},
     "output_type": "execute_result"
    }
   ],
   "source": [
    "train_image_embeddings.shape"
   ]
  },
  {
   "cell_type": "code",
   "execution_count": 5,
   "metadata": {},
   "outputs": [],
   "source": [
    "final_text = np.concatenate((product_desc, product_query,product_desc_test, product_query_test),axis=0)\n",
    "final_text_query = np.concatenate((product_query, product_query_test), axis=0)\n",
    "final_text_description = np.concatenate((product_desc,product_desc_test), axis=0)"
   ]
  },
  {
   "cell_type": "code",
   "execution_count": 6,
   "metadata": {},
   "outputs": [],
   "source": [
    "import numpy as np\n",
    "modelGlove = {}\n",
    "with open(\"glove.6B.100d.txt\", \"r\", encoding='utf-8') as lines:\n",
    "        line = lines.readline()\n",
    "        while line:\n",
    "            modelGlove[line.split()[0]] = np.array(list(map(float, line.split()[1:])))\n",
    "            line = lines.readline()"
   ]
  },
  {
   "cell_type": "code",
   "execution_count": 7,
   "metadata": {},
   "outputs": [
    {
     "name": "stderr",
     "output_type": "stream",
     "text": [
      "/home/jharsh/miniconda3/envs/kerasGPU1/lib/python3.6/site-packages/keras_preprocessing/text.py:178: UserWarning: The `nb_words` argument in `Tokenizer` has been renamed `num_words`.\n",
      "  warnings.warn('The `nb_words` argument in `Tokenizer` '\n"
     ]
    }
   ],
   "source": [
    "from keras.preprocessing.text import Tokenizer\n",
    "from keras.preprocessing.sequence import pad_sequences\n",
    "MAX_NB_WORDS = 20000\n",
    "tokenizer_desc = Tokenizer(nb_words=MAX_NB_WORDS)\n",
    "tokenizer_desc.fit_on_texts(final_text_description)\n",
    "sequence_desc = tokenizer_desc.texts_to_sequences(product_desc)\n",
    "sequences_desc_test = tokenizer_desc.texts_to_sequences(product_desc_test)"
   ]
  },
  {
   "cell_type": "code",
   "execution_count": 8,
   "metadata": {},
   "outputs": [],
   "source": [
    "from keras.preprocessing.text import Tokenizer\n",
    "from keras.preprocessing.sequence import pad_sequences\n",
    "MAX_NB_WORDS = 20000\n",
    "tokenizer_query = Tokenizer(nb_words=MAX_NB_WORDS)\n",
    "tokenizer_query.fit_on_texts(final_text_query)\n",
    "sequences_query = tokenizer_query.texts_to_sequences(product_query)\n",
    "sequences_query_test = tokenizer_query.texts_to_sequences(product_query_test)"
   ]
  },
  {
   "cell_type": "code",
   "execution_count": 9,
   "metadata": {},
   "outputs": [
    {
     "name": "stdout",
     "output_type": "stream",
     "text": [
      "Found 34222 unique tokens.\n"
     ]
    }
   ],
   "source": [
    "word_index_desc = tokenizer_desc.word_index\n",
    "print('Found %s unique tokens.' % len(word_index_desc))"
   ]
  },
  {
   "cell_type": "code",
   "execution_count": 10,
   "metadata": {},
   "outputs": [
    {
     "name": "stdout",
     "output_type": "stream",
     "text": [
      "Found 476 unique tokens.\n"
     ]
    }
   ],
   "source": [
    "word_index_query = tokenizer_query.word_index\n",
    "print('Found %s unique tokens.' % len(word_index_query))"
   ]
  },
  {
   "cell_type": "code",
   "execution_count": 11,
   "metadata": {},
   "outputs": [],
   "source": [
    "data_d = pad_sequences(sequence_desc, maxlen=300)"
   ]
  },
  {
   "cell_type": "code",
   "execution_count": 12,
   "metadata": {},
   "outputs": [],
   "source": [
    "data_d_test = pad_sequences(sequences_desc_test, maxlen=300)"
   ]
  },
  {
   "cell_type": "code",
   "execution_count": 13,
   "metadata": {},
   "outputs": [],
   "source": [
    "data_q = pad_sequences(sequences_query, maxlen=20)"
   ]
  },
  {
   "cell_type": "code",
   "execution_count": 14,
   "metadata": {},
   "outputs": [],
   "source": [
    "data_q_test = pad_sequences(sequences_query_test, maxlen=20)"
   ]
  },
  {
   "cell_type": "code",
   "execution_count": 15,
   "metadata": {
    "ExecuteTime": {
     "end_time": "2019-04-25T21:47:01.434703Z",
     "start_time": "2019-04-25T21:47:01.337717Z"
    }
   },
   "outputs": [],
   "source": [
    "def root_mean_squared_error(y_true, y_pred):\n",
    "        return K.sqrt(K.mean(K.square(y_pred - y_true)))"
   ]
  },
  {
   "cell_type": "code",
   "execution_count": 16,
   "metadata": {},
   "outputs": [],
   "source": [
    "embedding_matrix_desc = np.zeros((len(word_index_desc) + 1, 100))\n",
    "for word, i in word_index_desc.items():\n",
    "    embedding_vector = modelGlove.get(word)\n",
    "    if embedding_vector is not None:\n",
    "        # words not found in embedding index will be all-zeros.\n",
    "        embedding_matrix_desc[i] = embedding_vector"
   ]
  },
  {
   "cell_type": "code",
   "execution_count": 17,
   "metadata": {},
   "outputs": [],
   "source": [
    "embedding_matrix_query = np.zeros((len(word_index_query) + 1, 100))\n",
    "for word, i in word_index_query.items():\n",
    "    embedding_vector = modelGlove.get(word)\n",
    "    if embedding_vector is not None:\n",
    "        # words not found in embedding index will be all-zeros.\n",
    "        embedding_matrix_query[i] = embedding_vector"
   ]
  },
  {
   "cell_type": "code",
   "execution_count": 18,
   "metadata": {},
   "outputs": [],
   "source": [
    "from keras.layers import Embedding\n",
    "\n",
    "embedding_layer_q = Embedding(len(word_index_query) + 1,\n",
    "                            100,\n",
    "                            weights=[embedding_matrix_query],\n",
    "                            input_length=20,\n",
    "                            trainable=False)\n",
    "embedding_layer_d = Embedding(len(word_index_desc) + 1,\n",
    "                            100,\n",
    "                            weights=[embedding_matrix_desc],\n",
    "                            input_length=300,\n",
    "                            trainable=False)"
   ]
  },
  {
   "cell_type": "code",
   "execution_count": 19,
   "metadata": {
    "ExecuteTime": {
     "end_time": "2019-04-25T21:47:00.977535Z",
     "start_time": "2019-04-25T21:47:00.975477Z"
    }
   },
   "outputs": [],
   "source": [
    "D = 100 # embedding dimension\n",
    "H = 300 # no.of hidden layer nodes"
   ]
  },
  {
   "cell_type": "code",
   "execution_count": 20,
   "metadata": {
    "ExecuteTime": {
     "end_time": "2019-04-25T21:47:01.197019Z",
     "start_time": "2019-04-25T21:47:00.979067Z"
    }
   },
   "outputs": [],
   "source": [
    "sequence_input_d = Input(shape=(300,), dtype='int32')\n",
    "embeddings_d = embedding_layer_d(sequence_input_d)\n",
    "sequence_input_q = Input(shape=(20,), dtype='int32')\n",
    "embeddings_q = embedding_layer_q(sequence_input_q)\n",
    "imageEmbeddingInput = Input(shape=(1000,))\n",
    "x5 = Dense(500,activation='relu')(imageEmbeddingInput)\n",
    "embedding_layer_d_flatten = Flatten()(embeddings_d) \n",
    "embedding_layer_q_flatten = Flatten()(embeddings_q)\n",
    "x3 = Dense(H,activation='relu')(x5)\n",
    "x1 = Dense(H,activation='relu')(embedding_layer_d_flatten)\n",
    "x2 = Dense(H,activation='relu')(embedding_layer_q_flatten)\n",
    "merge_x = concatenate([x1,x2,x3])\n",
    "x4 = Dense(H,activation='relu')(merge_x)\n",
    "x4 = Dense(H//4,activation='relu')(x4)\n",
    "x4 = Dense(H//16,activation='relu')(x4)\n",
    "#x4 = Dropout(0.5)(x4)\n",
    "final_x = Dense(1)(x4)"
   ]
  },
  {
   "cell_type": "code",
   "execution_count": 21,
   "metadata": {
    "ExecuteTime": {
     "end_time": "2019-04-25T21:47:01.201750Z",
     "start_time": "2019-04-25T21:47:01.198312Z"
    }
   },
   "outputs": [],
   "source": [
    "model = Model(inputs=[sequence_input_d,sequence_input_q,imageEmbeddingInput ], outputs=final_x)"
   ]
  },
  {
   "cell_type": "code",
   "execution_count": 22,
   "metadata": {
    "ExecuteTime": {
     "end_time": "2019-04-25T21:47:01.333015Z",
     "start_time": "2019-04-25T21:47:01.203516Z"
    },
    "scrolled": true
   },
   "outputs": [
    {
     "name": "stdout",
     "output_type": "stream",
     "text": [
      "__________________________________________________________________________________________________\n",
      "Layer (type)                    Output Shape         Param #     Connected to                     \n",
      "==================================================================================================\n",
      "input_1 (InputLayer)            (None, 300)          0                                            \n",
      "__________________________________________________________________________________________________\n",
      "input_2 (InputLayer)            (None, 20)           0                                            \n",
      "__________________________________________________________________________________________________\n",
      "embedding_2 (Embedding)         (None, 300, 100)     3422300     input_1[0][0]                    \n",
      "__________________________________________________________________________________________________\n",
      "embedding_1 (Embedding)         (None, 20, 100)      47700       input_2[0][0]                    \n",
      "__________________________________________________________________________________________________\n",
      "input_3 (InputLayer)            (None, 1000)         0                                            \n",
      "__________________________________________________________________________________________________\n",
      "flatten_1 (Flatten)             (None, 30000)        0           embedding_2[0][0]                \n",
      "__________________________________________________________________________________________________\n",
      "flatten_2 (Flatten)             (None, 2000)         0           embedding_1[0][0]                \n",
      "__________________________________________________________________________________________________\n",
      "dense_1 (Dense)                 (None, 500)          500500      input_3[0][0]                    \n",
      "__________________________________________________________________________________________________\n",
      "dense_3 (Dense)                 (None, 300)          9000300     flatten_1[0][0]                  \n",
      "__________________________________________________________________________________________________\n",
      "dense_4 (Dense)                 (None, 300)          600300      flatten_2[0][0]                  \n",
      "__________________________________________________________________________________________________\n",
      "dense_2 (Dense)                 (None, 300)          150300      dense_1[0][0]                    \n",
      "__________________________________________________________________________________________________\n",
      "concatenate_1 (Concatenate)     (None, 900)          0           dense_3[0][0]                    \n",
      "                                                                 dense_4[0][0]                    \n",
      "                                                                 dense_2[0][0]                    \n",
      "__________________________________________________________________________________________________\n",
      "dense_5 (Dense)                 (None, 300)          270300      concatenate_1[0][0]              \n",
      "__________________________________________________________________________________________________\n",
      "dense_6 (Dense)                 (None, 75)           22575       dense_5[0][0]                    \n",
      "__________________________________________________________________________________________________\n",
      "dense_7 (Dense)                 (None, 18)           1368        dense_6[0][0]                    \n",
      "__________________________________________________________________________________________________\n",
      "dense_8 (Dense)                 (None, 1)            19          dense_7[0][0]                    \n",
      "==================================================================================================\n",
      "Total params: 14,015,662\n",
      "Trainable params: 10,545,662\n",
      "Non-trainable params: 3,470,000\n",
      "__________________________________________________________________________________________________\n"
     ]
    }
   ],
   "source": [
    "model.summary()"
   ]
  },
  {
   "cell_type": "code",
   "execution_count": 23,
   "metadata": {},
   "outputs": [],
   "source": [
    "plot_model(model, to_file='model.png')"
   ]
  },
  {
   "cell_type": "code",
   "execution_count": 24,
   "metadata": {
    "ExecuteTime": {
     "end_time": "2019-04-25T21:47:01.600047Z",
     "start_time": "2019-04-25T21:47:01.438803Z"
    }
   },
   "outputs": [],
   "source": [
    "model.compile(loss=root_mean_squared_error,\n",
    "              optimizer=Adam(lr=0.0001),\n",
    "              metrics=['mse','mae'])"
   ]
  },
  {
   "cell_type": "code",
   "execution_count": 25,
   "metadata": {},
   "outputs": [],
   "source": [
    "train_relevance = np.load('final_train_Y.npy')"
   ]
  },
  {
   "cell_type": "code",
   "execution_count": 26,
   "metadata": {},
   "outputs": [],
   "source": [
    "test_relevance = np.load('final_test_Y.npy')"
   ]
  },
  {
   "cell_type": "code",
   "execution_count": 27,
   "metadata": {},
   "outputs": [
    {
     "data": {
      "text/plain": [
       "(1544,)"
      ]
     },
     "execution_count": 27,
     "metadata": {},
     "output_type": "execute_result"
    }
   ],
   "source": [
    "test_relevance.shape"
   ]
  },
  {
   "cell_type": "code",
   "execution_count": 28,
   "metadata": {},
   "outputs": [
    {
     "data": {
      "text/plain": [
       "(5659,)"
      ]
     },
     "execution_count": 28,
     "metadata": {},
     "output_type": "execute_result"
    }
   ],
   "source": [
    "train_relevance.shape"
   ]
  },
  {
   "cell_type": "code",
   "execution_count": 29,
   "metadata": {
    "ExecuteTime": {
     "end_time": "2019-04-25T21:47:01.850277Z",
     "start_time": "2019-04-25T21:47:01.727479Z"
    }
   },
   "outputs": [],
   "source": [
    "from sklearn.utils import shuffle\n",
    "train_descriptor, train_query, train_image_embedding_model, train_relevance = shuffle(data_d, data_q, train_image_embeddings, train_relevance)"
   ]
  },
  {
   "cell_type": "code",
   "execution_count": 30,
   "metadata": {},
   "outputs": [
    {
     "data": {
      "text/plain": [
       "((5659, 300), (5659, 20), (5659,), (5659, 1000))"
      ]
     },
     "execution_count": 30,
     "metadata": {},
     "output_type": "execute_result"
    }
   ],
   "source": [
    "train_descriptor.shape, train_query.shape, train_relevance.shape, train_image_embedding_model.shape\n"
   ]
  },
  {
   "cell_type": "code",
   "execution_count": 31,
   "metadata": {
    "ExecuteTime": {
     "end_time": "2019-04-25T21:47:01.945739Z",
     "start_time": "2019-04-25T21:47:01.852467Z"
    }
   },
   "outputs": [],
   "source": [
    "train_valid_split = 5000"
   ]
  },
  {
   "cell_type": "code",
   "execution_count": 32,
   "metadata": {
    "ExecuteTime": {
     "end_time": "2019-04-25T21:47:02.057134Z",
     "start_time": "2019-04-25T21:47:01.949907Z"
    }
   },
   "outputs": [],
   "source": [
    "valid_descriptor = train_descriptor[train_valid_split:]\n",
    "valid_query = train_query[train_valid_split:]\n",
    "valid_relevance = train_relevance[train_valid_split:]\n",
    "valid_image = train_image_embedding_model[train_valid_split:]"
   ]
  },
  {
   "cell_type": "code",
   "execution_count": 33,
   "metadata": {},
   "outputs": [
    {
     "data": {
      "text/plain": [
       "(659, 1000)"
      ]
     },
     "execution_count": 33,
     "metadata": {},
     "output_type": "execute_result"
    }
   ],
   "source": [
    "valid_image.shape\n"
   ]
  },
  {
   "cell_type": "code",
   "execution_count": 34,
   "metadata": {
    "ExecuteTime": {
     "end_time": "2019-04-25T21:47:02.179095Z",
     "start_time": "2019-04-25T21:47:02.061202Z"
    }
   },
   "outputs": [],
   "source": [
    "train_descriptor = train_descriptor[:train_valid_split]\n",
    "train_query = train_query[:train_valid_split]\n",
    "train_relevance = train_relevance[:train_valid_split]\n",
    "train_image_embedding_model = train_image_embedding_model[:train_valid_split]"
   ]
  },
  {
   "cell_type": "code",
   "execution_count": 35,
   "metadata": {
    "ExecuteTime": {
     "end_time": "2019-04-25T21:47:02.609733Z",
     "start_time": "2019-04-25T21:47:02.606308Z"
    }
   },
   "outputs": [],
   "source": [
    "checkpointer = ModelCheckpoint(filepath='NN_best_desc+rawImage_1.hdf5', verbose=1, save_best_only=True, save_weights_only=True)\n",
    "reduceLR = ReduceLROnPlateau(monitor='val_loss', factor=0.1, patience=20, min_lr=0)\n",
    "earlystopping = EarlyStopping(monitor='val_loss', patience=20)\n",
    "os.environ[\"CUDA_VISIBLE_DEVICES\"]=\"0\""
   ]
  },
  {
   "cell_type": "code",
   "execution_count": 36,
   "metadata": {
    "ExecuteTime": {
     "end_time": "2019-04-25T21:52:24.390605Z",
     "start_time": "2019-04-25T21:47:02.611454Z"
    },
    "scrolled": true
   },
   "outputs": [
    {
     "name": "stdout",
     "output_type": "stream",
     "text": [
      "Train on 5000 samples, validate on 659 samples\n",
      "Epoch 1/100\n",
      " - 7s - loss: 1.0353 - mean_squared_error: 1.2045 - mean_absolute_error: 0.8571 - val_loss: 0.8066 - val_mean_squared_error: 0.6612 - val_mean_absolute_error: 0.6566\n",
      "\n",
      "Epoch 00001: val_loss improved from inf to 0.80664, saving model to NN_best_desc+rawImage_1.hdf5\n",
      "Epoch 2/100\n",
      " - 4s - loss: 0.6768 - mean_squared_error: 0.4729 - mean_absolute_error: 0.5328 - val_loss: 0.7712 - val_mean_squared_error: 0.6051 - val_mean_absolute_error: 0.6297\n",
      "\n",
      "Epoch 00002: val_loss improved from 0.80664 to 0.77120, saving model to NN_best_desc+rawImage_1.hdf5\n",
      "Epoch 3/100\n",
      " - 4s - loss: 0.5007 - mean_squared_error: 0.2590 - mean_absolute_error: 0.3889 - val_loss: 0.7806 - val_mean_squared_error: 0.6190 - val_mean_absolute_error: 0.6462\n",
      "\n",
      "Epoch 00003: val_loss did not improve from 0.77120\n",
      "Epoch 4/100\n",
      " - 4s - loss: 0.3832 - mean_squared_error: 0.1521 - mean_absolute_error: 0.2914 - val_loss: 0.8040 - val_mean_squared_error: 0.6574 - val_mean_absolute_error: 0.6594\n",
      "\n",
      "Epoch 00004: val_loss did not improve from 0.77120\n",
      "Epoch 5/100\n",
      " - 4s - loss: 0.3341 - mean_squared_error: 0.1169 - mean_absolute_error: 0.2425 - val_loss: 0.7844 - val_mean_squared_error: 0.6267 - val_mean_absolute_error: 0.6453\n",
      "\n",
      "Epoch 00005: val_loss did not improve from 0.77120\n",
      "Epoch 6/100\n",
      " - 4s - loss: 0.3105 - mean_squared_error: 0.1018 - mean_absolute_error: 0.2266 - val_loss: 0.7937 - val_mean_squared_error: 0.6434 - val_mean_absolute_error: 0.6469\n",
      "\n",
      "Epoch 00006: val_loss did not improve from 0.77120\n",
      "Epoch 7/100\n",
      " - 4s - loss: 0.2869 - mean_squared_error: 0.0884 - mean_absolute_error: 0.2061 - val_loss: 0.7947 - val_mean_squared_error: 0.6432 - val_mean_absolute_error: 0.6531\n",
      "\n",
      "Epoch 00007: val_loss did not improve from 0.77120\n",
      "Epoch 8/100\n",
      " - 4s - loss: 0.2546 - mean_squared_error: 0.0687 - mean_absolute_error: 0.1844 - val_loss: 0.7888 - val_mean_squared_error: 0.6341 - val_mean_absolute_error: 0.6438\n",
      "\n",
      "Epoch 00008: val_loss did not improve from 0.77120\n",
      "Epoch 9/100\n",
      " - 4s - loss: 0.2491 - mean_squared_error: 0.0656 - mean_absolute_error: 0.1828 - val_loss: 0.7888 - val_mean_squared_error: 0.6365 - val_mean_absolute_error: 0.6517\n",
      "\n",
      "Epoch 00009: val_loss did not improve from 0.77120\n",
      "Epoch 10/100\n",
      " - 4s - loss: 0.2402 - mean_squared_error: 0.0615 - mean_absolute_error: 0.1737 - val_loss: 0.7726 - val_mean_squared_error: 0.6093 - val_mean_absolute_error: 0.6309\n",
      "\n",
      "Epoch 00010: val_loss did not improve from 0.77120\n",
      "Epoch 11/100\n",
      " - 4s - loss: 0.2246 - mean_squared_error: 0.0537 - mean_absolute_error: 0.1625 - val_loss: 0.7763 - val_mean_squared_error: 0.6159 - val_mean_absolute_error: 0.6365\n",
      "\n",
      "Epoch 00011: val_loss did not improve from 0.77120\n",
      "Epoch 12/100\n",
      " - 4s - loss: 0.2215 - mean_squared_error: 0.0526 - mean_absolute_error: 0.1591 - val_loss: 0.7713 - val_mean_squared_error: 0.6075 - val_mean_absolute_error: 0.6309\n",
      "\n",
      "Epoch 00012: val_loss did not improve from 0.77120\n",
      "Epoch 13/100\n",
      " - 4s - loss: 0.2046 - mean_squared_error: 0.0448 - mean_absolute_error: 0.1455 - val_loss: 0.7708 - val_mean_squared_error: 0.6083 - val_mean_absolute_error: 0.6373\n",
      "\n",
      "Epoch 00013: val_loss improved from 0.77120 to 0.77084, saving model to NN_best_desc+rawImage_1.hdf5\n",
      "Epoch 14/100\n",
      " - 4s - loss: 0.2080 - mean_squared_error: 0.0462 - mean_absolute_error: 0.1507 - val_loss: 0.7654 - val_mean_squared_error: 0.6004 - val_mean_absolute_error: 0.6263\n",
      "\n",
      "Epoch 00014: val_loss improved from 0.77084 to 0.76543, saving model to NN_best_desc+rawImage_1.hdf5\n",
      "Epoch 15/100\n",
      " - 4s - loss: 0.1985 - mean_squared_error: 0.0422 - mean_absolute_error: 0.1415 - val_loss: 0.7620 - val_mean_squared_error: 0.5970 - val_mean_absolute_error: 0.6123\n",
      "\n",
      "Epoch 00015: val_loss improved from 0.76543 to 0.76199, saving model to NN_best_desc+rawImage_1.hdf5\n",
      "Epoch 16/100\n",
      " - 4s - loss: 0.1909 - mean_squared_error: 0.0392 - mean_absolute_error: 0.1347 - val_loss: 0.7679 - val_mean_squared_error: 0.6044 - val_mean_absolute_error: 0.6242\n",
      "\n",
      "Epoch 00016: val_loss did not improve from 0.76199\n",
      "Epoch 17/100\n",
      " - 4s - loss: 0.1902 - mean_squared_error: 0.0387 - mean_absolute_error: 0.1355 - val_loss: 0.7567 - val_mean_squared_error: 0.5890 - val_mean_absolute_error: 0.6134\n",
      "\n",
      "Epoch 00017: val_loss improved from 0.76199 to 0.75667, saving model to NN_best_desc+rawImage_1.hdf5\n",
      "Epoch 18/100\n",
      " - 4s - loss: 0.1876 - mean_squared_error: 0.0379 - mean_absolute_error: 0.1338 - val_loss: 0.7685 - val_mean_squared_error: 0.6069 - val_mean_absolute_error: 0.6242\n",
      "\n",
      "Epoch 00018: val_loss did not improve from 0.75667\n",
      "Epoch 19/100\n",
      " - 4s - loss: 0.1763 - mean_squared_error: 0.0335 - mean_absolute_error: 0.1242 - val_loss: 0.7594 - val_mean_squared_error: 0.5918 - val_mean_absolute_error: 0.6203\n",
      "\n",
      "Epoch 00019: val_loss did not improve from 0.75667\n",
      "Epoch 20/100\n",
      " - 4s - loss: 0.1804 - mean_squared_error: 0.0347 - mean_absolute_error: 0.1275 - val_loss: 0.7632 - val_mean_squared_error: 0.5985 - val_mean_absolute_error: 0.6254\n",
      "\n",
      "Epoch 00020: val_loss did not improve from 0.75667\n",
      "Epoch 21/100\n",
      " - 4s - loss: 0.1765 - mean_squared_error: 0.0339 - mean_absolute_error: 0.1241 - val_loss: 0.7574 - val_mean_squared_error: 0.5891 - val_mean_absolute_error: 0.6108\n",
      "\n",
      "Epoch 00021: val_loss did not improve from 0.75667\n",
      "Epoch 22/100\n",
      " - 4s - loss: 0.1665 - mean_squared_error: 0.0302 - mean_absolute_error: 0.1182 - val_loss: 0.7703 - val_mean_squared_error: 0.6077 - val_mean_absolute_error: 0.6297\n",
      "\n",
      "Epoch 00022: val_loss did not improve from 0.75667\n",
      "Epoch 23/100\n",
      " - 4s - loss: 0.1720 - mean_squared_error: 0.0317 - mean_absolute_error: 0.1211 - val_loss: 0.7581 - val_mean_squared_error: 0.5895 - val_mean_absolute_error: 0.6137\n",
      "\n",
      "Epoch 00023: val_loss did not improve from 0.75667\n",
      "Epoch 24/100\n",
      " - 4s - loss: 0.1656 - mean_squared_error: 0.0298 - mean_absolute_error: 0.1147 - val_loss: 0.7615 - val_mean_squared_error: 0.5983 - val_mean_absolute_error: 0.6157\n",
      "\n",
      "Epoch 00024: val_loss did not improve from 0.75667\n",
      "Epoch 25/100\n",
      " - 4s - loss: 0.1648 - mean_squared_error: 0.0297 - mean_absolute_error: 0.1166 - val_loss: 0.7561 - val_mean_squared_error: 0.5883 - val_mean_absolute_error: 0.6122\n",
      "\n",
      "Epoch 00025: val_loss improved from 0.75667 to 0.75607, saving model to NN_best_desc+rawImage_1.hdf5\n",
      "Epoch 26/100\n",
      " - 4s - loss: 0.1608 - mean_squared_error: 0.0280 - mean_absolute_error: 0.1159 - val_loss: 0.7627 - val_mean_squared_error: 0.5979 - val_mean_absolute_error: 0.6211\n",
      "\n",
      "Epoch 00026: val_loss did not improve from 0.75607\n",
      "Epoch 27/100\n",
      " - 4s - loss: 0.1608 - mean_squared_error: 0.0278 - mean_absolute_error: 0.1128 - val_loss: 0.7574 - val_mean_squared_error: 0.5920 - val_mean_absolute_error: 0.6064\n",
      "\n",
      "Epoch 00027: val_loss did not improve from 0.75607\n",
      "Epoch 28/100\n",
      " - 4s - loss: 0.1586 - mean_squared_error: 0.0272 - mean_absolute_error: 0.1113 - val_loss: 0.7591 - val_mean_squared_error: 0.5928 - val_mean_absolute_error: 0.6155\n",
      "\n",
      "Epoch 00028: val_loss did not improve from 0.75607\n",
      "Epoch 29/100\n",
      " - 4s - loss: 0.1557 - mean_squared_error: 0.0263 - mean_absolute_error: 0.1115 - val_loss: 0.7567 - val_mean_squared_error: 0.5894 - val_mean_absolute_error: 0.6109\n",
      "\n",
      "Epoch 00029: val_loss did not improve from 0.75607\n",
      "Epoch 30/100\n",
      " - 4s - loss: 0.1504 - mean_squared_error: 0.0245 - mean_absolute_error: 0.1064 - val_loss: 0.7553 - val_mean_squared_error: 0.5890 - val_mean_absolute_error: 0.6061\n",
      "\n",
      "Epoch 00030: val_loss improved from 0.75607 to 0.75527, saving model to NN_best_desc+rawImage_1.hdf5\n",
      "Epoch 31/100\n",
      " - 4s - loss: 0.1516 - mean_squared_error: 0.0252 - mean_absolute_error: 0.1070 - val_loss: 0.7624 - val_mean_squared_error: 0.5995 - val_mean_absolute_error: 0.6103\n",
      "\n",
      "Epoch 00031: val_loss did not improve from 0.75527\n",
      "Epoch 32/100\n",
      " - 4s - loss: 0.1512 - mean_squared_error: 0.0248 - mean_absolute_error: 0.1069 - val_loss: 0.7562 - val_mean_squared_error: 0.5889 - val_mean_absolute_error: 0.6096\n",
      "\n",
      "Epoch 00032: val_loss did not improve from 0.75527\n",
      "Epoch 33/100\n",
      " - 4s - loss: 0.1470 - mean_squared_error: 0.0237 - mean_absolute_error: 0.1054 - val_loss: 0.7635 - val_mean_squared_error: 0.6019 - val_mean_absolute_error: 0.6131\n",
      "\n",
      "Epoch 00033: val_loss did not improve from 0.75527\n",
      "Epoch 34/100\n",
      " - 4s - loss: 0.1407 - mean_squared_error: 0.0220 - mean_absolute_error: 0.0991 - val_loss: 0.7537 - val_mean_squared_error: 0.5871 - val_mean_absolute_error: 0.6075\n"
     ]
    },
    {
     "name": "stdout",
     "output_type": "stream",
     "text": [
      "\n",
      "Epoch 00034: val_loss improved from 0.75527 to 0.75373, saving model to NN_best_desc+rawImage_1.hdf5\n",
      "Epoch 35/100\n",
      " - 4s - loss: 0.1423 - mean_squared_error: 0.0221 - mean_absolute_error: 0.0992 - val_loss: 0.7593 - val_mean_squared_error: 0.5930 - val_mean_absolute_error: 0.6208\n",
      "\n",
      "Epoch 00035: val_loss did not improve from 0.75373\n",
      "Epoch 36/100\n",
      " - 3s - loss: 0.1394 - mean_squared_error: 0.0215 - mean_absolute_error: 0.0992 - val_loss: 0.7557 - val_mean_squared_error: 0.5918 - val_mean_absolute_error: 0.5996\n",
      "\n",
      "Epoch 00036: val_loss did not improve from 0.75373\n",
      "Epoch 37/100\n",
      " - 2s - loss: 0.1463 - mean_squared_error: 0.0236 - mean_absolute_error: 0.1047 - val_loss: 0.7569 - val_mean_squared_error: 0.5915 - val_mean_absolute_error: 0.6090\n",
      "\n",
      "Epoch 00037: val_loss did not improve from 0.75373\n",
      "Epoch 38/100\n",
      " - 2s - loss: 0.1410 - mean_squared_error: 0.0218 - mean_absolute_error: 0.1006 - val_loss: 0.7563 - val_mean_squared_error: 0.5890 - val_mean_absolute_error: 0.6098\n",
      "\n",
      "Epoch 00038: val_loss did not improve from 0.75373\n",
      "Epoch 39/100\n",
      " - 2s - loss: 0.1346 - mean_squared_error: 0.0203 - mean_absolute_error: 0.0944 - val_loss: 0.7612 - val_mean_squared_error: 0.5971 - val_mean_absolute_error: 0.6113\n",
      "\n",
      "Epoch 00039: val_loss did not improve from 0.75373\n",
      "Epoch 40/100\n",
      " - 2s - loss: 0.1398 - mean_squared_error: 0.0212 - mean_absolute_error: 0.1008 - val_loss: 0.7555 - val_mean_squared_error: 0.5888 - val_mean_absolute_error: 0.6127\n",
      "\n",
      "Epoch 00040: val_loss did not improve from 0.75373\n",
      "Epoch 41/100\n",
      " - 2s - loss: 0.1388 - mean_squared_error: 0.0214 - mean_absolute_error: 0.0994 - val_loss: 0.7565 - val_mean_squared_error: 0.5910 - val_mean_absolute_error: 0.6043\n",
      "\n",
      "Epoch 00041: val_loss did not improve from 0.75373\n",
      "Epoch 42/100\n",
      " - 2s - loss: 0.1338 - mean_squared_error: 0.0196 - mean_absolute_error: 0.0962 - val_loss: 0.7622 - val_mean_squared_error: 0.5990 - val_mean_absolute_error: 0.6193\n",
      "\n",
      "Epoch 00042: val_loss did not improve from 0.75373\n",
      "Epoch 43/100\n",
      " - 2s - loss: 0.1285 - mean_squared_error: 0.0183 - mean_absolute_error: 0.0927 - val_loss: 0.7589 - val_mean_squared_error: 0.5952 - val_mean_absolute_error: 0.6142\n",
      "\n",
      "Epoch 00043: val_loss did not improve from 0.75373\n",
      "Epoch 44/100\n",
      " - 2s - loss: 0.1296 - mean_squared_error: 0.0184 - mean_absolute_error: 0.0920 - val_loss: 0.7595 - val_mean_squared_error: 0.5947 - val_mean_absolute_error: 0.6151\n",
      "\n",
      "Epoch 00044: val_loss did not improve from 0.75373\n",
      "Epoch 45/100\n",
      " - 2s - loss: 0.1298 - mean_squared_error: 0.0186 - mean_absolute_error: 0.0910 - val_loss: 0.7590 - val_mean_squared_error: 0.5955 - val_mean_absolute_error: 0.6082\n",
      "\n",
      "Epoch 00045: val_loss did not improve from 0.75373\n",
      "Epoch 46/100\n",
      " - 2s - loss: 0.1278 - mean_squared_error: 0.0182 - mean_absolute_error: 0.0906 - val_loss: 0.7613 - val_mean_squared_error: 0.5991 - val_mean_absolute_error: 0.6066\n",
      "\n",
      "Epoch 00046: val_loss did not improve from 0.75373\n",
      "Epoch 47/100\n",
      " - 2s - loss: 0.1254 - mean_squared_error: 0.0173 - mean_absolute_error: 0.0898 - val_loss: 0.7551 - val_mean_squared_error: 0.5889 - val_mean_absolute_error: 0.6045\n",
      "\n",
      "Epoch 00047: val_loss did not improve from 0.75373\n",
      "Epoch 48/100\n",
      " - 2s - loss: 0.1273 - mean_squared_error: 0.0180 - mean_absolute_error: 0.0908 - val_loss: 0.7538 - val_mean_squared_error: 0.5878 - val_mean_absolute_error: 0.6059\n",
      "\n",
      "Epoch 00048: val_loss did not improve from 0.75373\n",
      "Epoch 49/100\n",
      " - 2s - loss: 0.1271 - mean_squared_error: 0.0176 - mean_absolute_error: 0.0912 - val_loss: 0.7647 - val_mean_squared_error: 0.6033 - val_mean_absolute_error: 0.6129\n",
      "\n",
      "Epoch 00049: val_loss did not improve from 0.75373\n",
      "Epoch 50/100\n",
      " - 2s - loss: 0.1272 - mean_squared_error: 0.0177 - mean_absolute_error: 0.0908 - val_loss: 0.7567 - val_mean_squared_error: 0.5915 - val_mean_absolute_error: 0.6077\n",
      "\n",
      "Epoch 00050: val_loss did not improve from 0.75373\n",
      "Epoch 51/100\n",
      " - 2s - loss: 0.1240 - mean_squared_error: 0.0171 - mean_absolute_error: 0.0876 - val_loss: 0.7639 - val_mean_squared_error: 0.6028 - val_mean_absolute_error: 0.6101\n",
      "\n",
      "Epoch 00051: val_loss did not improve from 0.75373\n",
      "Epoch 52/100\n",
      " - 2s - loss: 0.1228 - mean_squared_error: 0.0168 - mean_absolute_error: 0.0870 - val_loss: 0.7576 - val_mean_squared_error: 0.5931 - val_mean_absolute_error: 0.6138\n",
      "\n",
      "Epoch 00052: val_loss did not improve from 0.75373\n",
      "Epoch 53/100\n",
      " - 2s - loss: 0.1208 - mean_squared_error: 0.0163 - mean_absolute_error: 0.0861 - val_loss: 0.7662 - val_mean_squared_error: 0.6064 - val_mean_absolute_error: 0.6173\n",
      "\n",
      "Epoch 00053: val_loss did not improve from 0.75373\n",
      "Epoch 54/100\n",
      " - 2s - loss: 0.1217 - mean_squared_error: 0.0167 - mean_absolute_error: 0.0850 - val_loss: 0.7628 - val_mean_squared_error: 0.6020 - val_mean_absolute_error: 0.6127\n",
      "\n",
      "Epoch 00054: val_loss did not improve from 0.75373\n"
     ]
    },
    {
     "data": {
      "text/plain": [
       "<keras.callbacks.History at 0x7fdd7403b7f0>"
      ]
     },
     "execution_count": 36,
     "metadata": {},
     "output_type": "execute_result"
    }
   ],
   "source": [
    "model.fit([train_descriptor,train_query, train_image_embedding_model],train_relevance, epochs=100, verbose=2,\n",
    "          validation_data=([valid_descriptor, valid_query, valid_image], valid_relevance), batch_size=32,\n",
    "                    callbacks=[checkpointer, earlystopping])"
   ]
  },
  {
   "cell_type": "code",
   "execution_count": 38,
   "metadata": {
    "ExecuteTime": {
     "end_time": "2019-04-25T21:52:24.444066Z",
     "start_time": "2019-04-25T21:52:24.392007Z"
    }
   },
   "outputs": [],
   "source": [
    "model.load_weights('NN_best_desc+rawImage_1.hdf5')"
   ]
  },
  {
   "cell_type": "code",
   "execution_count": 39,
   "metadata": {
    "ExecuteTime": {
     "end_time": "2019-04-25T21:52:24.545280Z",
     "start_time": "2019-04-25T21:52:24.445912Z"
    },
    "scrolled": true
   },
   "outputs": [
    {
     "name": "stdout",
     "output_type": "stream",
     "text": [
      "1544/1544 [==============================] - 0s 77us/step\n"
     ]
    },
    {
     "data": {
      "text/plain": [
       "[0.7709781413251254, 0.6118609729208477, 0.6055044593588675]"
      ]
     },
     "execution_count": 39,
     "metadata": {},
     "output_type": "execute_result"
    }
   ],
   "source": [
    "model.evaluate([data_d_test,data_q_test,test_image_embeddings],test_relevance)"
   ]
  },
  {
   "cell_type": "code",
   "execution_count": 40,
   "metadata": {},
   "outputs": [],
   "source": [
    "predictedResilts = model.predict([data_d_test,data_q_test,test_image_embeddings])\n",
    "resDumpRawImage = []\n",
    "for i in range(len(predictedResilts)):\n",
    "    resDumpRawImage.append((product_query_test[i],product_id_final_test[i],test_relevance[i], np.asscalar(predictedResilts[i])))\n",
    "np.save('resDesc+ImageRaw', resDumpRawImage)"
   ]
  },
  {
   "cell_type": "code",
   "execution_count": null,
   "metadata": {},
   "outputs": [],
   "source": []
  }
 ],
 "metadata": {
  "kernelspec": {
   "display_name": "Python 3",
   "language": "python",
   "name": "python3"
  },
  "language_info": {
   "codemirror_mode": {
    "name": "ipython",
    "version": 3
   },
   "file_extension": ".py",
   "mimetype": "text/x-python",
   "name": "python",
   "nbconvert_exporter": "python",
   "pygments_lexer": "ipython3",
   "version": "3.6.8"
  },
  "toc": {
   "nav_menu": {},
   "number_sections": true,
   "sideBar": true,
   "skip_h1_title": false,
   "toc_cell": false,
   "toc_position": {},
   "toc_section_display": "block",
   "toc_window_display": false
  }
 },
 "nbformat": 4,
 "nbformat_minor": 2
}
