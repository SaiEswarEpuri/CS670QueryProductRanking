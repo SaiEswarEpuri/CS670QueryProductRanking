{
 "cells": [
  {
   "cell_type": "code",
   "execution_count": 1,
   "metadata": {
    "ExecuteTime": {
     "end_time": "2019-04-25T21:47:00.974391Z",
     "start_time": "2019-04-25T21:46:59.784323Z"
    }
   },
   "outputs": [
    {
     "name": "stderr",
     "output_type": "stream",
     "text": [
      "Using TensorFlow backend.\n"
     ]
    }
   ],
   "source": [
    "import numpy as np\n",
    "import pandas as pd\n",
    "import matplotlib\n",
    "import os\n",
    "from keras.layers import Input, BatchNormalization, Concatenate, Dense, GlobalAveragePooling2D, Dropout, concatenate\n",
    "from keras.models import Model\n",
    "from keras.optimizers import Adam\n",
    "from keras import backend as K\n",
    "from keras import regularizers\n",
    "from keras.callbacks import ModelCheckpoint, ReduceLROnPlateau, EarlyStopping, History, TensorBoard\n",
    "from keras.layers import Embedding, Flatten, Dense\n",
    "from keras.utils import plot_model"
   ]
  },
  {
   "cell_type": "code",
   "execution_count": 2,
   "metadata": {
    "ExecuteTime": {
     "end_time": "2019-04-25T21:47:00.977535Z",
     "start_time": "2019-04-25T21:47:00.975477Z"
    }
   },
   "outputs": [],
   "source": [
    "D = 100 # embedding dimension\n",
    "H = 300 # no.of hidden layer nodes"
   ]
  },
  {
   "cell_type": "code",
   "execution_count": 3,
   "metadata": {},
   "outputs": [],
   "source": [
    "product_desc = np.load('train_desc.npy')\n",
    "product_query = np.load('train_query.npy')\n",
    "product_desc_test = np.load('test_desc.npy')\n",
    "product_query_test = np.load('test_query.npy')\n",
    "train_image_embeddings = np.load('train_embedding_image_preds.npy')\n",
    "test_image_embeddings = np.load('test_embedding_image_preds.npy')\n",
    "product_id_final_test = np.load('product_id_final_test.npy')"
   ]
  },
  {
   "cell_type": "code",
   "execution_count": 4,
   "metadata": {},
   "outputs": [
    {
     "data": {
      "text/plain": [
       "(5659, 100)"
      ]
     },
     "execution_count": 4,
     "metadata": {},
     "output_type": "execute_result"
    }
   ],
   "source": [
    "train_image_embeddings.shape"
   ]
  },
  {
   "cell_type": "raw",
   "metadata": {},
   "source": []
  },
  {
   "cell_type": "code",
   "execution_count": 5,
   "metadata": {},
   "outputs": [],
   "source": [
    "final_text = np.concatenate((product_desc, product_query,product_desc_test, product_query_test),axis=0)\n",
    "final_text_query = np.concatenate((product_query, product_query_test), axis=0)\n",
    "final_text_description = np.concatenate((product_desc,product_desc_test), axis=0)"
   ]
  },
  {
   "cell_type": "code",
   "execution_count": 6,
   "metadata": {},
   "outputs": [],
   "source": [
    "import numpy as np\n",
    "modelGlove = {}\n",
    "with open(\"glove.6B.100d.txt\", \"r\", encoding='utf-8') as lines:\n",
    "        line = lines.readline()\n",
    "        while line:\n",
    "            modelGlove[line.split()[0]] = np.array(list(map(float, line.split()[1:])))\n",
    "            line = lines.readline()"
   ]
  },
  {
   "cell_type": "code",
   "execution_count": 7,
   "metadata": {},
   "outputs": [
    {
     "name": "stderr",
     "output_type": "stream",
     "text": [
      "/home/jharsh/miniconda3/envs/kerasGPU1/lib/python3.6/site-packages/keras_preprocessing/text.py:178: UserWarning: The `nb_words` argument in `Tokenizer` has been renamed `num_words`.\n",
      "  warnings.warn('The `nb_words` argument in `Tokenizer` '\n"
     ]
    }
   ],
   "source": [
    "from keras.preprocessing.text import Tokenizer\n",
    "from keras.preprocessing.sequence import pad_sequences\n",
    "MAX_NB_WORDS = 20000\n",
    "tokenizer_desc = Tokenizer(nb_words=MAX_NB_WORDS)\n",
    "tokenizer_desc.fit_on_texts(final_text_description)\n",
    "sequence_desc = tokenizer_desc.texts_to_sequences(product_desc)\n",
    "sequences_desc_test = tokenizer_desc.texts_to_sequences(product_desc_test)"
   ]
  },
  {
   "cell_type": "code",
   "execution_count": 8,
   "metadata": {},
   "outputs": [],
   "source": [
    "from keras.preprocessing.text import Tokenizer\n",
    "from keras.preprocessing.sequence import pad_sequences\n",
    "MAX_NB_WORDS = 20000\n",
    "tokenizer_query = Tokenizer(nb_words=MAX_NB_WORDS)\n",
    "tokenizer_query.fit_on_texts(final_text_query)\n",
    "sequences_query = tokenizer_query.texts_to_sequences(product_query)\n",
    "sequences_query_test = tokenizer_query.texts_to_sequences(product_query_test)"
   ]
  },
  {
   "cell_type": "code",
   "execution_count": 9,
   "metadata": {},
   "outputs": [
    {
     "name": "stdout",
     "output_type": "stream",
     "text": [
      "Found 34222 unique tokens.\n"
     ]
    }
   ],
   "source": [
    "word_index_desc = tokenizer_desc.word_index\n",
    "print('Found %s unique tokens.' % len(word_index_desc))"
   ]
  },
  {
   "cell_type": "code",
   "execution_count": 10,
   "metadata": {},
   "outputs": [
    {
     "name": "stdout",
     "output_type": "stream",
     "text": [
      "Found 476 unique tokens.\n"
     ]
    }
   ],
   "source": [
    "word_index_query = tokenizer_query.word_index\n",
    "print('Found %s unique tokens.' % len(word_index_query))"
   ]
  },
  {
   "cell_type": "code",
   "execution_count": 11,
   "metadata": {},
   "outputs": [],
   "source": [
    "data_d = pad_sequences(sequence_desc, maxlen=300)"
   ]
  },
  {
   "cell_type": "code",
   "execution_count": 12,
   "metadata": {},
   "outputs": [],
   "source": [
    "data_d_test = pad_sequences(sequences_desc_test, maxlen=300)"
   ]
  },
  {
   "cell_type": "code",
   "execution_count": 13,
   "metadata": {},
   "outputs": [],
   "source": [
    "data_q = pad_sequences(sequences_query, maxlen=20)"
   ]
  },
  {
   "cell_type": "code",
   "execution_count": 14,
   "metadata": {},
   "outputs": [],
   "source": [
    "data_q_test = pad_sequences(sequences_query_test, maxlen=20)"
   ]
  },
  {
   "cell_type": "code",
   "execution_count": 15,
   "metadata": {
    "ExecuteTime": {
     "end_time": "2019-04-25T21:47:01.434703Z",
     "start_time": "2019-04-25T21:47:01.337717Z"
    }
   },
   "outputs": [],
   "source": [
    "def root_mean_squared_error(y_true, y_pred):\n",
    "        return K.sqrt(K.mean(K.square(y_pred - y_true)))"
   ]
  },
  {
   "cell_type": "code",
   "execution_count": 16,
   "metadata": {},
   "outputs": [],
   "source": [
    "embedding_matrix_desc = np.zeros((len(word_index_desc) + 1, 100))\n",
    "for word, i in word_index_desc.items():\n",
    "    embedding_vector = modelGlove.get(word)\n",
    "    if embedding_vector is not None:\n",
    "        # words not found in embedding index will be all-zeros.\n",
    "        embedding_matrix_desc[i] = embedding_vector"
   ]
  },
  {
   "cell_type": "code",
   "execution_count": 17,
   "metadata": {},
   "outputs": [],
   "source": [
    "embedding_matrix_query = np.zeros((len(word_index_query) + 1, 100))\n",
    "for word, i in word_index_query.items():\n",
    "    embedding_vector = modelGlove.get(word)\n",
    "    if embedding_vector is not None:\n",
    "        # words not found in embedding index will be all-zeros.\n",
    "        embedding_matrix_query[i] = embedding_vector"
   ]
  },
  {
   "cell_type": "code",
   "execution_count": 18,
   "metadata": {},
   "outputs": [],
   "source": [
    "from keras.layers import Embedding\n",
    "\n",
    "embedding_layer_q = Embedding(len(word_index_query) + 1,\n",
    "                            100,\n",
    "                            weights=[embedding_matrix_query],\n",
    "                            input_length=20,\n",
    "                            trainable=False)\n",
    "embedding_layer_d = Embedding(len(word_index_desc) + 1,\n",
    "                            100,\n",
    "                            weights=[embedding_matrix_desc],\n",
    "                            input_length=300,\n",
    "                            trainable=False)"
   ]
  },
  {
   "cell_type": "code",
   "execution_count": 19,
   "metadata": {
    "ExecuteTime": {
     "end_time": "2019-04-25T21:47:00.977535Z",
     "start_time": "2019-04-25T21:47:00.975477Z"
    }
   },
   "outputs": [],
   "source": [
    "D = 100 # embedding dimension\n",
    "H = 300 # no.of hidden layer nodes"
   ]
  },
  {
   "cell_type": "code",
   "execution_count": 20,
   "metadata": {
    "ExecuteTime": {
     "end_time": "2019-04-25T21:47:01.197019Z",
     "start_time": "2019-04-25T21:47:00.979067Z"
    }
   },
   "outputs": [],
   "source": [
    "sequence_input_d = Input(shape=(300,), dtype='int32')\n",
    "embeddings_d = embedding_layer_d(sequence_input_d)\n",
    "sequence_input_q = Input(shape=(20,), dtype='int32')\n",
    "embeddings_q = embedding_layer_q(sequence_input_q)\n",
    "imageEmbeddingInput = Input(shape=(100,))\n",
    "embedding_layer_d_flatten = Flatten()(embeddings_d) \n",
    "embedding_layer_q_flatten = Flatten()(embeddings_q)\n",
    "x3 = Dense(H,activation='relu')(imageEmbeddingInput)\n",
    "x1 = Dense(H,activation='relu')(embedding_layer_d_flatten)\n",
    "x2 = Dense(H,activation='relu')(embedding_layer_q_flatten)\n",
    "merge_x = concatenate([x1,x2,x3])\n",
    "x4 = Dense(H,activation='relu')(merge_x)\n",
    "x4 = Dense(H//4,activation='relu')(x4)\n",
    "x4 = Dense(H//16,activation='relu')(x4)\n",
    "#x4 = Dropout(0.5)(x4)\n",
    "final_x = Dense(1)(x4)"
   ]
  },
  {
   "cell_type": "code",
   "execution_count": 21,
   "metadata": {
    "ExecuteTime": {
     "end_time": "2019-04-25T21:47:01.201750Z",
     "start_time": "2019-04-25T21:47:01.198312Z"
    }
   },
   "outputs": [],
   "source": [
    "model = Model(inputs=[sequence_input_d,sequence_input_q,imageEmbeddingInput ], outputs=final_x)"
   ]
  },
  {
   "cell_type": "code",
   "execution_count": 22,
   "metadata": {
    "ExecuteTime": {
     "end_time": "2019-04-25T21:47:01.333015Z",
     "start_time": "2019-04-25T21:47:01.203516Z"
    },
    "scrolled": true
   },
   "outputs": [
    {
     "name": "stdout",
     "output_type": "stream",
     "text": [
      "__________________________________________________________________________________________________\n",
      "Layer (type)                    Output Shape         Param #     Connected to                     \n",
      "==================================================================================================\n",
      "input_1 (InputLayer)            (None, 300)          0                                            \n",
      "__________________________________________________________________________________________________\n",
      "input_2 (InputLayer)            (None, 20)           0                                            \n",
      "__________________________________________________________________________________________________\n",
      "embedding_2 (Embedding)         (None, 300, 100)     3422300     input_1[0][0]                    \n",
      "__________________________________________________________________________________________________\n",
      "embedding_1 (Embedding)         (None, 20, 100)      47700       input_2[0][0]                    \n",
      "__________________________________________________________________________________________________\n",
      "flatten_1 (Flatten)             (None, 30000)        0           embedding_2[0][0]                \n",
      "__________________________________________________________________________________________________\n",
      "flatten_2 (Flatten)             (None, 2000)         0           embedding_1[0][0]                \n",
      "__________________________________________________________________________________________________\n",
      "input_3 (InputLayer)            (None, 100)          0                                            \n",
      "__________________________________________________________________________________________________\n",
      "dense_2 (Dense)                 (None, 300)          9000300     flatten_1[0][0]                  \n",
      "__________________________________________________________________________________________________\n",
      "dense_3 (Dense)                 (None, 300)          600300      flatten_2[0][0]                  \n",
      "__________________________________________________________________________________________________\n",
      "dense_1 (Dense)                 (None, 300)          30300       input_3[0][0]                    \n",
      "__________________________________________________________________________________________________\n",
      "concatenate_1 (Concatenate)     (None, 900)          0           dense_2[0][0]                    \n",
      "                                                                 dense_3[0][0]                    \n",
      "                                                                 dense_1[0][0]                    \n",
      "__________________________________________________________________________________________________\n",
      "dense_4 (Dense)                 (None, 300)          270300      concatenate_1[0][0]              \n",
      "__________________________________________________________________________________________________\n",
      "dense_5 (Dense)                 (None, 75)           22575       dense_4[0][0]                    \n",
      "__________________________________________________________________________________________________\n",
      "dense_6 (Dense)                 (None, 18)           1368        dense_5[0][0]                    \n",
      "__________________________________________________________________________________________________\n",
      "dense_7 (Dense)                 (None, 1)            19          dense_6[0][0]                    \n",
      "==================================================================================================\n",
      "Total params: 13,395,162\n",
      "Trainable params: 9,925,162\n",
      "Non-trainable params: 3,470,000\n",
      "__________________________________________________________________________________________________\n"
     ]
    }
   ],
   "source": [
    "model.summary()"
   ]
  },
  {
   "cell_type": "code",
   "execution_count": 23,
   "metadata": {},
   "outputs": [],
   "source": [
    "plot_model(model, to_file='model.png')"
   ]
  },
  {
   "cell_type": "code",
   "execution_count": null,
   "metadata": {
    "ExecuteTime": {
     "end_time": "2019-04-25T21:47:01.600047Z",
     "start_time": "2019-04-25T21:47:01.438803Z"
    }
   },
   "outputs": [],
   "source": [
    "model.compile(loss=root_mean_squared_error,\n",
    "              optimizer=Adam(lr=0.0001),\n",
    "              metrics=['mse','mae'])"
   ]
  },
  {
   "cell_type": "code",
   "execution_count": null,
   "metadata": {},
   "outputs": [],
   "source": [
    "train_relevance = np.load('final_train_Y.npy')"
   ]
  },
  {
   "cell_type": "code",
   "execution_count": null,
   "metadata": {},
   "outputs": [],
   "source": [
    "test_relevance = np.load('final_test_Y.npy')"
   ]
  },
  {
   "cell_type": "code",
   "execution_count": null,
   "metadata": {},
   "outputs": [
    {
     "data": {
      "text/plain": [
       "(1544,)"
      ]
     },
     "execution_count": 27,
     "metadata": {},
     "output_type": "execute_result"
    }
   ],
   "source": [
    "test_relevance.shape"
   ]
  },
  {
   "cell_type": "code",
   "execution_count": null,
   "metadata": {},
   "outputs": [
    {
     "data": {
      "text/plain": [
       "(5659,)"
      ]
     },
     "execution_count": 28,
     "metadata": {},
     "output_type": "execute_result"
    }
   ],
   "source": [
    "train_relevance.shape"
   ]
  },
  {
   "cell_type": "code",
   "execution_count": null,
   "metadata": {
    "ExecuteTime": {
     "end_time": "2019-04-25T21:47:01.850277Z",
     "start_time": "2019-04-25T21:47:01.727479Z"
    }
   },
   "outputs": [],
   "source": [
    "from sklearn.utils import shuffle\n",
    "train_descriptor, train_query, train_image_embedding_model, train_relevance = shuffle(data_d, data_q, train_image_embeddings, train_relevance)"
   ]
  },
  {
   "cell_type": "code",
   "execution_count": null,
   "metadata": {},
   "outputs": [
    {
     "data": {
      "text/plain": [
       "((5659, 300), (5659, 20), (5659,), (5659, 100))"
      ]
     },
     "execution_count": 30,
     "metadata": {},
     "output_type": "execute_result"
    }
   ],
   "source": [
    "train_descriptor.shape, train_query.shape, train_relevance.shape, train_image_embedding_model.shape\n"
   ]
  },
  {
   "cell_type": "code",
   "execution_count": null,
   "metadata": {
    "ExecuteTime": {
     "end_time": "2019-04-25T21:47:01.945739Z",
     "start_time": "2019-04-25T21:47:01.852467Z"
    }
   },
   "outputs": [],
   "source": [
    "train_valid_split = 5000"
   ]
  },
  {
   "cell_type": "code",
   "execution_count": null,
   "metadata": {
    "ExecuteTime": {
     "end_time": "2019-04-25T21:47:02.057134Z",
     "start_time": "2019-04-25T21:47:01.949907Z"
    }
   },
   "outputs": [],
   "source": [
    "valid_descriptor = train_descriptor[train_valid_split:]\n",
    "valid_query = train_query[train_valid_split:]\n",
    "valid_relevance = train_relevance[train_valid_split:]\n",
    "valid_image = train_image_embedding_model[train_valid_split:]"
   ]
  },
  {
   "cell_type": "code",
   "execution_count": null,
   "metadata": {},
   "outputs": [
    {
     "data": {
      "text/plain": [
       "(659, 100)"
      ]
     },
     "execution_count": 33,
     "metadata": {},
     "output_type": "execute_result"
    }
   ],
   "source": [
    "valid_image.shape\n"
   ]
  },
  {
   "cell_type": "code",
   "execution_count": null,
   "metadata": {
    "ExecuteTime": {
     "end_time": "2019-04-25T21:47:02.179095Z",
     "start_time": "2019-04-25T21:47:02.061202Z"
    }
   },
   "outputs": [],
   "source": [
    "train_descriptor = train_descriptor[:train_valid_split]\n",
    "train_query = train_query[:train_valid_split]\n",
    "train_relevance = train_relevance[:train_valid_split]\n",
    "train_image_embedding_model = train_image_embedding_model[:train_valid_split]"
   ]
  },
  {
   "cell_type": "code",
   "execution_count": null,
   "metadata": {
    "ExecuteTime": {
     "end_time": "2019-04-25T21:47:02.609733Z",
     "start_time": "2019-04-25T21:47:02.606308Z"
    }
   },
   "outputs": [],
   "source": [
    "checkpointer = ModelCheckpoint(filepath='NN_best_desc+image2desc_1.hdf5', verbose=1, save_best_only=True, save_weights_only=True)\n",
    "reduceLR = ReduceLROnPlateau(monitor='val_loss', factor=0.1, patience=20, min_lr=0)\n",
    "earlystopping = EarlyStopping(monitor='val_loss', patience=20)\n",
    "os.environ[\"CUDA_VISIBLE_DEVICES\"]=\"0\""
   ]
  },
  {
   "cell_type": "code",
   "execution_count": null,
   "metadata": {
    "ExecuteTime": {
     "end_time": "2019-04-25T21:52:24.390605Z",
     "start_time": "2019-04-25T21:47:02.611454Z"
    },
    "scrolled": true
   },
   "outputs": [
    {
     "name": "stdout",
     "output_type": "stream",
     "text": [
      "Train on 5000 samples, validate on 659 samples\n",
      "Epoch 1/100\n",
      " - 5s - loss: 0.9719 - mean_squared_error: 1.0556 - mean_absolute_error: 0.8057 - val_loss: 0.8513 - val_mean_squared_error: 0.7311 - val_mean_absolute_error: 0.7094\n",
      "\n",
      "Epoch 00001: val_loss improved from inf to 0.85132, saving model to NN_best_desc+image2desc_1.hdf5\n",
      "Epoch 2/100\n",
      " - 4s - loss: 0.6644 - mean_squared_error: 0.4508 - mean_absolute_error: 0.5290 - val_loss: 0.8214 - val_mean_squared_error: 0.6846 - val_mean_absolute_error: 0.6571\n",
      "\n",
      "Epoch 00002: val_loss improved from 0.85132 to 0.82141, saving model to NN_best_desc+image2desc_1.hdf5\n",
      "Epoch 3/100\n",
      " - 4s - loss: 0.5112 - mean_squared_error: 0.2685 - mean_absolute_error: 0.3967 - val_loss: 0.7984 - val_mean_squared_error: 0.6471 - val_mean_absolute_error: 0.6317\n",
      "\n",
      "Epoch 00003: val_loss improved from 0.82141 to 0.79835, saving model to NN_best_desc+image2desc_1.hdf5\n",
      "Epoch 4/100\n",
      " - 4s - loss: 0.4014 - mean_squared_error: 0.1662 - mean_absolute_error: 0.3064 - val_loss: 0.8131 - val_mean_squared_error: 0.6743 - val_mean_absolute_error: 0.6353\n",
      "\n",
      "Epoch 00004: val_loss did not improve from 0.79835\n",
      "Epoch 5/100\n",
      " - 4s - loss: 0.3460 - mean_squared_error: 0.1274 - mean_absolute_error: 0.2561 - val_loss: 0.8100 - val_mean_squared_error: 0.6643 - val_mean_absolute_error: 0.6313\n",
      "\n",
      "Epoch 00005: val_loss did not improve from 0.79835\n",
      "Epoch 6/100\n",
      " - 4s - loss: 0.3041 - mean_squared_error: 0.0978 - mean_absolute_error: 0.2198 - val_loss: 0.8217 - val_mean_squared_error: 0.6851 - val_mean_absolute_error: 0.6595\n",
      "\n",
      "Epoch 00006: val_loss did not improve from 0.79835\n",
      "Epoch 7/100\n",
      " - 4s - loss: 0.2764 - mean_squared_error: 0.0817 - mean_absolute_error: 0.1982 - val_loss: 0.8140 - val_mean_squared_error: 0.6717 - val_mean_absolute_error: 0.6434\n",
      "\n",
      "Epoch 00007: val_loss did not improve from 0.79835\n",
      "Epoch 8/100\n",
      " - 4s - loss: 0.2614 - mean_squared_error: 0.0721 - mean_absolute_error: 0.1864 - val_loss: 0.8075 - val_mean_squared_error: 0.6645 - val_mean_absolute_error: 0.6264\n",
      "\n",
      "Epoch 00008: val_loss did not improve from 0.79835\n",
      "Epoch 9/100\n",
      " - 4s - loss: 0.2456 - mean_squared_error: 0.0650 - mean_absolute_error: 0.1720 - val_loss: 0.8028 - val_mean_squared_error: 0.6580 - val_mean_absolute_error: 0.6183\n",
      "\n",
      "Epoch 00009: val_loss did not improve from 0.79835\n",
      "Epoch 10/100\n",
      " - 4s - loss: 0.2354 - mean_squared_error: 0.0594 - mean_absolute_error: 0.1666 - val_loss: 0.8058 - val_mean_squared_error: 0.6605 - val_mean_absolute_error: 0.6275\n",
      "\n",
      "Epoch 00010: val_loss did not improve from 0.79835\n",
      "Epoch 11/100\n",
      " - 4s - loss: 0.2337 - mean_squared_error: 0.0578 - mean_absolute_error: 0.1649 - val_loss: 0.8022 - val_mean_squared_error: 0.6547 - val_mean_absolute_error: 0.6227\n",
      "\n",
      "Epoch 00011: val_loss did not improve from 0.79835\n",
      "Epoch 12/100\n",
      " - 4s - loss: 0.2180 - mean_squared_error: 0.0508 - mean_absolute_error: 0.1535 - val_loss: 0.8168 - val_mean_squared_error: 0.6793 - val_mean_absolute_error: 0.6447\n",
      "\n",
      "Epoch 00012: val_loss did not improve from 0.79835\n",
      "Epoch 13/100\n",
      " - 4s - loss: 0.2136 - mean_squared_error: 0.0494 - mean_absolute_error: 0.1495 - val_loss: 0.7994 - val_mean_squared_error: 0.6493 - val_mean_absolute_error: 0.6356\n",
      "\n",
      "Epoch 00013: val_loss did not improve from 0.79835\n",
      "Epoch 14/100\n",
      " - 4s - loss: 0.2051 - mean_squared_error: 0.0451 - mean_absolute_error: 0.1419 - val_loss: 0.8047 - val_mean_squared_error: 0.6609 - val_mean_absolute_error: 0.6252\n",
      "\n",
      "Epoch 00014: val_loss did not improve from 0.79835\n",
      "Epoch 15/100\n",
      " - 4s - loss: 0.2009 - mean_squared_error: 0.0441 - mean_absolute_error: 0.1369 - val_loss: 0.8104 - val_mean_squared_error: 0.6665 - val_mean_absolute_error: 0.6371\n",
      "\n",
      "Epoch 00015: val_loss did not improve from 0.79835\n",
      "Epoch 16/100\n",
      " - 4s - loss: 0.1959 - mean_squared_error: 0.0411 - mean_absolute_error: 0.1363 - val_loss: 0.8052 - val_mean_squared_error: 0.6595 - val_mean_absolute_error: 0.6254\n",
      "\n",
      "Epoch 00016: val_loss did not improve from 0.79835\n",
      "Epoch 17/100\n",
      " - 4s - loss: 0.1891 - mean_squared_error: 0.0389 - mean_absolute_error: 0.1310 - val_loss: 0.7876 - val_mean_squared_error: 0.6311 - val_mean_absolute_error: 0.6034\n",
      "\n",
      "Epoch 00017: val_loss improved from 0.79835 to 0.78757, saving model to NN_best_desc+image2desc_1.hdf5\n",
      "Epoch 18/100\n",
      " - 4s - loss: 0.1859 - mean_squared_error: 0.0380 - mean_absolute_error: 0.1257 - val_loss: 0.7877 - val_mean_squared_error: 0.6329 - val_mean_absolute_error: 0.6047\n",
      "\n",
      "Epoch 00018: val_loss did not improve from 0.78757\n",
      "Epoch 19/100\n",
      " - 4s - loss: 0.1847 - mean_squared_error: 0.0370 - mean_absolute_error: 0.1260 - val_loss: 0.7876 - val_mean_squared_error: 0.6320 - val_mean_absolute_error: 0.6130\n",
      "\n",
      "Epoch 00019: val_loss did not improve from 0.78757\n",
      "Epoch 20/100\n",
      " - 4s - loss: 0.1809 - mean_squared_error: 0.0354 - mean_absolute_error: 0.1234 - val_loss: 0.7969 - val_mean_squared_error: 0.6494 - val_mean_absolute_error: 0.6064\n",
      "\n",
      "Epoch 00020: val_loss did not improve from 0.78757\n",
      "Epoch 21/100\n",
      " - 4s - loss: 0.1737 - mean_squared_error: 0.0330 - mean_absolute_error: 0.1191 - val_loss: 0.7979 - val_mean_squared_error: 0.6461 - val_mean_absolute_error: 0.6194\n",
      "\n",
      "Epoch 00021: val_loss did not improve from 0.78757\n",
      "Epoch 22/100\n",
      " - 4s - loss: 0.1730 - mean_squared_error: 0.0325 - mean_absolute_error: 0.1181 - val_loss: 0.8139 - val_mean_squared_error: 0.6740 - val_mean_absolute_error: 0.6464\n",
      "\n",
      "Epoch 00022: val_loss did not improve from 0.78757\n",
      "Epoch 23/100\n",
      " - 4s - loss: 0.1763 - mean_squared_error: 0.0337 - mean_absolute_error: 0.1208 - val_loss: 0.7969 - val_mean_squared_error: 0.6464 - val_mean_absolute_error: 0.6266\n",
      "\n",
      "Epoch 00023: val_loss did not improve from 0.78757\n",
      "Epoch 24/100\n",
      " - 4s - loss: 0.1717 - mean_squared_error: 0.0324 - mean_absolute_error: 0.1168 - val_loss: 0.7865 - val_mean_squared_error: 0.6314 - val_mean_absolute_error: 0.6071\n",
      "\n",
      "Epoch 00024: val_loss improved from 0.78757 to 0.78652, saving model to NN_best_desc+image2desc_1.hdf5\n",
      "Epoch 25/100\n",
      " - 4s - loss: 0.1703 - mean_squared_error: 0.0320 - mean_absolute_error: 0.1170 - val_loss: 0.7898 - val_mean_squared_error: 0.6353 - val_mean_absolute_error: 0.6050\n",
      "\n",
      "Epoch 00025: val_loss did not improve from 0.78652\n",
      "Epoch 26/100\n",
      " - 4s - loss: 0.1697 - mean_squared_error: 0.0315 - mean_absolute_error: 0.1151 - val_loss: 0.8014 - val_mean_squared_error: 0.6522 - val_mean_absolute_error: 0.6277\n",
      "\n",
      "Epoch 00026: val_loss did not improve from 0.78652\n",
      "Epoch 27/100\n",
      " - 4s - loss: 0.1630 - mean_squared_error: 0.0292 - mean_absolute_error: 0.1096 - val_loss: 0.8034 - val_mean_squared_error: 0.6576 - val_mean_absolute_error: 0.6274\n",
      "\n",
      "Epoch 00027: val_loss did not improve from 0.78652\n",
      "Epoch 28/100\n",
      " - 4s - loss: 0.1624 - mean_squared_error: 0.0289 - mean_absolute_error: 0.1079 - val_loss: 0.7948 - val_mean_squared_error: 0.6423 - val_mean_absolute_error: 0.6138\n",
      "\n",
      "Epoch 00028: val_loss did not improve from 0.78652\n",
      "Epoch 29/100\n",
      " - 4s - loss: 0.1618 - mean_squared_error: 0.0288 - mean_absolute_error: 0.1073 - val_loss: 0.7935 - val_mean_squared_error: 0.6392 - val_mean_absolute_error: 0.6115\n",
      "\n",
      "Epoch 00029: val_loss did not improve from 0.78652\n",
      "Epoch 30/100\n",
      " - 4s - loss: 0.1592 - mean_squared_error: 0.0280 - mean_absolute_error: 0.1065 - val_loss: 0.7848 - val_mean_squared_error: 0.6278 - val_mean_absolute_error: 0.6037\n",
      "\n",
      "Epoch 00030: val_loss improved from 0.78652 to 0.78482, saving model to NN_best_desc+image2desc_1.hdf5\n",
      "Epoch 31/100\n",
      " - 4s - loss: 0.1564 - mean_squared_error: 0.0273 - mean_absolute_error: 0.1050 - val_loss: 0.8016 - val_mean_squared_error: 0.6537 - val_mean_absolute_error: 0.6173\n",
      "\n",
      "Epoch 00031: val_loss did not improve from 0.78482\n",
      "Epoch 32/100\n",
      " - 4s - loss: 0.1536 - mean_squared_error: 0.0263 - mean_absolute_error: 0.1017 - val_loss: 0.7927 - val_mean_squared_error: 0.6387 - val_mean_absolute_error: 0.6059\n",
      "\n",
      "Epoch 00032: val_loss did not improve from 0.78482\n",
      "Epoch 33/100\n",
      " - 4s - loss: 0.1571 - mean_squared_error: 0.0274 - mean_absolute_error: 0.1053 - val_loss: 0.7953 - val_mean_squared_error: 0.6422 - val_mean_absolute_error: 0.6182\n",
      "\n",
      "Epoch 00033: val_loss did not improve from 0.78482\n",
      "Epoch 34/100\n",
      " - 4s - loss: 0.1535 - mean_squared_error: 0.0264 - mean_absolute_error: 0.1022 - val_loss: 0.7939 - val_mean_squared_error: 0.6405 - val_mean_absolute_error: 0.6129\n",
      "\n",
      "Epoch 00034: val_loss did not improve from 0.78482\n",
      "Epoch 35/100\n"
     ]
    },
    {
     "name": "stdout",
     "output_type": "stream",
     "text": [
      " - 4s - loss: 0.1534 - mean_squared_error: 0.0265 - mean_absolute_error: 0.1030 - val_loss: 0.8023 - val_mean_squared_error: 0.6550 - val_mean_absolute_error: 0.6079\n",
      "\n",
      "Epoch 00035: val_loss did not improve from 0.78482\n",
      "Epoch 36/100\n",
      " - 4s - loss: 0.1530 - mean_squared_error: 0.0262 - mean_absolute_error: 0.1020 - val_loss: 0.8065 - val_mean_squared_error: 0.6598 - val_mean_absolute_error: 0.6260\n",
      "\n",
      "Epoch 00036: val_loss did not improve from 0.78482\n",
      "Epoch 37/100\n",
      " - 4s - loss: 0.1507 - mean_squared_error: 0.0252 - mean_absolute_error: 0.0989 - val_loss: 0.7945 - val_mean_squared_error: 0.6425 - val_mean_absolute_error: 0.6087\n",
      "\n",
      "Epoch 00037: val_loss did not improve from 0.78482\n",
      "Epoch 38/100\n",
      " - 4s - loss: 0.1520 - mean_squared_error: 0.0256 - mean_absolute_error: 0.1008 - val_loss: 0.7935 - val_mean_squared_error: 0.6410 - val_mean_absolute_error: 0.6097\n",
      "\n",
      "Epoch 00038: val_loss did not improve from 0.78482\n",
      "Epoch 39/100\n",
      " - 4s - loss: 0.1511 - mean_squared_error: 0.0255 - mean_absolute_error: 0.1004 - val_loss: 0.7926 - val_mean_squared_error: 0.6406 - val_mean_absolute_error: 0.6033\n",
      "\n",
      "Epoch 00039: val_loss did not improve from 0.78482\n",
      "Epoch 40/100\n",
      " - 4s - loss: 0.1482 - mean_squared_error: 0.0243 - mean_absolute_error: 0.0992 - val_loss: 0.7914 - val_mean_squared_error: 0.6375 - val_mean_absolute_error: 0.6068\n",
      "\n",
      "Epoch 00040: val_loss did not improve from 0.78482\n",
      "Epoch 41/100\n",
      " - 4s - loss: 0.1461 - mean_squared_error: 0.0240 - mean_absolute_error: 0.0969 - val_loss: 0.7927 - val_mean_squared_error: 0.6382 - val_mean_absolute_error: 0.6132\n",
      "\n",
      "Epoch 00041: val_loss did not improve from 0.78482\n",
      "Epoch 42/100\n",
      " - 4s - loss: 0.1493 - mean_squared_error: 0.0249 - mean_absolute_error: 0.0996 - val_loss: 0.7925 - val_mean_squared_error: 0.6379 - val_mean_absolute_error: 0.6182\n",
      "\n",
      "Epoch 00042: val_loss did not improve from 0.78482\n",
      "Epoch 43/100\n",
      " - 4s - loss: 0.1459 - mean_squared_error: 0.0241 - mean_absolute_error: 0.0978 - val_loss: 0.7923 - val_mean_squared_error: 0.6397 - val_mean_absolute_error: 0.6063\n",
      "\n",
      "Epoch 00043: val_loss did not improve from 0.78482\n",
      "Epoch 44/100\n",
      " - 4s - loss: 0.1417 - mean_squared_error: 0.0230 - mean_absolute_error: 0.0943 - val_loss: 0.7990 - val_mean_squared_error: 0.6498 - val_mean_absolute_error: 0.6238\n",
      "\n",
      "Epoch 00044: val_loss did not improve from 0.78482\n",
      "Epoch 45/100\n",
      " - 4s - loss: 0.1403 - mean_squared_error: 0.0222 - mean_absolute_error: 0.0942 - val_loss: 0.7882 - val_mean_squared_error: 0.6325 - val_mean_absolute_error: 0.6007\n",
      "\n",
      "Epoch 00045: val_loss did not improve from 0.78482\n",
      "Epoch 46/100\n",
      " - 4s - loss: 0.1427 - mean_squared_error: 0.0228 - mean_absolute_error: 0.0952 - val_loss: 0.7925 - val_mean_squared_error: 0.6376 - val_mean_absolute_error: 0.6133\n",
      "\n",
      "Epoch 00046: val_loss did not improve from 0.78482\n",
      "Epoch 47/100\n",
      " - 4s - loss: 0.1364 - mean_squared_error: 0.0217 - mean_absolute_error: 0.0896 - val_loss: 0.7876 - val_mean_squared_error: 0.6328 - val_mean_absolute_error: 0.5964\n",
      "\n",
      "Epoch 00047: val_loss did not improve from 0.78482\n",
      "Epoch 48/100\n",
      " - 4s - loss: 0.1368 - mean_squared_error: 0.0213 - mean_absolute_error: 0.0898 - val_loss: 0.7840 - val_mean_squared_error: 0.6254 - val_mean_absolute_error: 0.5980\n",
      "\n",
      "Epoch 00048: val_loss improved from 0.78482 to 0.78398, saving model to NN_best_desc+image2desc_1.hdf5\n",
      "Epoch 49/100\n",
      " - 4s - loss: 0.1380 - mean_squared_error: 0.0217 - mean_absolute_error: 0.0902 - val_loss: 0.7831 - val_mean_squared_error: 0.6252 - val_mean_absolute_error: 0.5902\n",
      "\n",
      "Epoch 00049: val_loss improved from 0.78398 to 0.78310, saving model to NN_best_desc+image2desc_1.hdf5\n",
      "Epoch 50/100\n",
      " - 4s - loss: 0.1387 - mean_squared_error: 0.0216 - mean_absolute_error: 0.0908 - val_loss: 0.7934 - val_mean_squared_error: 0.6398 - val_mean_absolute_error: 0.6141\n",
      "\n",
      "Epoch 00050: val_loss did not improve from 0.78310\n",
      "Epoch 51/100\n",
      " - 4s - loss: 0.1331 - mean_squared_error: 0.0204 - mean_absolute_error: 0.0866 - val_loss: 0.8016 - val_mean_squared_error: 0.6517 - val_mean_absolute_error: 0.6297\n",
      "\n",
      "Epoch 00051: val_loss did not improve from 0.78310\n",
      "Epoch 52/100\n",
      " - 4s - loss: 0.1348 - mean_squared_error: 0.0212 - mean_absolute_error: 0.0890 - val_loss: 0.8010 - val_mean_squared_error: 0.6515 - val_mean_absolute_error: 0.6247\n",
      "\n",
      "Epoch 00052: val_loss did not improve from 0.78310\n",
      "Epoch 53/100\n",
      " - 4s - loss: 0.1355 - mean_squared_error: 0.0213 - mean_absolute_error: 0.0907 - val_loss: 0.7902 - val_mean_squared_error: 0.6350 - val_mean_absolute_error: 0.6095\n",
      "\n",
      "Epoch 00053: val_loss did not improve from 0.78310\n",
      "Epoch 54/100\n",
      " - 4s - loss: 0.1348 - mean_squared_error: 0.0208 - mean_absolute_error: 0.0879 - val_loss: 0.7948 - val_mean_squared_error: 0.6407 - val_mean_absolute_error: 0.6180\n",
      "\n",
      "Epoch 00054: val_loss did not improve from 0.78310\n",
      "Epoch 55/100\n",
      " - 4s - loss: 0.1307 - mean_squared_error: 0.0198 - mean_absolute_error: 0.0845 - val_loss: 0.7894 - val_mean_squared_error: 0.6332 - val_mean_absolute_error: 0.6083\n",
      "\n",
      "Epoch 00055: val_loss did not improve from 0.78310\n",
      "Epoch 56/100\n",
      " - 4s - loss: 0.1314 - mean_squared_error: 0.0197 - mean_absolute_error: 0.0846 - val_loss: 0.7834 - val_mean_squared_error: 0.6250 - val_mean_absolute_error: 0.5975\n",
      "\n",
      "Epoch 00056: val_loss did not improve from 0.78310\n",
      "Epoch 57/100\n",
      " - 4s - loss: 0.1325 - mean_squared_error: 0.0200 - mean_absolute_error: 0.0871 - val_loss: 0.7885 - val_mean_squared_error: 0.6327 - val_mean_absolute_error: 0.6035\n",
      "\n",
      "Epoch 00057: val_loss did not improve from 0.78310\n",
      "Epoch 58/100\n",
      " - 4s - loss: 0.1311 - mean_squared_error: 0.0199 - mean_absolute_error: 0.0848 - val_loss: 0.7892 - val_mean_squared_error: 0.6331 - val_mean_absolute_error: 0.6044\n",
      "\n",
      "Epoch 00058: val_loss did not improve from 0.78310\n",
      "Epoch 59/100\n",
      " - 4s - loss: 0.1318 - mean_squared_error: 0.0199 - mean_absolute_error: 0.0850 - val_loss: 0.7913 - val_mean_squared_error: 0.6363 - val_mean_absolute_error: 0.6091\n",
      "\n",
      "Epoch 00059: val_loss did not improve from 0.78310\n",
      "Epoch 60/100\n",
      " - 4s - loss: 0.1292 - mean_squared_error: 0.0196 - mean_absolute_error: 0.0823 - val_loss: 0.7906 - val_mean_squared_error: 0.6351 - val_mean_absolute_error: 0.6141\n",
      "\n",
      "Epoch 00060: val_loss did not improve from 0.78310\n",
      "Epoch 61/100\n",
      " - 4s - loss: 0.1257 - mean_squared_error: 0.0187 - mean_absolute_error: 0.0809 - val_loss: 0.7924 - val_mean_squared_error: 0.6381 - val_mean_absolute_error: 0.6110\n",
      "\n",
      "Epoch 00061: val_loss did not improve from 0.78310\n",
      "Epoch 62/100\n"
     ]
    }
   ],
   "source": [
    "model.fit([train_descriptor,train_query, train_image_embedding_model],train_relevance, epochs=100, verbose=2,\n",
    "          validation_data=([valid_descriptor, valid_query, valid_image], valid_relevance), batch_size=32,\n",
    "                    callbacks=[checkpointer, earlystopping])"
   ]
  },
  {
   "cell_type": "code",
   "execution_count": null,
   "metadata": {
    "ExecuteTime": {
     "end_time": "2019-04-25T21:52:24.444066Z",
     "start_time": "2019-04-25T21:52:24.392007Z"
    }
   },
   "outputs": [],
   "source": [
    "model.load_weights('NN_best_desc+image2desc_1.hdf5')"
   ]
  },
  {
   "cell_type": "code",
   "execution_count": null,
   "metadata": {
    "ExecuteTime": {
     "end_time": "2019-04-25T21:52:24.545280Z",
     "start_time": "2019-04-25T21:52:24.445912Z"
    },
    "scrolled": true
   },
   "outputs": [],
   "source": [
    "\n",
    "model.evaluate([data_d_test,data_q_test,test_image_embeddings],test_relevance)"
   ]
  },
  {
   "cell_type": "code",
   "execution_count": null,
   "metadata": {},
   "outputs": [],
   "source": [
    "predictedResilts = model.predict([data_d_test,data_q_test,test_image_embeddings])\n",
    "resDumpRawImage = []\n",
    "for i in range(len(predictedResilts)):\n",
    "    resDumpRawImage.append((product_query_test[i],product_id_final_test[i],test_relevance[i], np.asscalar(predictedResilts[i])))\n",
    "np.save('resFinal', resDumpRawImage)"
   ]
  }
 ],
 "metadata": {
  "kernelspec": {
   "display_name": "Python 3",
   "language": "python",
   "name": "python3"
  },
  "language_info": {
   "codemirror_mode": {
    "name": "ipython",
    "version": 3
   },
   "file_extension": ".py",
   "mimetype": "text/x-python",
   "name": "python",
   "nbconvert_exporter": "python",
   "pygments_lexer": "ipython3",
   "version": "3.6.8"
  },
  "toc": {
   "nav_menu": {},
   "number_sections": true,
   "sideBar": true,
   "skip_h1_title": false,
   "toc_cell": false,
   "toc_position": {},
   "toc_section_display": "block",
   "toc_window_display": false
  }
 },
 "nbformat": 4,
 "nbformat_minor": 2
}
