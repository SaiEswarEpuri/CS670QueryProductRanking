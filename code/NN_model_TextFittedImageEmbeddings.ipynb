{
 "cells": [
  {
   "cell_type": "code",
   "execution_count": 1,
   "metadata": {
    "ExecuteTime": {
     "end_time": "2019-04-25T21:47:00.974391Z",
     "start_time": "2019-04-25T21:46:59.784323Z"
    }
   },
   "outputs": [
    {
     "name": "stderr",
     "output_type": "stream",
     "text": [
      "Using TensorFlow backend.\n"
     ]
    }
   ],
   "source": [
    "import numpy as np\n",
    "import pandas as pd\n",
    "import matplotlib\n",
    "import os\n",
    "from keras.layers import Input, BatchNormalization, Concatenate, Dense, GlobalAveragePooling2D, Dropout, concatenate\n",
    "from keras.models import Model\n",
    "from keras.optimizers import Adam\n",
    "from keras import backend as K\n",
    "from keras import regularizers\n",
    "from keras.callbacks import ModelCheckpoint, ReduceLROnPlateau, EarlyStopping, History, TensorBoard\n",
    "from keras.layers import Embedding, Flatten, Dense\n",
    "from keras.utils import plot_model"
   ]
  },
  {
   "cell_type": "code",
   "execution_count": 2,
   "metadata": {
    "ExecuteTime": {
     "end_time": "2019-04-25T21:47:00.977535Z",
     "start_time": "2019-04-25T21:47:00.975477Z"
    }
   },
   "outputs": [],
   "source": [
    "D = 100 # embedding dimension\n",
    "H = 300 # no.of hidden layer nodes"
   ]
  },
  {
   "cell_type": "code",
   "execution_count": 3,
   "metadata": {},
   "outputs": [],
   "source": [
    "product_desc = np.load('train_desc.npy')\n",
    "product_query = np.load('train_query.npy')\n",
    "product_desc_test = np.load('test_desc.npy')\n",
    "product_query_test = np.load('test_query.npy')\n",
    "train_image_embeddings = np.load('train_embedding_image_preds.npy')\n",
    "test_image_embeddings = np.load('test_embedding_image_preds.npy')\n",
    "product_id_final_test = np.load('product_id_final_test.npy')"
   ]
  },
  {
   "cell_type": "code",
   "execution_count": 4,
   "metadata": {},
   "outputs": [
    {
     "data": {
      "text/plain": [
       "(5659, 100)"
      ]
     },
     "execution_count": 4,
     "metadata": {},
     "output_type": "execute_result"
    }
   ],
   "source": [
    "train_image_embeddings.shape"
   ]
  },
  {
   "cell_type": "code",
   "execution_count": 5,
   "metadata": {},
   "outputs": [],
   "source": [
    "final_text = np.concatenate((product_query, product_query_test),axis=0)"
   ]
  },
  {
   "cell_type": "code",
   "execution_count": 6,
   "metadata": {},
   "outputs": [],
   "source": [
    "import numpy as np\n",
    "modelGlove = {}\n",
    "with open(\"glove.6B.100d.txt\", \"r\", encoding='utf-8') as lines:\n",
    "        line = lines.readline()\n",
    "        while line:\n",
    "            modelGlove[line.split()[0]] = np.array(list(map(float, line.split()[1:])))\n",
    "            line = lines.readline()"
   ]
  },
  {
   "cell_type": "code",
   "execution_count": 7,
   "metadata": {},
   "outputs": [
    {
     "name": "stderr",
     "output_type": "stream",
     "text": [
      "/home/jharsh/miniconda3/envs/kerasGPU1/lib/python3.6/site-packages/keras_preprocessing/text.py:178: UserWarning: The `nb_words` argument in `Tokenizer` has been renamed `num_words`.\n",
      "  warnings.warn('The `nb_words` argument in `Tokenizer` '\n"
     ]
    }
   ],
   "source": [
    "from keras.preprocessing.text import Tokenizer\n",
    "from keras.preprocessing.sequence import pad_sequences\n",
    "MAX_NB_WORDS = 20000\n",
    "tokenizer = Tokenizer(nb_words=MAX_NB_WORDS)\n",
    "tokenizer.fit_on_texts(final_text)\n",
    "sequences_query = tokenizer.texts_to_sequences(product_query)\n",
    "sequence_desc = tokenizer.texts_to_sequences(product_desc)\n",
    "sequences_query_test = tokenizer.texts_to_sequences(product_query_test)\n",
    "sequences_desc_test = tokenizer.texts_to_sequences(product_desc_test)"
   ]
  },
  {
   "cell_type": "code",
   "execution_count": 8,
   "metadata": {},
   "outputs": [
    {
     "name": "stdout",
     "output_type": "stream",
     "text": [
      "Found 476 unique tokens.\n"
     ]
    }
   ],
   "source": [
    "word_index = tokenizer.word_index\n",
    "print('Found %s unique tokens.' % len(word_index))"
   ]
  },
  {
   "cell_type": "code",
   "execution_count": 9,
   "metadata": {},
   "outputs": [],
   "source": [
    "data_d = pad_sequences(sequence_desc, maxlen=300)"
   ]
  },
  {
   "cell_type": "code",
   "execution_count": 10,
   "metadata": {},
   "outputs": [],
   "source": [
    "data_d_test = pad_sequences(sequences_desc_test, maxlen=300)"
   ]
  },
  {
   "cell_type": "code",
   "execution_count": 11,
   "metadata": {},
   "outputs": [],
   "source": [
    "data_q = pad_sequences(sequences_query, maxlen=20)"
   ]
  },
  {
   "cell_type": "code",
   "execution_count": 12,
   "metadata": {},
   "outputs": [],
   "source": [
    "data_q_test = pad_sequences(sequences_query_test, maxlen=20)"
   ]
  },
  {
   "cell_type": "code",
   "execution_count": 13,
   "metadata": {
    "ExecuteTime": {
     "end_time": "2019-04-25T21:47:01.434703Z",
     "start_time": "2019-04-25T21:47:01.337717Z"
    }
   },
   "outputs": [],
   "source": [
    "def root_mean_squared_error(y_true, y_pred):\n",
    "        return K.sqrt(K.mean(K.square(y_pred - y_true)))"
   ]
  },
  {
   "cell_type": "code",
   "execution_count": 14,
   "metadata": {},
   "outputs": [],
   "source": [
    "embedding_matrix = np.zeros((len(word_index) + 1, 100))\n",
    "for word, i in word_index.items():\n",
    "    embedding_vector = modelGlove.get(word)\n",
    "    if embedding_vector is not None:\n",
    "        # words not found in embedding index will be all-zeros.\n",
    "        embedding_matrix[i] = embedding_vector"
   ]
  },
  {
   "cell_type": "code",
   "execution_count": 15,
   "metadata": {},
   "outputs": [],
   "source": [
    "from keras.layers import Embedding\n",
    "\n",
    "embedding_layer_q = Embedding(len(word_index) + 1,\n",
    "                            100,\n",
    "                            weights=[embedding_matrix],\n",
    "                            input_length=20,\n",
    "                            trainable=False)\n",
    "embedding_layer_d = Embedding(len(word_index) + 1,\n",
    "                            100,\n",
    "                            weights=[embedding_matrix],\n",
    "                            input_length=300,\n",
    "                            trainable=False)"
   ]
  },
  {
   "cell_type": "code",
   "execution_count": 16,
   "metadata": {
    "ExecuteTime": {
     "end_time": "2019-04-25T21:47:00.977535Z",
     "start_time": "2019-04-25T21:47:00.975477Z"
    }
   },
   "outputs": [],
   "source": [
    "D = 100 # embedding dimension\n",
    "H = 300 # no.of hidden layer nodes"
   ]
  },
  {
   "cell_type": "code",
   "execution_count": 17,
   "metadata": {
    "ExecuteTime": {
     "end_time": "2019-04-25T21:47:01.197019Z",
     "start_time": "2019-04-25T21:47:00.979067Z"
    }
   },
   "outputs": [],
   "source": [
    "# sequence_input_d = Input(shape=(300,), dtype='int32')\n",
    "# embeddings_d = embedding_layer_d(sequence_input_d)\n",
    "sequence_input_q = Input(shape=(20,), dtype='int32')\n",
    "embeddings_q = embedding_layer_q(sequence_input_q)\n",
    "imageEmbeddingInput = Input(shape=(100,))\n",
    "# x4 = Dense(500,activation='relu')(imageEmbeddingInput)\n",
    "# embedding_layer_d_flatten = Flatten()(embeddings_d) \n",
    "embedding_layer_q_flatten = Flatten()(embeddings_q)\n",
    "x3 = Dense(H,activation='relu')(imageEmbeddingInput)\n",
    "# x1 = Dense(H,activation='relu')(embedding_layer_d_flatten)\n",
    "x2 = Dense(H,activation='relu')(embedding_layer_q_flatten)\n",
    "merge_x = concatenate([x2,x3])\n",
    "x4 = Dense(H,activation='relu')(merge_x)\n",
    "x4 = Dense(H//4,activation='relu')(x4)\n",
    "x4 = Dense(H//16,activation='relu')(x4)\n",
    "#x4 = Dropout(0.5)(x4)\n",
    "final_x = Dense(1)(x4)"
   ]
  },
  {
   "cell_type": "code",
   "execution_count": 18,
   "metadata": {
    "ExecuteTime": {
     "end_time": "2019-04-25T21:47:01.201750Z",
     "start_time": "2019-04-25T21:47:01.198312Z"
    }
   },
   "outputs": [],
   "source": [
    "model = Model(inputs=[sequence_input_q,imageEmbeddingInput], outputs=final_x)\n"
   ]
  },
  {
   "cell_type": "code",
   "execution_count": 19,
   "metadata": {
    "ExecuteTime": {
     "end_time": "2019-04-25T21:47:01.333015Z",
     "start_time": "2019-04-25T21:47:01.203516Z"
    },
    "scrolled": true
   },
   "outputs": [
    {
     "name": "stdout",
     "output_type": "stream",
     "text": [
      "__________________________________________________________________________________________________\n",
      "Layer (type)                    Output Shape         Param #     Connected to                     \n",
      "==================================================================================================\n",
      "input_1 (InputLayer)            (None, 20)           0                                            \n",
      "__________________________________________________________________________________________________\n",
      "embedding_1 (Embedding)         (None, 20, 100)      47700       input_1[0][0]                    \n",
      "__________________________________________________________________________________________________\n",
      "flatten_1 (Flatten)             (None, 2000)         0           embedding_1[0][0]                \n",
      "__________________________________________________________________________________________________\n",
      "input_2 (InputLayer)            (None, 100)          0                                            \n",
      "__________________________________________________________________________________________________\n",
      "dense_2 (Dense)                 (None, 300)          600300      flatten_1[0][0]                  \n",
      "__________________________________________________________________________________________________\n",
      "dense_1 (Dense)                 (None, 300)          30300       input_2[0][0]                    \n",
      "__________________________________________________________________________________________________\n",
      "concatenate_1 (Concatenate)     (None, 600)          0           dense_2[0][0]                    \n",
      "                                                                 dense_1[0][0]                    \n",
      "__________________________________________________________________________________________________\n",
      "dense_3 (Dense)                 (None, 300)          180300      concatenate_1[0][0]              \n",
      "__________________________________________________________________________________________________\n",
      "dense_4 (Dense)                 (None, 75)           22575       dense_3[0][0]                    \n",
      "__________________________________________________________________________________________________\n",
      "dense_5 (Dense)                 (None, 18)           1368        dense_4[0][0]                    \n",
      "__________________________________________________________________________________________________\n",
      "dense_6 (Dense)                 (None, 1)            19          dense_5[0][0]                    \n",
      "==================================================================================================\n",
      "Total params: 882,562\n",
      "Trainable params: 834,862\n",
      "Non-trainable params: 47,700\n",
      "__________________________________________________________________________________________________\n"
     ]
    }
   ],
   "source": [
    "model.summary()"
   ]
  },
  {
   "cell_type": "code",
   "execution_count": 20,
   "metadata": {},
   "outputs": [],
   "source": [
    "plot_model(model, to_file='model.png')"
   ]
  },
  {
   "cell_type": "code",
   "execution_count": 21,
   "metadata": {
    "ExecuteTime": {
     "end_time": "2019-04-25T21:47:01.600047Z",
     "start_time": "2019-04-25T21:47:01.438803Z"
    }
   },
   "outputs": [],
   "source": [
    "model.compile(loss=root_mean_squared_error,\n",
    "              optimizer=Adam(lr=0.0001),\n",
    "              metrics=['mse','mae'])"
   ]
  },
  {
   "cell_type": "code",
   "execution_count": 22,
   "metadata": {},
   "outputs": [],
   "source": [
    "train_relevance = np.load('final_train_Y.npy')"
   ]
  },
  {
   "cell_type": "code",
   "execution_count": 23,
   "metadata": {},
   "outputs": [],
   "source": [
    "test_relevance = np.load('final_test_Y.npy')"
   ]
  },
  {
   "cell_type": "code",
   "execution_count": 24,
   "metadata": {},
   "outputs": [
    {
     "data": {
      "text/plain": [
       "(1544,)"
      ]
     },
     "execution_count": 24,
     "metadata": {},
     "output_type": "execute_result"
    }
   ],
   "source": [
    "test_relevance.shape"
   ]
  },
  {
   "cell_type": "code",
   "execution_count": 25,
   "metadata": {},
   "outputs": [
    {
     "data": {
      "text/plain": [
       "(5659,)"
      ]
     },
     "execution_count": 25,
     "metadata": {},
     "output_type": "execute_result"
    }
   ],
   "source": [
    "train_relevance.shape"
   ]
  },
  {
   "cell_type": "code",
   "execution_count": 26,
   "metadata": {
    "ExecuteTime": {
     "end_time": "2019-04-25T21:47:01.850277Z",
     "start_time": "2019-04-25T21:47:01.727479Z"
    }
   },
   "outputs": [],
   "source": [
    "from sklearn.utils import shuffle\n",
    "train_query, train_image_embedding_model, train_relevance = shuffle(data_q, train_image_embeddings, train_relevance)"
   ]
  },
  {
   "cell_type": "code",
   "execution_count": 27,
   "metadata": {},
   "outputs": [
    {
     "data": {
      "text/plain": [
       "((5659, 20), (5659,), (5659, 100))"
      ]
     },
     "execution_count": 27,
     "metadata": {},
     "output_type": "execute_result"
    }
   ],
   "source": [
    "train_query.shape, train_relevance.shape, train_image_embedding_model.shape"
   ]
  },
  {
   "cell_type": "code",
   "execution_count": 28,
   "metadata": {
    "ExecuteTime": {
     "end_time": "2019-04-25T21:47:01.945739Z",
     "start_time": "2019-04-25T21:47:01.852467Z"
    }
   },
   "outputs": [],
   "source": [
    "train_valid_split = 5000"
   ]
  },
  {
   "cell_type": "code",
   "execution_count": 29,
   "metadata": {
    "ExecuteTime": {
     "end_time": "2019-04-25T21:47:02.057134Z",
     "start_time": "2019-04-25T21:47:01.949907Z"
    }
   },
   "outputs": [],
   "source": [
    "valid_query = train_query[train_valid_split:]\n",
    "valid_relevance = train_relevance[train_valid_split:]\n",
    "valid_image = train_image_embedding_model[train_valid_split:]"
   ]
  },
  {
   "cell_type": "code",
   "execution_count": 30,
   "metadata": {},
   "outputs": [
    {
     "data": {
      "text/plain": [
       "(659, 100)"
      ]
     },
     "execution_count": 30,
     "metadata": {},
     "output_type": "execute_result"
    }
   ],
   "source": [
    "valid_image.shape"
   ]
  },
  {
   "cell_type": "code",
   "execution_count": 31,
   "metadata": {
    "ExecuteTime": {
     "end_time": "2019-04-25T21:47:02.179095Z",
     "start_time": "2019-04-25T21:47:02.061202Z"
    }
   },
   "outputs": [],
   "source": [
    "train_query = train_query[:train_valid_split]\n",
    "train_relevance = train_relevance[:train_valid_split]\n",
    "train_image_embedding_model = train_image_embedding_model[:train_valid_split]"
   ]
  },
  {
   "cell_type": "code",
   "execution_count": 32,
   "metadata": {
    "ExecuteTime": {
     "end_time": "2019-04-25T21:47:02.609733Z",
     "start_time": "2019-04-25T21:47:02.606308Z"
    }
   },
   "outputs": [],
   "source": [
    "checkpointer = ModelCheckpoint(filepath='NN_best_image2desc_1.hdf5', verbose=1, save_best_only=True, save_weights_only=True)\n",
    "reduceLR = ReduceLROnPlateau(monitor='val_loss', factor=0.1, patience=20, min_lr=0)\n",
    "earlystopping = EarlyStopping(monitor='val_loss', patience=20)\n",
    "os.environ[\"CUDA_VISIBLE_DEVICES\"]=\"0\""
   ]
  },
  {
   "cell_type": "code",
   "execution_count": 33,
   "metadata": {
    "ExecuteTime": {
     "end_time": "2019-04-25T21:52:24.390605Z",
     "start_time": "2019-04-25T21:47:02.611454Z"
    },
    "scrolled": true
   },
   "outputs": [
    {
     "name": "stdout",
     "output_type": "stream",
     "text": [
      "Train on 5000 samples, validate on 659 samples\n",
      "Epoch 1/100\n",
      " - 6s - loss: 1.0523 - mean_squared_error: 1.4758 - mean_absolute_error: 0.9035 - val_loss: 0.7649 - val_mean_squared_error: 0.5963 - val_mean_absolute_error: 0.6251\n",
      "\n",
      "Epoch 00001: val_loss improved from inf to 0.76487, saving model to NN_best_image2desc_1.hdf5\n",
      "Epoch 2/100\n",
      " - 4s - loss: 0.7356 - mean_squared_error: 0.5612 - mean_absolute_error: 0.5910 - val_loss: 0.7524 - val_mean_squared_error: 0.5836 - val_mean_absolute_error: 0.5757\n",
      "\n",
      "Epoch 00002: val_loss improved from 0.76487 to 0.75240, saving model to NN_best_image2desc_1.hdf5\n",
      "Epoch 3/100\n",
      " - 4s - loss: 0.6956 - mean_squared_error: 0.5056 - mean_absolute_error: 0.5507 - val_loss: 0.7027 - val_mean_squared_error: 0.5079 - val_mean_absolute_error: 0.5650\n",
      "\n",
      "Epoch 00003: val_loss improved from 0.75240 to 0.70271, saving model to NN_best_image2desc_1.hdf5\n",
      "Epoch 4/100\n",
      " - 4s - loss: 0.6776 - mean_squared_error: 0.4783 - mean_absolute_error: 0.5348 - val_loss: 0.6946 - val_mean_squared_error: 0.4978 - val_mean_absolute_error: 0.5524\n",
      "\n",
      "Epoch 00004: val_loss improved from 0.70271 to 0.69462, saving model to NN_best_image2desc_1.hdf5\n",
      "Epoch 5/100\n",
      " - 4s - loss: 0.6625 - mean_squared_error: 0.4576 - mean_absolute_error: 0.5199 - val_loss: 0.6980 - val_mean_squared_error: 0.5042 - val_mean_absolute_error: 0.5477\n",
      "\n",
      "Epoch 00005: val_loss did not improve from 0.69462\n",
      "Epoch 6/100\n",
      " - 4s - loss: 0.6505 - mean_squared_error: 0.4427 - mean_absolute_error: 0.5111 - val_loss: 0.6856 - val_mean_squared_error: 0.4844 - val_mean_absolute_error: 0.5441\n",
      "\n",
      "Epoch 00006: val_loss improved from 0.69462 to 0.68558, saving model to NN_best_image2desc_1.hdf5\n",
      "Epoch 7/100\n",
      " - 4s - loss: 0.6437 - mean_squared_error: 0.4307 - mean_absolute_error: 0.5028 - val_loss: 0.6785 - val_mean_squared_error: 0.4732 - val_mean_absolute_error: 0.5437\n",
      "\n",
      "Epoch 00007: val_loss improved from 0.68558 to 0.67855, saving model to NN_best_image2desc_1.hdf5\n",
      "Epoch 8/100\n",
      " - 4s - loss: 0.6256 - mean_squared_error: 0.4102 - mean_absolute_error: 0.4876 - val_loss: 0.6731 - val_mean_squared_error: 0.4673 - val_mean_absolute_error: 0.5272\n",
      "\n",
      "Epoch 00008: val_loss improved from 0.67855 to 0.67313, saving model to NN_best_image2desc_1.hdf5\n",
      "Epoch 9/100\n",
      " - 4s - loss: 0.6160 - mean_squared_error: 0.3972 - mean_absolute_error: 0.4815 - val_loss: 0.6618 - val_mean_squared_error: 0.4534 - val_mean_absolute_error: 0.5178\n",
      "\n",
      "Epoch 00009: val_loss improved from 0.67313 to 0.66185, saving model to NN_best_image2desc_1.hdf5\n",
      "Epoch 10/100\n",
      " - 4s - loss: 0.6050 - mean_squared_error: 0.3817 - mean_absolute_error: 0.4718 - val_loss: 0.6861 - val_mean_squared_error: 0.4888 - val_mean_absolute_error: 0.5192\n",
      "\n",
      "Epoch 00010: val_loss did not improve from 0.66185\n",
      "Epoch 11/100\n",
      " - 4s - loss: 0.5972 - mean_squared_error: 0.3730 - mean_absolute_error: 0.4649 - val_loss: 0.6761 - val_mean_squared_error: 0.4738 - val_mean_absolute_error: 0.5236\n",
      "\n",
      "Epoch 00011: val_loss did not improve from 0.66185\n",
      "Epoch 12/100\n",
      " - 4s - loss: 0.5911 - mean_squared_error: 0.3660 - mean_absolute_error: 0.4604 - val_loss: 0.6725 - val_mean_squared_error: 0.4707 - val_mean_absolute_error: 0.5130\n",
      "\n",
      "Epoch 00012: val_loss did not improve from 0.66185\n",
      "Epoch 13/100\n",
      " - 4s - loss: 0.5760 - mean_squared_error: 0.3490 - mean_absolute_error: 0.4485 - val_loss: 0.6645 - val_mean_squared_error: 0.4570 - val_mean_absolute_error: 0.5099\n",
      "\n",
      "Epoch 00013: val_loss did not improve from 0.66185\n",
      "Epoch 14/100\n",
      " - 4s - loss: 0.5703 - mean_squared_error: 0.3413 - mean_absolute_error: 0.4416 - val_loss: 0.6609 - val_mean_squared_error: 0.4543 - val_mean_absolute_error: 0.5027\n",
      "\n",
      "Epoch 00014: val_loss improved from 0.66185 to 0.66089, saving model to NN_best_image2desc_1.hdf5\n",
      "Epoch 15/100\n",
      " - 4s - loss: 0.5631 - mean_squared_error: 0.3329 - mean_absolute_error: 0.4365 - val_loss: 0.6584 - val_mean_squared_error: 0.4457 - val_mean_absolute_error: 0.5259\n",
      "\n",
      "Epoch 00015: val_loss improved from 0.66089 to 0.65838, saving model to NN_best_image2desc_1.hdf5\n",
      "Epoch 16/100\n",
      " - 4s - loss: 0.5531 - mean_squared_error: 0.3219 - mean_absolute_error: 0.4253 - val_loss: 0.6674 - val_mean_squared_error: 0.4579 - val_mean_absolute_error: 0.5414\n",
      "\n",
      "Epoch 00016: val_loss did not improve from 0.65838\n",
      "Epoch 17/100\n",
      " - 4s - loss: 0.5504 - mean_squared_error: 0.3171 - mean_absolute_error: 0.4247 - val_loss: 0.6758 - val_mean_squared_error: 0.4679 - val_mean_absolute_error: 0.5510\n",
      "\n",
      "Epoch 00017: val_loss did not improve from 0.65838\n",
      "Epoch 18/100\n",
      " - 4s - loss: 0.5378 - mean_squared_error: 0.3053 - mean_absolute_error: 0.4136 - val_loss: 0.6606 - val_mean_squared_error: 0.4514 - val_mean_absolute_error: 0.5138\n",
      "\n",
      "Epoch 00018: val_loss did not improve from 0.65838\n",
      "Epoch 19/100\n",
      " - 4s - loss: 0.5293 - mean_squared_error: 0.2977 - mean_absolute_error: 0.4071 - val_loss: 0.6568 - val_mean_squared_error: 0.4489 - val_mean_absolute_error: 0.5060\n",
      "\n",
      "Epoch 00019: val_loss improved from 0.65838 to 0.65678, saving model to NN_best_image2desc_1.hdf5\n",
      "Epoch 20/100\n",
      " - 4s - loss: 0.5259 - mean_squared_error: 0.2915 - mean_absolute_error: 0.4042 - val_loss: 0.6574 - val_mean_squared_error: 0.4455 - val_mean_absolute_error: 0.5206\n",
      "\n",
      "Epoch 00020: val_loss did not improve from 0.65678\n",
      "Epoch 21/100\n",
      " - 4s - loss: 0.5200 - mean_squared_error: 0.2858 - mean_absolute_error: 0.3993 - val_loss: 0.6521 - val_mean_squared_error: 0.4445 - val_mean_absolute_error: 0.4952\n",
      "\n",
      "Epoch 00021: val_loss improved from 0.65678 to 0.65212, saving model to NN_best_image2desc_1.hdf5\n",
      "Epoch 22/100\n",
      " - 4s - loss: 0.5176 - mean_squared_error: 0.2838 - mean_absolute_error: 0.3988 - val_loss: 0.6454 - val_mean_squared_error: 0.4378 - val_mean_absolute_error: 0.4981\n",
      "\n",
      "Epoch 00022: val_loss improved from 0.65212 to 0.64542, saving model to NN_best_image2desc_1.hdf5\n",
      "Epoch 23/100\n",
      " - 4s - loss: 0.5086 - mean_squared_error: 0.2741 - mean_absolute_error: 0.3907 - val_loss: 0.6680 - val_mean_squared_error: 0.4635 - val_mean_absolute_error: 0.5192\n",
      "\n",
      "Epoch 00023: val_loss did not improve from 0.64542\n",
      "Epoch 24/100\n",
      " - 4s - loss: 0.5063 - mean_squared_error: 0.2696 - mean_absolute_error: 0.3851 - val_loss: 0.6658 - val_mean_squared_error: 0.4619 - val_mean_absolute_error: 0.5275\n",
      "\n",
      "Epoch 00024: val_loss did not improve from 0.64542\n",
      "Epoch 25/100\n",
      " - 4s - loss: 0.4999 - mean_squared_error: 0.2640 - mean_absolute_error: 0.3823 - val_loss: 0.6463 - val_mean_squared_error: 0.4318 - val_mean_absolute_error: 0.5080\n",
      "\n",
      "Epoch 00025: val_loss did not improve from 0.64542\n",
      "Epoch 26/100\n",
      " - 4s - loss: 0.4975 - mean_squared_error: 0.2613 - mean_absolute_error: 0.3803 - val_loss: 0.6536 - val_mean_squared_error: 0.4455 - val_mean_absolute_error: 0.5005\n",
      "\n",
      "Epoch 00026: val_loss did not improve from 0.64542\n",
      "Epoch 27/100\n",
      " - 4s - loss: 0.4888 - mean_squared_error: 0.2520 - mean_absolute_error: 0.3702 - val_loss: 0.6951 - val_mean_squared_error: 0.4978 - val_mean_absolute_error: 0.5661\n",
      "\n",
      "Epoch 00027: val_loss did not improve from 0.64542\n",
      "Epoch 28/100\n",
      " - 4s - loss: 0.4879 - mean_squared_error: 0.2535 - mean_absolute_error: 0.3728 - val_loss: 0.6611 - val_mean_squared_error: 0.4566 - val_mean_absolute_error: 0.4943\n",
      "\n",
      "Epoch 00028: val_loss did not improve from 0.64542\n",
      "Epoch 29/100\n",
      " - 4s - loss: 0.4801 - mean_squared_error: 0.2446 - mean_absolute_error: 0.3670 - val_loss: 0.6679 - val_mean_squared_error: 0.4671 - val_mean_absolute_error: 0.5021\n",
      "\n",
      "Epoch 00029: val_loss did not improve from 0.64542\n",
      "Epoch 30/100\n",
      " - 4s - loss: 0.4813 - mean_squared_error: 0.2458 - mean_absolute_error: 0.3670 - val_loss: 0.6663 - val_mean_squared_error: 0.4623 - val_mean_absolute_error: 0.5069\n",
      "\n",
      "Epoch 00030: val_loss did not improve from 0.64542\n",
      "Epoch 31/100\n",
      " - 4s - loss: 0.4767 - mean_squared_error: 0.2392 - mean_absolute_error: 0.3600 - val_loss: 0.6589 - val_mean_squared_error: 0.4552 - val_mean_absolute_error: 0.5130\n",
      "\n",
      "Epoch 00031: val_loss did not improve from 0.64542\n",
      "Epoch 32/100\n",
      " - 4s - loss: 0.4697 - mean_squared_error: 0.2339 - mean_absolute_error: 0.3551 - val_loss: 0.6562 - val_mean_squared_error: 0.4502 - val_mean_absolute_error: 0.5158\n",
      "\n",
      "Epoch 00032: val_loss did not improve from 0.64542\n",
      "Epoch 33/100\n",
      " - 4s - loss: 0.4662 - mean_squared_error: 0.2326 - mean_absolute_error: 0.3539 - val_loss: 0.6905 - val_mean_squared_error: 0.5020 - val_mean_absolute_error: 0.5085\n"
     ]
    },
    {
     "name": "stdout",
     "output_type": "stream",
     "text": [
      "\n",
      "Epoch 00033: val_loss did not improve from 0.64542\n",
      "Epoch 34/100\n",
      " - 4s - loss: 0.4656 - mean_squared_error: 0.2286 - mean_absolute_error: 0.3517 - val_loss: 0.6567 - val_mean_squared_error: 0.4487 - val_mean_absolute_error: 0.5086\n",
      "\n",
      "Epoch 00034: val_loss did not improve from 0.64542\n",
      "Epoch 35/100\n",
      " - 3s - loss: 0.4581 - mean_squared_error: 0.2236 - mean_absolute_error: 0.3453 - val_loss: 0.6711 - val_mean_squared_error: 0.4666 - val_mean_absolute_error: 0.5234\n",
      "\n",
      "Epoch 00035: val_loss did not improve from 0.64542\n",
      "Epoch 36/100\n",
      " - 4s - loss: 0.4567 - mean_squared_error: 0.2221 - mean_absolute_error: 0.3448 - val_loss: 0.6608 - val_mean_squared_error: 0.4554 - val_mean_absolute_error: 0.5084\n",
      "\n",
      "Epoch 00036: val_loss did not improve from 0.64542\n",
      "Epoch 37/100\n",
      " - 3s - loss: 0.4544 - mean_squared_error: 0.2187 - mean_absolute_error: 0.3411 - val_loss: 0.6838 - val_mean_squared_error: 0.4913 - val_mean_absolute_error: 0.5110\n",
      "\n",
      "Epoch 00037: val_loss did not improve from 0.64542\n",
      "Epoch 38/100\n",
      " - 3s - loss: 0.4471 - mean_squared_error: 0.2148 - mean_absolute_error: 0.3348 - val_loss: 0.6614 - val_mean_squared_error: 0.4565 - val_mean_absolute_error: 0.5132\n",
      "\n",
      "Epoch 00038: val_loss did not improve from 0.64542\n",
      "Epoch 39/100\n",
      " - 4s - loss: 0.4461 - mean_squared_error: 0.2116 - mean_absolute_error: 0.3322 - val_loss: 0.6642 - val_mean_squared_error: 0.4603 - val_mean_absolute_error: 0.5107\n",
      "\n",
      "Epoch 00039: val_loss did not improve from 0.64542\n",
      "Epoch 40/100\n",
      " - 4s - loss: 0.4454 - mean_squared_error: 0.2111 - mean_absolute_error: 0.3330 - val_loss: 0.6854 - val_mean_squared_error: 0.4893 - val_mean_absolute_error: 0.5262\n",
      "\n",
      "Epoch 00040: val_loss did not improve from 0.64542\n",
      "Epoch 41/100\n",
      " - 3s - loss: 0.4406 - mean_squared_error: 0.2087 - mean_absolute_error: 0.3299 - val_loss: 0.6837 - val_mean_squared_error: 0.4842 - val_mean_absolute_error: 0.5499\n",
      "\n",
      "Epoch 00041: val_loss did not improve from 0.64542\n",
      "Epoch 42/100\n",
      " - 3s - loss: 0.4382 - mean_squared_error: 0.2049 - mean_absolute_error: 0.3283 - val_loss: 0.6728 - val_mean_squared_error: 0.4697 - val_mean_absolute_error: 0.5304\n",
      "\n",
      "Epoch 00042: val_loss did not improve from 0.64542\n"
     ]
    },
    {
     "data": {
      "text/plain": [
       "<keras.callbacks.History at 0x7f59f43a44a8>"
      ]
     },
     "execution_count": 33,
     "metadata": {},
     "output_type": "execute_result"
    }
   ],
   "source": [
    "model.fit([train_query, train_image_embedding_model],train_relevance, epochs=100, verbose=2,\n",
    "          validation_data=([valid_query, valid_image], valid_relevance), batch_size=16,\n",
    "                    callbacks=[checkpointer, earlystopping])"
   ]
  },
  {
   "cell_type": "code",
   "execution_count": 34,
   "metadata": {
    "ExecuteTime": {
     "end_time": "2019-04-25T21:52:24.444066Z",
     "start_time": "2019-04-25T21:52:24.392007Z"
    }
   },
   "outputs": [],
   "source": [
    "model.load_weights('NN_best_image2desc_1.hdf5')"
   ]
  },
  {
   "cell_type": "code",
   "execution_count": 35,
   "metadata": {
    "ExecuteTime": {
     "end_time": "2019-04-25T21:52:24.545280Z",
     "start_time": "2019-04-25T21:52:24.445912Z"
    },
    "scrolled": true
   },
   "outputs": [
    {
     "name": "stdout",
     "output_type": "stream",
     "text": [
      "1544/1544 [==============================] - 0s 111us/step\n"
     ]
    },
    {
     "data": {
      "text/plain": [
       "[0.6757263321950646, 0.4748545041973727, 0.5149182393143215]"
      ]
     },
     "execution_count": 35,
     "metadata": {},
     "output_type": "execute_result"
    }
   ],
   "source": [
    "model.evaluate([data_q_test,test_image_embeddings],test_relevance)"
   ]
  },
  {
   "cell_type": "code",
   "execution_count": 37,
   "metadata": {},
   "outputs": [],
   "source": [
    "predictedResilts = model.predict([data_q_test,test_image_embeddings])\n",
    "resDumpRawImage = []\n",
    "for i in range(len(predictedResilts)):\n",
    "    resDumpRawImage.append((product_query_test[i],product_id_final_test[i],test_relevance[i], np.asscalar(predictedResilts[i])))\n",
    "np.save('resDumpImg2DescOnly', resDumpRawImage)"
   ]
  },
  {
   "cell_type": "code",
   "execution_count": null,
   "metadata": {},
   "outputs": [],
   "source": []
  }
 ],
 "metadata": {
  "kernelspec": {
   "display_name": "Python 3",
   "language": "python",
   "name": "python3"
  },
  "language_info": {
   "codemirror_mode": {
    "name": "ipython",
    "version": 3
   },
   "file_extension": ".py",
   "mimetype": "text/x-python",
   "name": "python",
   "nbconvert_exporter": "python",
   "pygments_lexer": "ipython3",
   "version": "3.6.8"
  },
  "toc": {
   "nav_menu": {},
   "number_sections": true,
   "sideBar": true,
   "skip_h1_title": false,
   "toc_cell": false,
   "toc_position": {},
   "toc_section_display": "block",
   "toc_window_display": false
  }
 },
 "nbformat": 4,
 "nbformat_minor": 2
}
