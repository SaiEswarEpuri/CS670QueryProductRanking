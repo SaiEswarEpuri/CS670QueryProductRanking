{
 "cells": [
  {
   "cell_type": "code",
   "execution_count": 1,
   "metadata": {
    "ExecuteTime": {
     "end_time": "2019-04-25T21:47:00.974391Z",
     "start_time": "2019-04-25T21:46:59.784323Z"
    }
   },
   "outputs": [
    {
     "name": "stderr",
     "output_type": "stream",
     "text": [
      "Using TensorFlow backend.\n"
     ]
    }
   ],
   "source": [
    "import numpy as np\n",
    "import pandas as pd\n",
    "import matplotlib\n",
    "import os\n",
    "from keras.layers import Input, BatchNormalization, Concatenate, Dense, GlobalAveragePooling2D, Dropout, concatenate\n",
    "from keras.models import Model\n",
    "from keras.optimizers import Adam\n",
    "from keras import backend as K\n",
    "from keras import regularizers\n",
    "from keras.callbacks import ModelCheckpoint, ReduceLROnPlateau, EarlyStopping, History, TensorBoard\n",
    "from keras.layers import Embedding, Flatten, Dense\n",
    "from keras.utils import plot_model"
   ]
  },
  {
   "cell_type": "code",
   "execution_count": 2,
   "metadata": {
    "ExecuteTime": {
     "end_time": "2019-04-25T21:47:00.977535Z",
     "start_time": "2019-04-25T21:47:00.975477Z"
    }
   },
   "outputs": [],
   "source": [
    "D = 100 # embedding dimension\n",
    "H = 300 # no.of hidden layer nodes"
   ]
  },
  {
   "cell_type": "code",
   "execution_count": 37,
   "metadata": {},
   "outputs": [],
   "source": [
    "product_desc = np.load('train_desc.npy')\n",
    "product_query = np.load('train_query.npy')\n",
    "product_desc_test = np.load('test_desc.npy')\n",
    "product_query_test = np.load('test_query.npy')\n",
    "train_image_embeddings = np.load('train_image_features.npy')\n",
    "test_image_embeddings = np.load('test_image_features.npy')\n",
    "product_id_final_test = np.load('product_id_final_test.npy')"
   ]
  },
  {
   "cell_type": "code",
   "execution_count": 4,
   "metadata": {},
   "outputs": [
    {
     "data": {
      "text/plain": [
       "(5659, 1000)"
      ]
     },
     "execution_count": 4,
     "metadata": {},
     "output_type": "execute_result"
    }
   ],
   "source": [
    "train_image_embeddings.shape"
   ]
  },
  {
   "cell_type": "code",
   "execution_count": 5,
   "metadata": {},
   "outputs": [],
   "source": [
    "final_text = np.concatenate((product_query, product_query_test),axis=0)"
   ]
  },
  {
   "cell_type": "code",
   "execution_count": 6,
   "metadata": {},
   "outputs": [],
   "source": [
    "import numpy as np\n",
    "modelGlove = {}\n",
    "with open(\"glove.6B.100d.txt\", \"r\", encoding='utf-8') as lines:\n",
    "        line = lines.readline()\n",
    "        while line:\n",
    "            modelGlove[line.split()[0]] = np.array(list(map(float, line.split()[1:])))\n",
    "            line = lines.readline()"
   ]
  },
  {
   "cell_type": "code",
   "execution_count": 7,
   "metadata": {},
   "outputs": [
    {
     "name": "stderr",
     "output_type": "stream",
     "text": [
      "/home/jharsh/miniconda3/envs/kerasGPU1/lib/python3.6/site-packages/keras_preprocessing/text.py:178: UserWarning: The `nb_words` argument in `Tokenizer` has been renamed `num_words`.\n",
      "  warnings.warn('The `nb_words` argument in `Tokenizer` '\n"
     ]
    }
   ],
   "source": [
    "from keras.preprocessing.text import Tokenizer\n",
    "from keras.preprocessing.sequence import pad_sequences\n",
    "MAX_NB_WORDS = 20000\n",
    "tokenizer = Tokenizer(nb_words=MAX_NB_WORDS)\n",
    "tokenizer.fit_on_texts(final_text)\n",
    "sequences_query = tokenizer.texts_to_sequences(product_query)\n",
    "sequence_desc = tokenizer.texts_to_sequences(product_desc)\n",
    "sequences_query_test = tokenizer.texts_to_sequences(product_query_test)\n",
    "sequences_desc_test = tokenizer.texts_to_sequences(product_desc_test)"
   ]
  },
  {
   "cell_type": "code",
   "execution_count": 8,
   "metadata": {},
   "outputs": [
    {
     "name": "stdout",
     "output_type": "stream",
     "text": [
      "Found 476 unique tokens.\n"
     ]
    }
   ],
   "source": [
    "word_index = tokenizer.word_index\n",
    "print('Found %s unique tokens.' % len(word_index))"
   ]
  },
  {
   "cell_type": "code",
   "execution_count": 9,
   "metadata": {},
   "outputs": [],
   "source": [
    "data_d = pad_sequences(sequence_desc, maxlen=300)"
   ]
  },
  {
   "cell_type": "code",
   "execution_count": 10,
   "metadata": {},
   "outputs": [],
   "source": [
    "data_d_test = pad_sequences(sequences_desc_test, maxlen=300)"
   ]
  },
  {
   "cell_type": "code",
   "execution_count": 11,
   "metadata": {},
   "outputs": [],
   "source": [
    "data_q = pad_sequences(sequences_query, maxlen=20)"
   ]
  },
  {
   "cell_type": "code",
   "execution_count": 12,
   "metadata": {},
   "outputs": [],
   "source": [
    "data_q_test = pad_sequences(sequences_query_test, maxlen=20)"
   ]
  },
  {
   "cell_type": "code",
   "execution_count": 13,
   "metadata": {
    "ExecuteTime": {
     "end_time": "2019-04-25T21:47:01.434703Z",
     "start_time": "2019-04-25T21:47:01.337717Z"
    }
   },
   "outputs": [],
   "source": [
    "def root_mean_squared_error(y_true, y_pred):\n",
    "        return K.sqrt(K.mean(K.square(y_pred - y_true)))"
   ]
  },
  {
   "cell_type": "code",
   "execution_count": 14,
   "metadata": {},
   "outputs": [],
   "source": [
    "embedding_matrix = np.zeros((len(word_index) + 1, 100))\n",
    "for word, i in word_index.items():\n",
    "    embedding_vector = modelGlove.get(word)\n",
    "    if embedding_vector is not None:\n",
    "        # words not found in embedding index will be all-zeros.\n",
    "        embedding_matrix[i] = embedding_vector"
   ]
  },
  {
   "cell_type": "code",
   "execution_count": 15,
   "metadata": {},
   "outputs": [],
   "source": [
    "from keras.layers import Embedding\n",
    "\n",
    "embedding_layer_q = Embedding(len(word_index) + 1,\n",
    "                            100,\n",
    "                            weights=[embedding_matrix],\n",
    "                            input_length=20,\n",
    "                            trainable=False)\n",
    "embedding_layer_d = Embedding(len(word_index) + 1,\n",
    "                            100,\n",
    "                            weights=[embedding_matrix],\n",
    "                            input_length=300,\n",
    "                            trainable=False)"
   ]
  },
  {
   "cell_type": "code",
   "execution_count": 16,
   "metadata": {
    "ExecuteTime": {
     "end_time": "2019-04-25T21:47:00.977535Z",
     "start_time": "2019-04-25T21:47:00.975477Z"
    }
   },
   "outputs": [],
   "source": [
    "D = 100 # embedding dimension\n",
    "H = 300 # no.of hidden layer nodes"
   ]
  },
  {
   "cell_type": "code",
   "execution_count": 17,
   "metadata": {
    "ExecuteTime": {
     "end_time": "2019-04-25T21:47:01.197019Z",
     "start_time": "2019-04-25T21:47:00.979067Z"
    }
   },
   "outputs": [],
   "source": [
    "# sequence_input_d = Input(shape=(300,), dtype='int32')\n",
    "# embeddings_d = embedding_layer_d(sequence_input_d)\n",
    "sequence_input_q = Input(shape=(20,), dtype='int32')\n",
    "embeddings_q = embedding_layer_q(sequence_input_q)\n",
    "imageEmbeddingInput = Input(shape=(1000,))\n",
    "x4 = Dense(500,activation='relu')(imageEmbeddingInput)\n",
    "# embedding_layer_d_flatten = Flatten()(embeddings_d) \n",
    "embedding_layer_q_flatten = Flatten()(embeddings_q)\n",
    "x3 = Dense(H,activation='relu')(x4)\n",
    "# x1 = Dense(H,activation='relu')(embedding_layer_d_flatten)\n",
    "x2 = Dense(H,activation='relu')(embedding_layer_q_flatten)\n",
    "merge_x = concatenate([x2,x3])\n",
    "x4 = Dense(H,activation='relu')(merge_x)\n",
    "x4 = Dense(H//4,activation='relu')(x4)\n",
    "x4 = Dense(H//16,activation='relu')(x4)\n",
    "#x4 = Dropout(0.5)(x4)\n",
    "final_x = Dense(1)(x4)"
   ]
  },
  {
   "cell_type": "code",
   "execution_count": 18,
   "metadata": {
    "ExecuteTime": {
     "end_time": "2019-04-25T21:47:01.201750Z",
     "start_time": "2019-04-25T21:47:01.198312Z"
    }
   },
   "outputs": [],
   "source": [
    "model = Model(inputs=[sequence_input_q,imageEmbeddingInput], outputs=final_x)\n"
   ]
  },
  {
   "cell_type": "code",
   "execution_count": 19,
   "metadata": {
    "ExecuteTime": {
     "end_time": "2019-04-25T21:47:01.333015Z",
     "start_time": "2019-04-25T21:47:01.203516Z"
    },
    "scrolled": true
   },
   "outputs": [
    {
     "name": "stdout",
     "output_type": "stream",
     "text": [
      "__________________________________________________________________________________________________\n",
      "Layer (type)                    Output Shape         Param #     Connected to                     \n",
      "==================================================================================================\n",
      "input_1 (InputLayer)            (None, 20)           0                                            \n",
      "__________________________________________________________________________________________________\n",
      "embedding_1 (Embedding)         (None, 20, 100)      47700       input_1[0][0]                    \n",
      "__________________________________________________________________________________________________\n",
      "input_2 (InputLayer)            (None, 1000)         0                                            \n",
      "__________________________________________________________________________________________________\n",
      "flatten_1 (Flatten)             (None, 2000)         0           embedding_1[0][0]                \n",
      "__________________________________________________________________________________________________\n",
      "dense_1 (Dense)                 (None, 500)          500500      input_2[0][0]                    \n",
      "__________________________________________________________________________________________________\n",
      "dense_3 (Dense)                 (None, 300)          600300      flatten_1[0][0]                  \n",
      "__________________________________________________________________________________________________\n",
      "dense_2 (Dense)                 (None, 300)          150300      dense_1[0][0]                    \n",
      "__________________________________________________________________________________________________\n",
      "concatenate_1 (Concatenate)     (None, 600)          0           dense_3[0][0]                    \n",
      "                                                                 dense_2[0][0]                    \n",
      "__________________________________________________________________________________________________\n",
      "dense_4 (Dense)                 (None, 300)          180300      concatenate_1[0][0]              \n",
      "__________________________________________________________________________________________________\n",
      "dense_5 (Dense)                 (None, 75)           22575       dense_4[0][0]                    \n",
      "__________________________________________________________________________________________________\n",
      "dense_6 (Dense)                 (None, 18)           1368        dense_5[0][0]                    \n",
      "__________________________________________________________________________________________________\n",
      "dense_7 (Dense)                 (None, 1)            19          dense_6[0][0]                    \n",
      "==================================================================================================\n",
      "Total params: 1,503,062\n",
      "Trainable params: 1,455,362\n",
      "Non-trainable params: 47,700\n",
      "__________________________________________________________________________________________________\n"
     ]
    }
   ],
   "source": [
    "model.summary()"
   ]
  },
  {
   "cell_type": "code",
   "execution_count": 20,
   "metadata": {},
   "outputs": [],
   "source": [
    "plot_model(model, to_file='model.png')"
   ]
  },
  {
   "cell_type": "code",
   "execution_count": 21,
   "metadata": {
    "ExecuteTime": {
     "end_time": "2019-04-25T21:47:01.600047Z",
     "start_time": "2019-04-25T21:47:01.438803Z"
    }
   },
   "outputs": [],
   "source": [
    "model.compile(loss=root_mean_squared_error,\n",
    "              optimizer=Adam(lr=0.0001),\n",
    "              metrics=['mse','mae'])"
   ]
  },
  {
   "cell_type": "code",
   "execution_count": 22,
   "metadata": {},
   "outputs": [],
   "source": [
    "train_relevance = np.load('final_train_Y.npy')"
   ]
  },
  {
   "cell_type": "code",
   "execution_count": 23,
   "metadata": {},
   "outputs": [],
   "source": [
    "test_relevance = np.load('final_test_Y.npy')"
   ]
  },
  {
   "cell_type": "code",
   "execution_count": 24,
   "metadata": {},
   "outputs": [
    {
     "data": {
      "text/plain": [
       "(1544,)"
      ]
     },
     "execution_count": 24,
     "metadata": {},
     "output_type": "execute_result"
    }
   ],
   "source": [
    "test_relevance.shape"
   ]
  },
  {
   "cell_type": "code",
   "execution_count": 25,
   "metadata": {},
   "outputs": [
    {
     "data": {
      "text/plain": [
       "(5659,)"
      ]
     },
     "execution_count": 25,
     "metadata": {},
     "output_type": "execute_result"
    }
   ],
   "source": [
    "train_relevance.shape"
   ]
  },
  {
   "cell_type": "code",
   "execution_count": 26,
   "metadata": {
    "ExecuteTime": {
     "end_time": "2019-04-25T21:47:01.850277Z",
     "start_time": "2019-04-25T21:47:01.727479Z"
    }
   },
   "outputs": [],
   "source": [
    "from sklearn.utils import shuffle\n",
    "train_query, train_image_embedding_model, train_relevance = shuffle(data_q, train_image_embeddings, train_relevance)"
   ]
  },
  {
   "cell_type": "code",
   "execution_count": 27,
   "metadata": {},
   "outputs": [
    {
     "data": {
      "text/plain": [
       "((5659, 20), (5659,), (5659, 1000))"
      ]
     },
     "execution_count": 27,
     "metadata": {},
     "output_type": "execute_result"
    }
   ],
   "source": [
    "train_query.shape, train_relevance.shape, train_image_embedding_model.shape"
   ]
  },
  {
   "cell_type": "code",
   "execution_count": 28,
   "metadata": {
    "ExecuteTime": {
     "end_time": "2019-04-25T21:47:01.945739Z",
     "start_time": "2019-04-25T21:47:01.852467Z"
    }
   },
   "outputs": [],
   "source": [
    "train_valid_split = 5000"
   ]
  },
  {
   "cell_type": "code",
   "execution_count": 29,
   "metadata": {
    "ExecuteTime": {
     "end_time": "2019-04-25T21:47:02.057134Z",
     "start_time": "2019-04-25T21:47:01.949907Z"
    }
   },
   "outputs": [],
   "source": [
    "valid_query = train_query[train_valid_split:]\n",
    "valid_relevance = train_relevance[train_valid_split:]\n",
    "valid_image = train_image_embedding_model[train_valid_split:]"
   ]
  },
  {
   "cell_type": "code",
   "execution_count": 30,
   "metadata": {},
   "outputs": [
    {
     "data": {
      "text/plain": [
       "(659, 1000)"
      ]
     },
     "execution_count": 30,
     "metadata": {},
     "output_type": "execute_result"
    }
   ],
   "source": [
    "valid_image.shape\n"
   ]
  },
  {
   "cell_type": "code",
   "execution_count": 31,
   "metadata": {
    "ExecuteTime": {
     "end_time": "2019-04-25T21:47:02.179095Z",
     "start_time": "2019-04-25T21:47:02.061202Z"
    }
   },
   "outputs": [],
   "source": [
    "train_query = train_query[:train_valid_split]\n",
    "train_relevance = train_relevance[:train_valid_split]\n",
    "train_image_embedding_model = train_image_embedding_model[:train_valid_split]"
   ]
  },
  {
   "cell_type": "code",
   "execution_count": 32,
   "metadata": {
    "ExecuteTime": {
     "end_time": "2019-04-25T21:47:02.609733Z",
     "start_time": "2019-04-25T21:47:02.606308Z"
    }
   },
   "outputs": [],
   "source": [
    "checkpointer = ModelCheckpoint(filepath='NN_best_1.hdf5', verbose=1, save_best_only=True, save_weights_only=True)\n",
    "reduceLR = ReduceLROnPlateau(monitor='val_loss', factor=0.1, patience=20, min_lr=0)\n",
    "earlystopping = EarlyStopping(monitor='val_loss', patience=20)\n",
    "os.environ[\"CUDA_VISIBLE_DEVICES\"]=\"0\""
   ]
  },
  {
   "cell_type": "code",
   "execution_count": 33,
   "metadata": {
    "ExecuteTime": {
     "end_time": "2019-04-25T21:52:24.390605Z",
     "start_time": "2019-04-25T21:47:02.611454Z"
    },
    "scrolled": true
   },
   "outputs": [
    {
     "name": "stdout",
     "output_type": "stream",
     "text": [
      "Train on 5000 samples, validate on 659 samples\n",
      "Epoch 1/100\n",
      " - 7s - loss: 1.0202 - mean_squared_error: 1.3508 - mean_absolute_error: 0.8597 - val_loss: 0.8017 - val_mean_squared_error: 0.6709 - val_mean_absolute_error: 0.6582\n",
      "\n",
      "Epoch 00001: val_loss improved from inf to 0.80168, saving model to NN_best_1.hdf5\n",
      "Epoch 2/100\n",
      " - 5s - loss: 0.7225 - mean_squared_error: 0.5438 - mean_absolute_error: 0.5704 - val_loss: 0.7985 - val_mean_squared_error: 0.6591 - val_mean_absolute_error: 0.6702\n",
      "\n",
      "Epoch 00002: val_loss improved from 0.80168 to 0.79847, saving model to NN_best_1.hdf5\n",
      "Epoch 3/100\n",
      " - 4s - loss: 0.7021 - mean_squared_error: 0.5151 - mean_absolute_error: 0.5540 - val_loss: 0.7547 - val_mean_squared_error: 0.5980 - val_mean_absolute_error: 0.5742\n",
      "\n",
      "Epoch 00003: val_loss improved from 0.79847 to 0.75467, saving model to NN_best_1.hdf5\n",
      "Epoch 4/100\n",
      " - 5s - loss: 0.6890 - mean_squared_error: 0.4977 - mean_absolute_error: 0.5402 - val_loss: 0.7618 - val_mean_squared_error: 0.6072 - val_mean_absolute_error: 0.5968\n",
      "\n",
      "Epoch 00004: val_loss did not improve from 0.75467\n",
      "Epoch 5/100\n",
      " - 4s - loss: 0.6804 - mean_squared_error: 0.4821 - mean_absolute_error: 0.5331 - val_loss: 0.7637 - val_mean_squared_error: 0.6067 - val_mean_absolute_error: 0.6246\n",
      "\n",
      "Epoch 00005: val_loss did not improve from 0.75467\n",
      "Epoch 6/100\n",
      " - 4s - loss: 0.6723 - mean_squared_error: 0.4751 - mean_absolute_error: 0.5265 - val_loss: 0.7577 - val_mean_squared_error: 0.6042 - val_mean_absolute_error: 0.5709\n",
      "\n",
      "Epoch 00006: val_loss did not improve from 0.75467\n",
      "Epoch 7/100\n",
      " - 4s - loss: 0.6627 - mean_squared_error: 0.4593 - mean_absolute_error: 0.5159 - val_loss: 0.7730 - val_mean_squared_error: 0.6226 - val_mean_absolute_error: 0.6348\n",
      "\n",
      "Epoch 00007: val_loss did not improve from 0.75467\n",
      "Epoch 8/100\n",
      " - 4s - loss: 0.6603 - mean_squared_error: 0.4555 - mean_absolute_error: 0.5143 - val_loss: 0.7569 - val_mean_squared_error: 0.6014 - val_mean_absolute_error: 0.5813\n",
      "\n",
      "Epoch 00008: val_loss did not improve from 0.75467\n",
      "Epoch 9/100\n",
      " - 4s - loss: 0.6480 - mean_squared_error: 0.4396 - mean_absolute_error: 0.5049 - val_loss: 0.7611 - val_mean_squared_error: 0.6066 - val_mean_absolute_error: 0.6128\n",
      "\n",
      "Epoch 00009: val_loss did not improve from 0.75467\n",
      "Epoch 10/100\n",
      " - 4s - loss: 0.6453 - mean_squared_error: 0.4344 - mean_absolute_error: 0.5025 - val_loss: 0.7587 - val_mean_squared_error: 0.6038 - val_mean_absolute_error: 0.5811\n",
      "\n",
      "Epoch 00010: val_loss did not improve from 0.75467\n",
      "Epoch 11/100\n",
      " - 4s - loss: 0.6376 - mean_squared_error: 0.4247 - mean_absolute_error: 0.4928 - val_loss: 0.7720 - val_mean_squared_error: 0.6180 - val_mean_absolute_error: 0.6284\n",
      "\n",
      "Epoch 00011: val_loss did not improve from 0.75467\n",
      "Epoch 12/100\n",
      " - 4s - loss: 0.6323 - mean_squared_error: 0.4187 - mean_absolute_error: 0.4882 - val_loss: 0.7953 - val_mean_squared_error: 0.6553 - val_mean_absolute_error: 0.6617\n",
      "\n",
      "Epoch 00012: val_loss did not improve from 0.75467\n",
      "Epoch 13/100\n",
      " - 4s - loss: 0.6241 - mean_squared_error: 0.4078 - mean_absolute_error: 0.4817 - val_loss: 0.7721 - val_mean_squared_error: 0.6234 - val_mean_absolute_error: 0.5941\n",
      "\n",
      "Epoch 00013: val_loss did not improve from 0.75467\n",
      "Epoch 14/100\n",
      " - 4s - loss: 0.6190 - mean_squared_error: 0.4009 - mean_absolute_error: 0.4810 - val_loss: 0.7704 - val_mean_squared_error: 0.6198 - val_mean_absolute_error: 0.6185\n",
      "\n",
      "Epoch 00014: val_loss did not improve from 0.75467\n",
      "Epoch 15/100\n",
      " - 5s - loss: 0.6049 - mean_squared_error: 0.3845 - mean_absolute_error: 0.4667 - val_loss: 0.7826 - val_mean_squared_error: 0.6430 - val_mean_absolute_error: 0.5935\n",
      "\n",
      "Epoch 00015: val_loss did not improve from 0.75467\n",
      "Epoch 16/100\n",
      " - 5s - loss: 0.6050 - mean_squared_error: 0.3844 - mean_absolute_error: 0.4640 - val_loss: 0.7788 - val_mean_squared_error: 0.6302 - val_mean_absolute_error: 0.6243\n",
      "\n",
      "Epoch 00016: val_loss did not improve from 0.75467\n",
      "Epoch 17/100\n",
      " - 5s - loss: 0.5969 - mean_squared_error: 0.3730 - mean_absolute_error: 0.4598 - val_loss: 0.7734 - val_mean_squared_error: 0.6251 - val_mean_absolute_error: 0.6139\n",
      "\n",
      "Epoch 00017: val_loss did not improve from 0.75467\n",
      "Epoch 18/100\n",
      " - 4s - loss: 0.5835 - mean_squared_error: 0.3591 - mean_absolute_error: 0.4457 - val_loss: 0.7786 - val_mean_squared_error: 0.6359 - val_mean_absolute_error: 0.6085\n",
      "\n",
      "Epoch 00018: val_loss did not improve from 0.75467\n",
      "Epoch 19/100\n",
      " - 4s - loss: 0.5744 - mean_squared_error: 0.3488 - mean_absolute_error: 0.4394 - val_loss: 0.7899 - val_mean_squared_error: 0.6545 - val_mean_absolute_error: 0.6175\n",
      "\n",
      "Epoch 00019: val_loss did not improve from 0.75467\n",
      "Epoch 20/100\n",
      " - 4s - loss: 0.5660 - mean_squared_error: 0.3376 - mean_absolute_error: 0.4330 - val_loss: 0.7897 - val_mean_squared_error: 0.6571 - val_mean_absolute_error: 0.6218\n",
      "\n",
      "Epoch 00020: val_loss did not improve from 0.75467\n",
      "Epoch 21/100\n",
      " - 4s - loss: 0.5584 - mean_squared_error: 0.3305 - mean_absolute_error: 0.4241 - val_loss: 0.7970 - val_mean_squared_error: 0.6711 - val_mean_absolute_error: 0.6104\n",
      "\n",
      "Epoch 00021: val_loss did not improve from 0.75467\n",
      "Epoch 22/100\n",
      " - 4s - loss: 0.5456 - mean_squared_error: 0.3128 - mean_absolute_error: 0.4114 - val_loss: 0.8170 - val_mean_squared_error: 0.7024 - val_mean_absolute_error: 0.6346\n",
      "\n",
      "Epoch 00022: val_loss did not improve from 0.75467\n",
      "Epoch 23/100\n",
      " - 4s - loss: 0.5398 - mean_squared_error: 0.3100 - mean_absolute_error: 0.4084 - val_loss: 0.8083 - val_mean_squared_error: 0.6840 - val_mean_absolute_error: 0.6330\n",
      "\n",
      "Epoch 00023: val_loss did not improve from 0.75467\n"
     ]
    },
    {
     "data": {
      "text/plain": [
       "<keras.callbacks.History at 0x7f6ab00229e8>"
      ]
     },
     "execution_count": 33,
     "metadata": {},
     "output_type": "execute_result"
    }
   ],
   "source": [
    "model.fit([train_query, train_image_embedding_model],train_relevance, epochs=100, verbose=2,\n",
    "          validation_data=([valid_query, valid_image], valid_relevance), batch_size=16,\n",
    "                    callbacks=[checkpointer, earlystopping])"
   ]
  },
  {
   "cell_type": "code",
   "execution_count": 34,
   "metadata": {
    "ExecuteTime": {
     "end_time": "2019-04-25T21:52:24.444066Z",
     "start_time": "2019-04-25T21:52:24.392007Z"
    }
   },
   "outputs": [],
   "source": [
    "model.load_weights('NN_best_1.hdf5')"
   ]
  },
  {
   "cell_type": "code",
   "execution_count": 35,
   "metadata": {
    "ExecuteTime": {
     "end_time": "2019-04-25T21:52:24.545280Z",
     "start_time": "2019-04-25T21:52:24.445912Z"
    },
    "scrolled": true
   },
   "outputs": [
    {
     "name": "stdout",
     "output_type": "stream",
     "text": [
      "1544/1544 [==============================] - 0s 115us/step\n"
     ]
    },
    {
     "data": {
      "text/plain": [
       "[0.7401169408788335, 0.5740870790160382, 0.5616826368737097]"
      ]
     },
     "execution_count": 35,
     "metadata": {},
     "output_type": "execute_result"
    }
   ],
   "source": [
    "model.evaluate([data_q_test,test_image_embeddings],test_relevance)"
   ]
  },
  {
   "cell_type": "code",
   "execution_count": 36,
   "metadata": {},
   "outputs": [],
   "source": [
    "predictedResilts = model.predict([data_q_test,test_image_embeddings])"
   ]
  },
  {
   "cell_type": "code",
   "execution_count": 43,
   "metadata": {},
   "outputs": [],
   "source": [
    "resDumpRawImage = []\n",
    "for i in range(len(predictedResilts)):\n",
    "    resDumpRawImage.append((product_query_test[i],product_id_final_test[i],test_relevance[i], np.asscalar(predictedResilts[i])))\n",
    "    "
   ]
  },
  {
   "cell_type": "code",
   "execution_count": 44,
   "metadata": {},
   "outputs": [
    {
     "data": {
      "text/plain": [
       "('16gb memory card', 711162616, 4.0, 3.974149465560913)"
      ]
     },
     "execution_count": 44,
     "metadata": {},
     "output_type": "execute_result"
    }
   ],
   "source": [
    "resDumpRawImage[0]"
   ]
  },
  {
   "cell_type": "code",
   "execution_count": 45,
   "metadata": {},
   "outputs": [],
   "source": [
    "np.save('resDumpRawImage', resDumpRawImage)"
   ]
  },
  {
   "cell_type": "code",
   "execution_count": null,
   "metadata": {},
   "outputs": [],
   "source": []
  }
 ],
 "metadata": {
  "kernelspec": {
   "display_name": "Python 3",
   "language": "python",
   "name": "python3"
  },
  "language_info": {
   "codemirror_mode": {
    "name": "ipython",
    "version": 3
   },
   "file_extension": ".py",
   "mimetype": "text/x-python",
   "name": "python",
   "nbconvert_exporter": "python",
   "pygments_lexer": "ipython3",
   "version": "3.6.8"
  },
  "toc": {
   "nav_menu": {},
   "number_sections": true,
   "sideBar": true,
   "skip_h1_title": false,
   "toc_cell": false,
   "toc_position": {},
   "toc_section_display": "block",
   "toc_window_display": false
  }
 },
 "nbformat": 4,
 "nbformat_minor": 2
}
